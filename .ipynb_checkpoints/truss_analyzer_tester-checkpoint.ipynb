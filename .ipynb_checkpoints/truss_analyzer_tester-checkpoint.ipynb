{
 "cells": [
  {
   "cell_type": "markdown",
   "id": "1dffca44-91b7-4164-9ca9-dc05d821b460",
   "metadata": {},
   "source": [
    "# Truss Analyer Testing Zone"
   ]
  },
  {
   "cell_type": "code",
   "execution_count": 2,
   "id": "6bad0563-1544-4c23-945e-fdf5bc77eef1",
   "metadata": {},
   "outputs": [
    {
     "name": "stdout",
     "output_type": "stream",
     "text": [
      "The autoreload extension is already loaded. To reload it, use:\n",
      "  %reload_ext autoreload\n"
     ]
    }
   ],
   "source": [
    "%load_ext autoreload\n",
    "%autoreload 2"
   ]
  },
  {
   "cell_type": "code",
   "execution_count": 4,
   "id": "64d51795-c919-48f7-ad38-c91181ebb894",
   "metadata": {},
   "outputs": [],
   "source": [
    "import math\n",
    "from PyNite import FEModel3D\n",
    "from PyNite.Visualization import render_model\n",
    "from rich import print\n",
    "import pandas as pd\n",
    "import matplotlib.pyplot as plt\n",
    "# import truss_input as ti\n",
    "import truss_model as tm"
   ]
  },
  {
   "cell_type": "code",
   "execution_count": null,
   "id": "b23deba8-e609-4c62-b4d4-a99868be0412",
   "metadata": {},
   "outputs": [],
   "source": [
    "top_nodes = []\n",
    "bot_nodes = []\n",
    "d_w = L/(n/2)\n",
    "for i, loc in enumerate(list(np.linspace(0, L, int(n/2+1)))):\n",
    "    t_node = [loc, d]\n",
    "    top_nodes.append(t_node)\n",
    "    if i == 0:\n",
    "        continue\n",
    "    else: \n",
    "        b_node = [loc-d_w/2, 0] \n",
    "        bot_nodes.append(b_node)"
   ]
  }
 ],
 "metadata": {
  "kernelspec": {
   "display_name": "Python 3.10 (pfse)",
   "language": "python",
   "name": "pfse"
  },
  "language_info": {
   "codemirror_mode": {
    "name": "ipython",
    "version": 3
   },
   "file_extension": ".py",
   "mimetype": "text/x-python",
   "name": "python",
   "nbconvert_exporter": "python",
   "pygments_lexer": "ipython3",
   "version": "3.11.7"
  }
 },
 "nbformat": 4,
 "nbformat_minor": 5
}
