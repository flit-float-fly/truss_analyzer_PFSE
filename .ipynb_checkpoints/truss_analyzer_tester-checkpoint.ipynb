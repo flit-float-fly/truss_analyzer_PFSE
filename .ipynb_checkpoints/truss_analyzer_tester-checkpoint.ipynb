{
 "cells": [
  {
   "cell_type": "markdown",
   "id": "1dffca44-91b7-4164-9ca9-dc05d821b460",
   "metadata": {},
   "source": [
    "# Truss Analyer Testing Zone"
   ]
  },
  {
   "cell_type": "code",
   "execution_count": 1,
   "id": "6bad0563-1544-4c23-945e-fdf5bc77eef1",
   "metadata": {},
   "outputs": [],
   "source": [
    "%load_ext autoreload\n",
    "%autoreload 2"
   ]
  },
  {
   "cell_type": "code",
   "execution_count": 2,
   "id": "64d51795-c919-48f7-ad38-c91181ebb894",
   "metadata": {},
   "outputs": [],
   "source": [
    "import numpy as np\n",
    "import pandas as pd\n",
    "import re\n",
    "import math\n",
    "import pandas as pd\n",
    "from PyNite import FEModel3D\n",
    "from PyNite.Visualization import render_model\n",
    "from rich import print\n",
    "import matplotlib.pyplot as plt\n",
    "# import truss_input as ti\n",
    "import truss_model as tm"
   ]
  },
  {
   "cell_type": "code",
   "execution_count": null,
   "id": "009389df-ecdc-4470-afe1-369629d2c619",
   "metadata": {},
   "outputs": [],
   "source": [
    "mem_properties_df = pd.read_csv(\"OWSJ_member_properties_canam.csv\", header = None)\n",
    "\n",
    "# create round bar df\n",
    "round_bar_df = mem_properties_df.iloc[0:11,0:15]\n",
    "round_bar_df.dropna(how='all', inplace=True, axis=1)\n",
    "round_bar_df = round_bar_df.loc[2:]\n",
    "round_bar_df.reset_index(inplace=True, drop=True)\n",
    "round_bar_df.columns = [\"dia (in)\", \"Forming\", \"Mass (kg/m)\", \"Area (mm2)\", \"I (1e3 mm4)\", \"r (mm)\"]\n",
    "\n",
    "# create U-Bar df\n",
    "u_bar_df = mem_properties_df.iloc[12:29]\n",
    "u_bar_df.dropna(how='all', inplace=True, axis=1)\n",
    "u_bar_df = u_bar_df.iloc[3:]\n",
    "u_bar_df.reset_index(inplace=True, drop=True)\n",
    "u_bar_df[\"size\"] = u_bar_df.loc[:,:5].apply(lambda row: ''.join(row.astype(str)), axis=1) #combine the first 6 columns into 1\n",
    "u_bar_df = pd.merge(u_bar_df[\"size\"], u_bar_df.loc[:,7:])\n",
    "u_bar_df.columns = [\"size (in)\", \"Forming\", \"Mass (kg/m)\", \"Area (mm2)\", \"y (mm)\", \"Ixx (1e3 mm4)\", \"rxx (mm)\", \"Iyy (1e3 mm4)\", \"ryy (mm)\"]\n",
    "\n",
    "# create double angle df\n",
    "dbl_angle_df = mem_properties_df.iloc[30:89]\n",
    "dbl_angle_df.dropna(how='all', inplace=True, axis=1)\n",
    "dbl_angle_df = dbl_angle_df.iloc[3:]\n",
    "dbl_angle_df.reset_index(inplace=True, drop=True)\n",
    "dbl_angle_df[\"size\"] = dbl_angle_df.loc[:,:5].apply(lambda row: ''.join(row.astype(str)), axis=1) #combine the first 6 columns into 1\n",
    "dbl_angle_df = pd.merge(dbl_angle_df[\"size\"], dbl_angle_df.loc[:,7:])\n",
    "dbl_angle_df.columns = [\"size (in)\", \"Forming\", \"Mass (kg/m)\", \"Area (mm2)\", \"y (mm)\", \"Ixx (1e3 mm4)\", \"rxx (mm)\", \"12.7 gap (mm)\", \"19 gap (mm)\", \"25 gap (mm)\", \"35 gap (mm)\", \"45 gap (mm)\", \"60 gap (mm)\", \"rz (mm)\"]"
   ]
  },
  {
   "cell_type": "code",
   "execution_count": 7,
   "id": "b23deba8-e609-4c62-b4d4-a99868be0412",
   "metadata": {},
   "outputs": [],
   "source": [
    "# # truss_type = \"Warren\"\n",
    "# # truss_type = \"Modified Warren\"\n",
    "# truss_type = \"Pratt\"\n",
    "# n = 15\n",
    "# L = 15000\n",
    "# d = 1100\n",
    "# f_load = 8\n",
    "\n",
    "# top_nodes = []\n",
    "# bot_nodes = []\n",
    "\n",
    "# if truss_type == \"Warren\":\n",
    "#     n_nodes_b = n/2\n",
    "#     n_nodes_t = n_nodes_b + 1\n",
    "#     dist_w_b = L/(n/2) #distance between bottom nodes\n",
    "#     for i, loc in enumerate(list(np.linspace(0, L, int(n_nodes_t)))):\n",
    "#         t_node = [loc, d]\n",
    "#         top_nodes.append(t_node)\n",
    "#         if i == 0:\n",
    "#             continue\n",
    "#         else: \n",
    "#             b_node = [loc-dist_w_b/2, 0] \n",
    "#             bot_nodes.append(b_node)\n",
    "\n",
    "# elif truss_type == \"Modified Warren\":\n",
    "#     n_nodes_b = n/3\n",
    "#     n_nodes_t = 2*n_nodes_b + 1\n",
    "#     for i, loc in enumerate(list(np.linspace(0, L, int(n_nodes_t)))):\n",
    "#         t_node = [loc, d]\n",
    "#         top_nodes.append(t_node)\n",
    "#         if (i % 2 != 0): #add a bottom node for every even top node\n",
    "#             b_node = [loc, 0] \n",
    "#             bot_nodes.append(b_node)\n",
    "\n",
    "# else:\n",
    "#     n_nodes_b = (n-1)/2\n",
    "#     n_nodes_t = n_nodes_b + 2\n",
    "#     for i, loc in enumerate(list(np.linspace(0, L, int(n_nodes_t)))):\n",
    "#         t_node = [loc, d]\n",
    "#         top_nodes.append(t_node)\n",
    "#         if (i == 0) or (i == n_nodes_t-1):\n",
    "#             continue\n",
    "#         else: \n",
    "#             b_node = [loc, 0] \n",
    "#             bot_nodes.append(b_node)\n"
   ]
  },
  {
   "cell_type": "code",
   "execution_count": 18,
   "id": "ec1ed120-f73f-4e04-8405-9461143d51b4",
   "metadata": {},
   "outputs": [
    {
     "name": "stdout",
     "output_type": "stream",
     "text": [
      "+----------------+\n",
      "| Statics Check: |\n",
      "+----------------+\n",
      "\n",
      "+------------------+--------+----------+----------+---------+--------+--------+--------+---------+--------+---------+--------+---------+\n",
      "| Load Combination | Sum FX |  Sum RX  |  Sum FY  |  Sum RY | Sum FZ | Sum RZ | Sum MX | Sum RMX | Sum MY | Sum RMY | Sum MZ | Sum RMZ |\n",
      "+------------------+--------+----------+----------+---------+--------+--------+--------+---------+--------+---------+--------+---------+\n",
      "|        LC        |   0    | 8.73e-10 | -1.2e+05 | 1.2e+05 |   0    |   0    |   0    |    0    |   0    |    0    | -9e+08 |  9e+08  |\n",
      "+------------------+--------+----------+----------+---------+--------+--------+--------+---------+--------+---------+--------+---------+\n",
      "\n"
     ]
    },
    {
     "data": {
      "image/png": "[encoded data removed]",
      "text/plain": [
       "<Figure size 640x480 with 1 Axes>"
      ]
     },
     "metadata": {},
     "output_type": "display_data"
    }
   ],
   "source": [
    "# truss = tm.truss_model(top_nodes, bot_nodes, truss_type, f_load)\n",
    "# # render_model(truss, combo_name=\"LC\", annotation_size=50, labels = False )\n",
    "# render_model(truss, combo_name=\"LC\", annotation_size=200)\n",
    "# truss.analyze(check_statics=True)\n",
    "# truss.Members['V3'].plot_axial(combo_name=\"LC\", n_points=1000)"
   ]
  },
  {
   "cell_type": "code",
   "execution_count": 38,
   "id": "97a68384-059e-447d-816e-3b76a11d385d",
   "metadata": {},
   "outputs": [
    {
     "data": {
      "text/plain": [
       "{'TC': -206,\n",
       " 'BC': 193,\n",
       " 'WD0': 106,\n",
       " 'WD1': 73,\n",
       " 'WD2': 44,\n",
       " 'WD3': 14,\n",
       " 'WU3': 14,\n",
       " 'WU4': 44,\n",
       " 'WU5': 73,\n",
       " 'WU6': 106,\n",
       " 'V0': -53,\n",
       " 'V1': -37,\n",
       " 'V2': -22,\n",
       " 'V3': -14,\n",
       " 'V4': -22,\n",
       " 'V5': -37,\n",
       " 'V6': -53}"
      ]
     },
     "execution_count": 38,
     "metadata": {},
     "output_type": "execute_result"
    }
   ],
   "source": [
    "# axial_dict = {}\n",
    "# for mem in truss.Members:\n",
    "#     mem_mid = truss.Members[mem].L()/2\n",
    "#     ax = truss.Members[mem].axial(mem_mid, combo_name=\"LC\")\n",
    "#     axial_dict[mem] = -int(ax/1000)\n",
    "# axial_dict"
   ]
  },
  {
   "cell_type": "code",
   "execution_count": 7,
   "id": "41aa437a-4f32-4f1f-86f9-0e9d08688849",
   "metadata": {
    "scrolled": true
   },
   "outputs": [],
   "source": [
    "# # Import and clean Canam's tables\n",
    "\n",
    "# def remove_comma(cell):\n",
    "#     number = float(cell.replace(',', ''))\n",
    "#     return number\n",
    "\n",
    "# canam_df = pd.read_csv('OWSJ_tables_canam.csv',header=1)\n",
    "# canam_df.rename(columns={canam_df.columns[0]: 'span', canam_df.columns[1]: 'depth'}, inplace=True)\n",
    "# canam_df['span'].ffill(inplace=True)\n",
    "# canam_df['span']= canam_df['span']*1000\n",
    "# canam_df['depth'] = canam_df['depth'].apply(remove_comma)\n",
    "# canam_df['depth'] = canam_df['depth'].astype(float)\n",
    "# canam_df.head(10)\n",
    "\n",
    "# # save as json for linux reading\n",
    "# # canam_df.to_json('canam_df.json', orient='records')"
   ]
  },
  {
   "cell_type": "code",
   "execution_count": 8,
   "id": "ac66c09a-b234-49ec-bef2-b1d1184f4962",
   "metadata": {},
   "outputs": [],
   "source": [
    "# # Import Vulcraft's data\n",
    "# vulcraft_df = pd.read_csv('OWSJ_tables_vulcraft.csv', header=1)\n",
    "# vulcraft_df.rename(columns={\"Factored Load\": 'value'}, inplace=True)\n",
    "# vulcraft_df.columns = [col.lower() for col in vulcraft_df]\n",
    "# #drop first row and all bridging rows\n",
    "# vulcraft_df.drop(index=0, inplace=True)\n",
    "# vulcraft_df = vulcraft_df[~vulcraft_df['value'].str.contains('Bridg.')]\n",
    "# #fill depths\n",
    "# vulcraft_df['depth'].bfill(inplace=True)\n",
    "# #convert all span values to mm\n",
    "# vulcraft_df.span = vulcraft_df.span.astype(float)\n",
    "# vulcraft_df.span = vulcraft_df.span*1000\n",
    "# vulcraft_df.head(30)\n",
    "\n",
    "# # save as json for linux reading\n",
    "# # vulcraft_df.to_json('vulcraft_df.json', orient='records')"
   ]
  },
  {
   "cell_type": "code",
   "execution_count": 9,
   "id": "cd9b5771-a03d-44b8-bd07-93255439b301",
   "metadata": {},
   "outputs": [],
   "source": [
    "# # Import Omega's tables\n",
    "\n",
    "# def find_span(cell):\n",
    "#     if \"SPAN\" in cell:\n",
    "#         match_span = re.search(r'\\b(\\d+)\\b', cell)\n",
    "#         return match_span.group(1)\n",
    "#     else:\n",
    "#         return np.nan\n",
    "\n",
    "# omega_df = pd.read_csv('OWSJ_tables_omega.csv', header=None)\n",
    "# col_names = [\"depth\", \"D/D\", \"E/D\", \"E/E\", \"F/E\", \"F/F\", \"G/F\", \"G/G\", \"H/G\", \"H/H\", \"K/H\", \"K/K\", \"L/K\", \"L/L\"]\n",
    "# omega_df.columns = col_names\n",
    "# omega_df['span'] = omega_df['depth'].apply(find_span)\n",
    "# omega_df['span'].ffill(inplace=True)\n",
    "# columns = ['span'] + [col for col in omega_df if col != 'span']\n",
    "# omega_df = omega_df[columns]\n",
    "# # Drop rows with useless info; cells with \"DEPTH\" OR \"SPAN\"\n",
    "# omega_df = omega_df[~omega_df['depth'].str.contains('DEPTH') & ~omega_df['depth'].str.contains('SPAN')]\n",
    "\n",
    "# # save as json for linux reading\n",
    "# # omega_df.to_json('omega_df.json', orient='records')"
   ]
  },
  {
   "cell_type": "code",
   "execution_count": 10,
   "id": "1543463c-faed-4d96-8c45-ec79ab4a86d4",
   "metadata": {
    "scrolled": true
   },
   "outputs": [],
   "source": [
    "# import tabula\n",
    "# tables = tabula.read_pdf(\"metric tables from Vulcraft OWSJ.pdf\", pages='all', multiple_tables=True, pandas_options={'header': None})"
   ]
  },
  {
   "cell_type": "code",
   "execution_count": 131,
   "id": "f15201be-8245-47d5-9d4e-42f84b7a7701",
   "metadata": {},
   "outputs": [],
   "source": [
    "# # Start working with the saved dataframes for testing\n",
    "# canam_df = pd.read_json(\"canam_df.json\")\n",
    "# omega_df = pd.read_json(\"omega_df.json\")\n",
    "# vulcraft_df = pd.read_json(\"vulcraft_df.json\")\n",
    "# canam_df.name = \"canam\"\n",
    "# omega_df.name = \"omega\"\n",
    "# vulcraft_df.name = \"vulcraft\"\n",
    "\n",
    "# OWSJ_dfs = [canam_df, omega_df, vulcraft_df]\n",
    "\n",
    "# span = 6000\n",
    "# depth = 500\n",
    "# f_load = 8"
   ]
  },
  {
   "cell_type": "code",
   "execution_count": 132,
   "id": "8d460710-9d4d-46c0-a801-2f746c640b07",
   "metadata": {},
   "outputs": [
    {
     "data": {
      "text/html": [
       "<pre style=\"white-space:pre;overflow-x:auto;line-height:normal;font-family:Menlo,'DejaVu Sans Mono',consolas,'Courier New',monospace\">canam\n",
       "</pre>\n"
      ],
      "text/plain": [
       "canam\n"
      ]
     },
     "metadata": {},
     "output_type": "display_data"
    },
    {
     "data": {
      "text/html": [
       "<pre style=\"white-space:pre;overflow-x:auto;line-height:normal;font-family:Menlo,'DejaVu Sans Mono',consolas,'Courier New',monospace\">omega\n",
       "</pre>\n"
      ],
      "text/plain": [
       "omega\n"
      ]
     },
     "metadata": {},
     "output_type": "display_data"
    },
    {
     "data": {
      "text/html": [
       "<pre style=\"white-space:pre;overflow-x:auto;line-height:normal;font-family:Menlo,'DejaVu Sans Mono',consolas,'Courier New',monospace\">vulcraft\n",
       "</pre>\n"
      ],
      "text/plain": [
       "vulcraft\n"
      ]
     },
     "metadata": {},
     "output_type": "display_data"
    }
   ],
   "source": [
    "# #Run through each dataframe of tables and pull out the expected weight kg/m of joist used\n",
    "# def find_adjacent_numbers(numbers, target):\n",
    "#     \"\"\"\n",
    "#     Find numbers adjacent to target number for the sake of running interpolation\n",
    "#     \"\"\"\n",
    "#     sorted_numbers = np.sort(numbers) # Sort the list of numbers\n",
    "#     index = np.searchsorted(sorted_numbers, target) # Find the index of the target number\n",
    "#     # Get the two numbers adjacent to the target number\n",
    "#     if index == 0:\n",
    "#         return sorted_numbers[0], sorted_numbers[0]\n",
    "#     elif index == len(sorted_numbers):\n",
    "#         return sorted_numbers[-1], sorted_numbers[-1]\n",
    "#     else:\n",
    "#         return sorted_numbers[index - 1], sorted_numbers[index]\n",
    "        \n",
    "# def isolate_sw(cell):\n",
    "#     sw = float(cell.split(\"\\n\")[0])\n",
    "#     return sw\n",
    "\n",
    "\n",
    "# for df in OWSJ_dfs:\n",
    "#     name = df.name\n",
    "#     print(name)\n",
    "#     span_mask = (df['span'] < 1.05*span) & (df['span'] > 0.95*span) \n",
    "#     depth_mask = (df['depth'] < 1.05*depth) & (df['depth'] > 0.95*depth)\n",
    "#     df = df.loc[span_mask & depth_mask]\n",
    "#     #Omega\n",
    "#     if name == \"omega\":\n",
    "#         cols = [col for col in df.columns if '/' in col]\n",
    "#         df_sliced = df[cols]\n",
    "#         chords = []\n",
    "#         sws = []\n",
    "#         for column in df_sliced.columns:\n",
    "#             for index, cell_value in enumerate(df_sliced[column]):\n",
    "#                 try:\n",
    "#                     f = float(cell_value.split(\"\\n\")[0])\n",
    "#                     sw = float(cell_value.split(\"\\n\")[2])\n",
    "#                     if (f > 0.97*f_load) & (f < 1.03*f_load):\n",
    "#                         chords.append((column, sw))\n",
    "#                         sws.append(sw)\n",
    "#                 except:\n",
    "#                     continue\n",
    "#         if sws == []:\n",
    "#             expected_sw_omega = \"no values found in that range\"\n",
    "#         else:\n",
    "#             expected_sw_omega = np.mean(sws)\n",
    "#     #Vulcraft         \n",
    "#     elif name == \"vulcraft\":\n",
    "#         df = df[df['value'].str.contains('Self')] #drop L/360 row\n",
    "#         col_nums = [float(col) for col in df.columns if \".\" in col] #convert factored headers to float\n",
    "#         adjacent_f_loads = find_adjacent_numbers(col_nums, f_load) #find interpolated, likely average self weight\n",
    "#         df = df[[str(min(adjacent_f_loads)), str(max(adjacent_f_loads))]]\n",
    "#         if adjacent_f_loads[1] == adjacent_f_loads[0]:\n",
    "#             expected_sw_vulcraft = df[str(adjacent_f_loads[0])].values.mean()\n",
    "#         else:\n",
    "#             ratio = (f_load - min(adjacent_f_loads))/(abs(adjacent_f_loads[1] - adjacent_f_loads[0]))\n",
    "#             df[str(f_load)] = (df[str(max(adjacent_f_loads))] - df[str(min(adjacent_f_loads))])*ratio + df[str(min(adjacent_f_loads))]\n",
    "#             expected_sw_vulcraft = df[str(f_load)].values.mean()\n",
    "#     #Canam\n",
    "#     elif name == \"canam\":\n",
    "#         col_nums = [float(col) for col in df.columns if \".\" in col] #convert factored headers to float\n",
    "#         adjacent_f_loads = find_adjacent_numbers(col_nums, f_load) #find interpolated, likely average self weight\n",
    "#         df = df[[str(min(adjacent_f_loads)), str(max(adjacent_f_loads))]]\n",
    "#         df = df.map(isolate_sw)\n",
    "#         if adjacent_f_loads[1] == adjacent_f_loads[0]:\n",
    "#             expected_sw_canam = df[str(adjacent_f_loads[0])].values.mean()\n",
    "#         else:\n",
    "#             ratio = (f_load - min(adjacent_f_loads))/(abs(adjacent_f_loads[1] - adjacent_f_loads[0]))\n",
    "#             df[str(f_load)] = (df[str(max(adjacent_f_loads))] - df[str(min(adjacent_f_loads))])*ratio + df[str(min(adjacent_f_loads))]\n",
    "#             expected_sw_canam = df[str(f_load)].values.mean()"
   ]
  }
 ],
 "metadata": {
  "kernelspec": {
   "display_name": "pfse",
   "language": "python",
   "name": "pfse"
  },
  "language_info": {
   "codemirror_mode": {
    "name": "ipython",
    "version": 3
   },
   "file_extension": ".py",
   "mimetype": "text/x-python",
   "name": "python",
   "nbconvert_exporter": "python",
   "pygments_lexer": "ipython3",
   "version": "3.11.7"
  }
 },
 "nbformat": 4,
 "nbformat_minor": 5
}
