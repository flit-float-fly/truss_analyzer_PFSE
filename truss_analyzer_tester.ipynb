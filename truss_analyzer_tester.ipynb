{
 "cells": [
  {
   "cell_type": "markdown",
   "id": "1dffca44-91b7-4164-9ca9-dc05d821b460",
   "metadata": {},
   "source": [
    "# Truss Analyer Testing Zone"
   ]
  },
  {
   "cell_type": "code",
   "execution_count": 2,
   "id": "6bad0563-1544-4c23-945e-fdf5bc77eef1",
   "metadata": {},
   "outputs": [],
   "source": [
    "%load_ext autoreload\n",
    "%autoreload 2"
   ]
  },
  {
   "cell_type": "code",
   "execution_count": 3,
   "id": "64d51795-c919-48f7-ad38-c91181ebb894",
   "metadata": {},
   "outputs": [],
   "source": [
    "import numpy as np\n",
    "import pandas as pd\n",
    "import re\n",
    "import math\n",
    "from PyNite import FEModel3D\n",
    "from PyNite.Visualization import render_model\n",
    "from rich import print\n",
    "import pandas as pd\n",
    "import matplotlib.pyplot as plt\n",
    "# import truss_input as ti\n",
    "import truss_model as tm"
   ]
  },
  {
   "cell_type": "code",
   "execution_count": null,
   "id": "b23deba8-e609-4c62-b4d4-a99868be0412",
   "metadata": {},
   "outputs": [],
   "source": [
    "top_nodes = []\n",
    "bot_nodes = []\n",
    "d_w = L/(n/2)\n",
    "for i, loc in enumerate(list(np.linspace(0, L, int(n/2+1)))):\n",
    "    t_node = [loc, d]\n",
    "    top_nodes.append(t_node)\n",
    "    if i == 0:\n",
    "        continue\n",
    "    else: \n",
    "        b_node = [loc-d_w/2, 0] \n",
    "        bot_nodes.append(b_node)"
   ]
  },
  {
   "cell_type": "code",
   "execution_count": 4,
   "id": "41aa437a-4f32-4f1f-86f9-0e9d08688849",
   "metadata": {
    "scrolled": true
   },
   "outputs": [
    {
     "name": "stderr",
     "output_type": "stream",
     "text": [
      "/tmp/ipykernel_3737/2775499420.py:9: FutureWarning: A value is trying to be set on a copy of a DataFrame or Series through chained assignment using an inplace method.\n",
      "The behavior will change in pandas 3.0. This inplace method will never work because the intermediate object on which we are setting values always behaves as a copy.\n",
      "\n",
      "For example, when doing 'df[col].method(value, inplace=True)', try using 'df.method({col: value}, inplace=True)' or df[col] = df[col].method(value) instead, to perform the operation inplace on the original object.\n",
      "\n",
      "\n",
      "  canam_df['span'].ffill(inplace=True)\n"
     ]
    },
    {
     "data": {
      "text/html": [
       "<div>\n",
       "<style scoped>\n",
       "    .dataframe tbody tr th:only-of-type {\n",
       "        vertical-align: middle;\n",
       "    }\n",
       "\n",
       "    .dataframe tbody tr th {\n",
       "        vertical-align: top;\n",
       "    }\n",
       "\n",
       "    .dataframe thead th {\n",
       "        text-align: right;\n",
       "    }\n",
       "</style>\n",
       "<table border=\"1\" class=\"dataframe\">\n",
       "  <thead>\n",
       "    <tr style=\"text-align: right;\">\n",
       "      <th></th>\n",
       "      <th>span</th>\n",
       "      <th>depth</th>\n",
       "      <th>4.5</th>\n",
       "      <th>6.0</th>\n",
       "      <th>7.5</th>\n",
       "      <th>9.0</th>\n",
       "      <th>10.5</th>\n",
       "      <th>12.0</th>\n",
       "      <th>13.5</th>\n",
       "      <th>15.0</th>\n",
       "      <th>16.5</th>\n",
       "      <th>18.0</th>\n",
       "      <th>19.5</th>\n",
       "      <th>21.0</th>\n",
       "      <th>22.5</th>\n",
       "    </tr>\n",
       "  </thead>\n",
       "  <tbody>\n",
       "    <tr>\n",
       "      <th>0</th>\n",
       "      <td>3000.0</td>\n",
       "      <td>200.0</td>\n",
       "      <td>9.0\\n6.0\\n1.03</td>\n",
       "      <td>9.0\\n7.7\\n1.03</td>\n",
       "      <td>9.0\\n7.7\\n1.03</td>\n",
       "      <td>9.0\\n7.7\\n1.01</td>\n",
       "      <td>9.3\\n9.6\\n1.01</td>\n",
       "      <td>9.3\\n9.6\\n1.01</td>\n",
       "      <td>9.7\\n10.1\\n1.02</td>\n",
       "      <td>9.7\\n10.1\\n1.02</td>\n",
       "      <td>9.7\\n10.1\\n1.01</td>\n",
       "      <td>9.8\\n10.3\\n1.03</td>\n",
       "      <td>10.1\\n10.5\\n1.03</td>\n",
       "      <td>10.4\\n10.9\\n1.05</td>\n",
       "      <td>12.0\\n12.9\\n1.09</td>\n",
       "    </tr>\n",
       "    <tr>\n",
       "      <th>1</th>\n",
       "      <td>3000.0</td>\n",
       "      <td>250.0</td>\n",
       "      <td>9.1\\n6.0\\n1.03</td>\n",
       "      <td>9.1\\n8.0\\n1.03</td>\n",
       "      <td>9.1\\n10.0\\n1.03</td>\n",
       "      <td>9.1\\n11.5\\n1.01</td>\n",
       "      <td>9.5\\n14.0\\n1.02</td>\n",
       "      <td>9.5\\n14.1\\n1.02</td>\n",
       "      <td>9.9\\n15.0\\n1.02</td>\n",
       "      <td>9.9\\n15.0\\n1.02</td>\n",
       "      <td>9.9\\n15.0\\n1.01</td>\n",
       "      <td>9.9\\n15.0\\n1.01</td>\n",
       "      <td>10.3\\n15.7\\n1.02</td>\n",
       "      <td>10.3\\n15.7\\n1.02</td>\n",
       "      <td>10.3\\n15.7\\n1.03</td>\n",
       "    </tr>\n",
       "    <tr>\n",
       "      <th>2</th>\n",
       "      <td>3000.0</td>\n",
       "      <td>300.0</td>\n",
       "      <td>9.0\\n6.0\\n1.00</td>\n",
       "      <td>9.0\\n8.0\\n1.00</td>\n",
       "      <td>9.0\\n10.0\\n1.00</td>\n",
       "      <td>9.6\\n12.0\\n1.00</td>\n",
       "      <td>9.6\\n14.0\\n1.00</td>\n",
       "      <td>9.6\\n16.0\\n1.00</td>\n",
       "      <td>9.8\\n18.0\\n1.00</td>\n",
       "      <td>9.8\\n19.9\\n1.00</td>\n",
       "      <td>10.1\\n20.2\\n1.00</td>\n",
       "      <td>10.1\\n20.3\\n1.00</td>\n",
       "      <td>10.2\\n21.3\\n1.00</td>\n",
       "      <td>10.2\\n21.3\\n1.00</td>\n",
       "      <td>10.2\\n21.3\\n1.00</td>\n",
       "    </tr>\n",
       "    <tr>\n",
       "      <th>3</th>\n",
       "      <td>3000.0</td>\n",
       "      <td>350.0</td>\n",
       "      <td>9.1\\n6.0\\n1.00</td>\n",
       "      <td>9.1\\n8.0\\n1.00</td>\n",
       "      <td>9.1\\n10.0\\n1.00</td>\n",
       "      <td>9.8\\n12.0\\n1.03</td>\n",
       "      <td>10.0\\n14.0\\n1.01</td>\n",
       "      <td>10.0\\n16.0\\n1.01</td>\n",
       "      <td>10.0\\n18.0\\n1.00</td>\n",
       "      <td>10.0\\n20.0\\n1.00</td>\n",
       "      <td>10.5\\n22.0\\n1.01</td>\n",
       "      <td>10.5\\n24.0\\n1.01</td>\n",
       "      <td>10.5\\n26.0\\n1.00</td>\n",
       "      <td>10.5\\n27.3 1.00</td>\n",
       "      <td>11.0\\n28.9\\n1.01</td>\n",
       "    </tr>\n",
       "    <tr>\n",
       "      <th>4</th>\n",
       "      <td>3000.0</td>\n",
       "      <td>400.0</td>\n",
       "      <td>12.7\\n6.0\\n1.25</td>\n",
       "      <td>12.7\\n8.0\\n1.25</td>\n",
       "      <td>12.7\\n10.0\\n1.25</td>\n",
       "      <td>12.7\\n12.0\\n1.22</td>\n",
       "      <td>12.7\\n14.0\\n1.19</td>\n",
       "      <td>12.7\\n16.0\\n1.19</td>\n",
       "      <td>12.7\\n18.0\\n1.19</td>\n",
       "      <td>12.7\\n20.0\\n1.19</td>\n",
       "      <td>12.7\\n22.0\\n1.17</td>\n",
       "      <td>12.7\\n24.0\\n1.17</td>\n",
       "      <td>12.7\\n26.0\\n1.16</td>\n",
       "      <td>12.7\\n28.0\\n1.17</td>\n",
       "      <td>12.7\\n30.0\\n1.16</td>\n",
       "    </tr>\n",
       "    <tr>\n",
       "      <th>5</th>\n",
       "      <td>3000.0</td>\n",
       "      <td>450.0</td>\n",
       "      <td>12.9\\n6.0\\n1.26</td>\n",
       "      <td>12.9\\n8.0\\n1.26</td>\n",
       "      <td>12.9\\n10.0\\n1.26</td>\n",
       "      <td>12.9\\n12.0\\n1.23</td>\n",
       "      <td>12.9\\n14.0\\n1.20</td>\n",
       "      <td>12.9\\n16.0\\n1.20</td>\n",
       "      <td>12.9\\n18.0\\n1.19</td>\n",
       "      <td>12.9\\n20.0\\n1.19</td>\n",
       "      <td>12.9\\n22.0\\n1.18</td>\n",
       "      <td>12.9\\n24.0\\n1.18</td>\n",
       "      <td>12.9\\n26.0\\n1.17</td>\n",
       "      <td>12.9\\n28.0\\n1.17</td>\n",
       "      <td>12.9\\n30.0\\n1.16</td>\n",
       "    </tr>\n",
       "    <tr>\n",
       "      <th>6</th>\n",
       "      <td>3000.0</td>\n",
       "      <td>500.0</td>\n",
       "      <td>13.1\\n6.0\\n1.26</td>\n",
       "      <td>13.1\\n8.0\\n1.26</td>\n",
       "      <td>13.1\\n10.0\\n1.26</td>\n",
       "      <td>13.1\\n12.0\\n1.23</td>\n",
       "      <td>13.1\\n14.0\\n1.20</td>\n",
       "      <td>13.1\\n16.0\\n1.20</td>\n",
       "      <td>13.1\\n18.0\\n1.20</td>\n",
       "      <td>13.1\\n20.0\\n1.20</td>\n",
       "      <td>13.1\\n22.0\\n1.18</td>\n",
       "      <td>13.1\\n24.0\\n1.18</td>\n",
       "      <td>13.1\\n26.0\\n1.17</td>\n",
       "      <td>13.1\\n28.0\\n1.17</td>\n",
       "      <td>13.1\\n30.0\\n1.16</td>\n",
       "    </tr>\n",
       "    <tr>\n",
       "      <th>7</th>\n",
       "      <td>4000.0</td>\n",
       "      <td>200.0</td>\n",
       "      <td>8.8\\n4.0\\n1.03</td>\n",
       "      <td>8.8\\n4.0\\n1.01</td>\n",
       "      <td>8.9\\n4.2\\n1.01</td>\n",
       "      <td>9.4\\n4.6\\n1.02</td>\n",
       "      <td>9.4\\n4.6\\n1.02</td>\n",
       "      <td>11.5\\n5.4\\n1.06</td>\n",
       "      <td>12.2\\n5.8\\n1.05</td>\n",
       "      <td>12.1\\n6.2\\n1.09</td>\n",
       "      <td>13.4\\n6.9\\n1.12</td>\n",
       "      <td>14.3\\n7.5\\n1.12</td>\n",
       "      <td>15.2\\n8.1\\n1.08</td>\n",
       "      <td>17.0\\n9.1\\n1.13</td>\n",
       "      <td>17.8\\n9.5\\n1.16</td>\n",
       "    </tr>\n",
       "    <tr>\n",
       "      <th>8</th>\n",
       "      <td>4000.0</td>\n",
       "      <td>250.0</td>\n",
       "      <td>8.9\\n6.0\\n1.03</td>\n",
       "      <td>8.9\\n6.1\\n1.01</td>\n",
       "      <td>8.9\\n6.0\\n1.01</td>\n",
       "      <td>9.6\\n7.0\\n1.02</td>\n",
       "      <td>9.6\\n7.0\\n1.01</td>\n",
       "      <td>10.0\\n7.2\\n1.01</td>\n",
       "      <td>10.0\\n7.2\\n1.01</td>\n",
       "      <td>11.4\\n8.3\\n1.05</td>\n",
       "      <td>12.9\\n9.0\\n1.04</td>\n",
       "      <td>12.5\\n9.3\\n1.04</td>\n",
       "      <td>12.9\\n9.7\\n1.01</td>\n",
       "      <td>13.7\\n10.5\\n1.01</td>\n",
       "      <td>14.9\\n11.3\\n1.01</td>\n",
       "    </tr>\n",
       "    <tr>\n",
       "      <th>9</th>\n",
       "      <td>4000.0</td>\n",
       "      <td>300.0</td>\n",
       "      <td>8.9\\n6.0\\n1.00</td>\n",
       "      <td>9.1\\n8.0\\n1.00</td>\n",
       "      <td>9.1\\n8.0\\n1.00</td>\n",
       "      <td>10.2\\n8.7\\n1.00</td>\n",
       "      <td>10.4\\n9.3\\n1.00</td>\n",
       "      <td>10.6\\n9.4\\n1.00</td>\n",
       "      <td>11.2\\n10.1\\n1.00</td>\n",
       "      <td>11.7\\n10.3\\n1.01</td>\n",
       "      <td>12.6\\n11.0\\n1.01</td>\n",
       "      <td>13.3\\n11.8\\n1.03</td>\n",
       "      <td>14.7\\n13.3\\n1.03</td>\n",
       "      <td>15.0\\n13.8\\n1.00</td>\n",
       "      <td>16.1\\n14.7\\n1.03</td>\n",
       "    </tr>\n",
       "  </tbody>\n",
       "</table>\n",
       "</div>"
      ],
      "text/plain": [
       "     span  depth              4.5              6.0               7.5  \\\n",
       "0  3000.0  200.0   9.0\\n6.0\\n1.03   9.0\\n7.7\\n1.03    9.0\\n7.7\\n1.03   \n",
       "1  3000.0  250.0   9.1\\n6.0\\n1.03   9.1\\n8.0\\n1.03   9.1\\n10.0\\n1.03   \n",
       "2  3000.0  300.0   9.0\\n6.0\\n1.00   9.0\\n8.0\\n1.00   9.0\\n10.0\\n1.00   \n",
       "3  3000.0  350.0   9.1\\n6.0\\n1.00   9.1\\n8.0\\n1.00   9.1\\n10.0\\n1.00   \n",
       "4  3000.0  400.0  12.7\\n6.0\\n1.25  12.7\\n8.0\\n1.25  12.7\\n10.0\\n1.25   \n",
       "5  3000.0  450.0  12.9\\n6.0\\n1.26  12.9\\n8.0\\n1.26  12.9\\n10.0\\n1.26   \n",
       "6  3000.0  500.0  13.1\\n6.0\\n1.26  13.1\\n8.0\\n1.26  13.1\\n10.0\\n1.26   \n",
       "7  4000.0  200.0   8.8\\n4.0\\n1.03   8.8\\n4.0\\n1.01    8.9\\n4.2\\n1.01   \n",
       "8  4000.0  250.0   8.9\\n6.0\\n1.03   8.9\\n6.1\\n1.01    8.9\\n6.0\\n1.01   \n",
       "9  4000.0  300.0   8.9\\n6.0\\n1.00   9.1\\n8.0\\n1.00    9.1\\n8.0\\n1.00   \n",
       "\n",
       "                9.0              10.5              12.0              13.5  \\\n",
       "0    9.0\\n7.7\\n1.01    9.3\\n9.6\\n1.01    9.3\\n9.6\\n1.01   9.7\\n10.1\\n1.02   \n",
       "1   9.1\\n11.5\\n1.01   9.5\\n14.0\\n1.02   9.5\\n14.1\\n1.02   9.9\\n15.0\\n1.02   \n",
       "2   9.6\\n12.0\\n1.00   9.6\\n14.0\\n1.00   9.6\\n16.0\\n1.00   9.8\\n18.0\\n1.00   \n",
       "3   9.8\\n12.0\\n1.03  10.0\\n14.0\\n1.01  10.0\\n16.0\\n1.01  10.0\\n18.0\\n1.00   \n",
       "4  12.7\\n12.0\\n1.22  12.7\\n14.0\\n1.19  12.7\\n16.0\\n1.19  12.7\\n18.0\\n1.19   \n",
       "5  12.9\\n12.0\\n1.23  12.9\\n14.0\\n1.20  12.9\\n16.0\\n1.20  12.9\\n18.0\\n1.19   \n",
       "6  13.1\\n12.0\\n1.23  13.1\\n14.0\\n1.20  13.1\\n16.0\\n1.20  13.1\\n18.0\\n1.20   \n",
       "7    9.4\\n4.6\\n1.02    9.4\\n4.6\\n1.02   11.5\\n5.4\\n1.06   12.2\\n5.8\\n1.05   \n",
       "8    9.6\\n7.0\\n1.02    9.6\\n7.0\\n1.01   10.0\\n7.2\\n1.01   10.0\\n7.2\\n1.01   \n",
       "9   10.2\\n8.7\\n1.00   10.4\\n9.3\\n1.00   10.6\\n9.4\\n1.00  11.2\\n10.1\\n1.00   \n",
       "\n",
       "               15.0              16.5              18.0              19.5  \\\n",
       "0   9.7\\n10.1\\n1.02   9.7\\n10.1\\n1.01   9.8\\n10.3\\n1.03  10.1\\n10.5\\n1.03   \n",
       "1   9.9\\n15.0\\n1.02   9.9\\n15.0\\n1.01   9.9\\n15.0\\n1.01  10.3\\n15.7\\n1.02   \n",
       "2   9.8\\n19.9\\n1.00  10.1\\n20.2\\n1.00  10.1\\n20.3\\n1.00  10.2\\n21.3\\n1.00   \n",
       "3  10.0\\n20.0\\n1.00  10.5\\n22.0\\n1.01  10.5\\n24.0\\n1.01  10.5\\n26.0\\n1.00   \n",
       "4  12.7\\n20.0\\n1.19  12.7\\n22.0\\n1.17  12.7\\n24.0\\n1.17  12.7\\n26.0\\n1.16   \n",
       "5  12.9\\n20.0\\n1.19  12.9\\n22.0\\n1.18  12.9\\n24.0\\n1.18  12.9\\n26.0\\n1.17   \n",
       "6  13.1\\n20.0\\n1.20  13.1\\n22.0\\n1.18  13.1\\n24.0\\n1.18  13.1\\n26.0\\n1.17   \n",
       "7   12.1\\n6.2\\n1.09   13.4\\n6.9\\n1.12   14.3\\n7.5\\n1.12   15.2\\n8.1\\n1.08   \n",
       "8   11.4\\n8.3\\n1.05   12.9\\n9.0\\n1.04   12.5\\n9.3\\n1.04   12.9\\n9.7\\n1.01   \n",
       "9  11.7\\n10.3\\n1.01  12.6\\n11.0\\n1.01  13.3\\n11.8\\n1.03  14.7\\n13.3\\n1.03   \n",
       "\n",
       "               21.0              22.5  \n",
       "0  10.4\\n10.9\\n1.05  12.0\\n12.9\\n1.09  \n",
       "1  10.3\\n15.7\\n1.02  10.3\\n15.7\\n1.03  \n",
       "2  10.2\\n21.3\\n1.00  10.2\\n21.3\\n1.00  \n",
       "3   10.5\\n27.3 1.00  11.0\\n28.9\\n1.01  \n",
       "4  12.7\\n28.0\\n1.17  12.7\\n30.0\\n1.16  \n",
       "5  12.9\\n28.0\\n1.17  12.9\\n30.0\\n1.16  \n",
       "6  13.1\\n28.0\\n1.17  13.1\\n30.0\\n1.16  \n",
       "7   17.0\\n9.1\\n1.13   17.8\\n9.5\\n1.16  \n",
       "8  13.7\\n10.5\\n1.01  14.9\\n11.3\\n1.01  \n",
       "9  15.0\\n13.8\\n1.00  16.1\\n14.7\\n1.03  "
      ]
     },
     "execution_count": 4,
     "metadata": {},
     "output_type": "execute_result"
    }
   ],
   "source": [
    "# Import Canam's tables\n",
    "\n",
    "def remove_comma(cell):\n",
    "    number = float(cell.replace(',', ''))\n",
    "    return number\n",
    "\n",
    "canam_df = pd.read_csv('OWSJ_tables_canam.csv',header=1)\n",
    "canam_df.rename(columns={canam_df.columns[0]: 'span', canam_df.columns[1]: 'depth'}, inplace=True)\n",
    "canam_df['span'].ffill(inplace=True)\n",
    "canam_df['span']= canam_df['span']*1000\n",
    "canam_df['depth'] = canam_df['depth'].apply(remove_comma)\n",
    "canam_df['depth'] = canam_df['depth'].astype(float)\n",
    "canam_df.head(10)\n",
    "\n",
    "# save as json for linux reading\n",
    "# canam_df.to_json('canam_df.json', orient='records')"
   ]
  },
  {
   "cell_type": "code",
   "execution_count": 98,
   "id": "ac66c09a-b234-49ec-bef2-b1d1184f4962",
   "metadata": {},
   "outputs": [],
   "source": [
    "# Import Vulcraft's data\n",
    "vulcraft_df = pd.read_csv('OWSJ_tables_vulcraft.csv', header=1)\n",
    "vulcraft_df.rename(columns={\"Factored Load\": 'value'}, inplace=True)\n",
    "vulcraft_df.columns = [col.lower() for col in vulcraft_df]\n",
    "#drop first row and all bridging rows\n",
    "vulcraft_df.drop(index=0, inplace=True)\n",
    "vulcraft_df = vulcraft_df[~vulcraft_df['value'].str.contains('Bridg.')]\n",
    "#fill depths\n",
    "vulcraft_df['depth'].bfill(inplace=True)\n",
    "#convert all span values to mm\n",
    "vulcraft_df.span = vulcraft_df.span.astype(float)\n",
    "vulcraft_df.span = vulcraft_df.span*1000\n",
    "vulcraft_df.head(30)\n",
    "\n",
    "# save as json for linux reading\n",
    "# vulcraft_df.to_json('vulcraft_df.json', orient='records')"
   ]
  },
  {
   "cell_type": "code",
   "execution_count": 41,
   "id": "cd9b5771-a03d-44b8-bd07-93255439b301",
   "metadata": {},
   "outputs": [
    {
     "name": "stderr",
     "output_type": "stream",
     "text": [
      "/tmp/ipykernel_3737/2327350521.py:14: FutureWarning: A value is trying to be set on a copy of a DataFrame or Series through chained assignment using an inplace method.\n",
      "The behavior will change in pandas 3.0. This inplace method will never work because the intermediate object on which we are setting values always behaves as a copy.\n",
      "\n",
      "For example, when doing 'df[col].method(value, inplace=True)', try using 'df.method({col: value}, inplace=True)' or df[col] = df[col].method(value) instead, to perform the operation inplace on the original object.\n",
      "\n",
      "\n",
      "  omega_df['span'].ffill(inplace=True)\n"
     ]
    }
   ],
   "source": [
    "# Import Omega's tables\n",
    "\n",
    "def find_span(cell):\n",
    "    if \"SPAN\" in cell:\n",
    "        match_span = re.search(r'\\b(\\d+)\\b', cell)\n",
    "        return match_span.group(1)\n",
    "    else:\n",
    "        return np.nan\n",
    "\n",
    "omega_df = pd.read_csv('OWSJ_tables_omega.csv', header=None)\n",
    "col_names = [\"depth\", \"D/D\", \"E/D\", \"E/E\", \"F/E\", \"F/F\", \"G/F\", \"G/G\", \"H/G\", \"H/H\", \"K/H\", \"K/K\", \"L/K\", \"L/L\"]\n",
    "omega_df.columns = col_names\n",
    "omega_df['span'] = omega_df['depth'].apply(find_span)\n",
    "omega_df['span'].ffill(inplace=True)\n",
    "columns = ['span'] + [col for col in omega_df if col != 'span']\n",
    "omega_df = omega_df[columns]\n",
    "# Drop rows with useless info; cells with \"DEPTH\" OR \"SPAN\"\n",
    "omega_df = omega_df[~omega_df['depth'].str.contains('DEPTH') & ~omega_df['depth'].str.contains('SPAN')]\n",
    "\n",
    "# save as json for linux reading\n",
    "# omega_df.to_json('omega_df.json', orient='records')"
   ]
  },
  {
   "cell_type": "code",
   "execution_count": 43,
   "id": "1543463c-faed-4d96-8c45-ec79ab4a86d4",
   "metadata": {
    "scrolled": true
   },
   "outputs": [],
   "source": [
    "import tabula\n",
    "tables = tabula.read_pdf(\"metric tables from Vulcraft OWSJ.pdf\", pages='all', multiple_tables=True, pandas_options={'header': None})"
   ]
  },
  {
   "cell_type": "code",
   "execution_count": 84,
   "id": "f15201be-8245-47d5-9d4e-42f84b7a7701",
   "metadata": {},
   "outputs": [],
   "source": [
    "# Start working with the saved dataframes\n",
    "canam_df = pd.read_json(\"canam_df.json\")\n",
    "omega_df = pd.read_json(\"omega_df.json\")\n",
    "vulcraft_df = pd.read_json(\"vulcraft_df.json\")\n",
    "canam_df.name = \"canam\"\n",
    "omega_df.name = \"omega\"\n",
    "vulcraft_df.name = \"vulcraft\"\n",
    "\n",
    "OWSJ_dfs = [canam_df, omega_df, vulcraft_df]\n",
    "\n",
    "span = 17565\n",
    "depth = 933\n",
    "f_load = 8"
   ]
  },
  {
   "cell_type": "code",
   "execution_count": 102,
   "id": "65cabd23-c79c-4904-b48a-e751c6da3aa2",
   "metadata": {},
   "outputs": [
    {
     "data": {
      "text/html": [
       "<pre style=\"white-space:pre;overflow-x:auto;line-height:normal;font-family:Menlo,'DejaVu Sans Mono',consolas,'Courier New',monospace\">canam\n",
       "</pre>\n"
      ],
      "text/plain": [
       "canam\n"
      ]
     },
     "metadata": {},
     "output_type": "display_data"
    },
    {
     "data": {
      "text/html": [
       "<pre style=\"white-space:pre;overflow-x:auto;line-height:normal;font-family:Menlo,'DejaVu Sans Mono',consolas,'Courier New',monospace\">omega\n",
       "</pre>\n"
      ],
      "text/plain": [
       "omega\n"
      ]
     },
     "metadata": {},
     "output_type": "display_data"
    },
    {
     "data": {
      "text/html": [
       "<pre style=\"white-space:pre;overflow-x:auto;line-height:normal;font-family:Menlo,'DejaVu Sans Mono',consolas,'Courier New',monospace\">vulcraft\n",
       "</pre>\n"
      ],
      "text/plain": [
       "vulcraft\n"
      ]
     },
     "metadata": {},
     "output_type": "display_data"
    }
   ],
   "source": [
    "\n",
    "# load_mask = (canam_df['depth'] < 1.05*depth) & (canam_df['depth'] > 0.95*depth) \n",
    "\n",
    "for df in OWSJ_dfs:\n",
    "    name = df.name\n",
    "    print(name)\n",
    "    span_mask = (df['span'] < 1.05*span) & (df['span'] > 0.95*span) \n",
    "    depth_mask = (df['depth'] < 1.05*depth) & (df['depth'] > 0.95*depth)\n",
    "    df = df.loc[span_mask & depth_mask]\n",
    "    #special case for Omega\n",
    "    if name == \"omega\":\n",
    "        cols = [col for col in omega_df.columns if '/' in col]\n",
    "        df_sliced = df[cols]\n",
    "        chords = []\n",
    "        for column in df_sliced.columns:\n",
    "            for index, cell_value in enumerate(df_sliced[column]):\n",
    "                try:\n",
    "                    f = float(cell_value.split(\"\\n\")[0])\n",
    "                    sw = float(cell_value.split(\"\\n\")[2])\n",
    "                    if (f > 0.98*f_load) & (f < 1.02*f_load):\n",
    "                        chords.append((column, sw))\n",
    "                except:\n",
    "                    continue\n",
    "              \n",
    "    elif name == \"vulcraft\":\n",
    "        df = df[df['value'].str.contains('Self')] #drop L/360 row\n",
    "        col_nums = [float(col) for col in df.columns if \".\" in col] #convert factored headers to float\n",
    "        sorted_numbers = np.sort(col_nums) \n",
    "        index = np.searchsorted(sorted_numbers, f_load, side='right') - 1 #use np method to determine number closest, but not over factored load\n",
    "        sw_vulcraft = df[str(sorted_numbers[index])] #convert the found number back to string as save a df of sw\n",
    "\n",
    "    elif name == \"canam\":\n",
    "        col_nums = [float(col) for col in df.columns if \".\" in col] #convert factored headers to float\n",
    "        sorted_numbers = np.sort(col_nums) \n",
    "        index = np.searchsorted(sorted_numbers, f_load, side='right') - 1 #use np method to determine number closest, but not over factored load\n",
    "        sw_canam = df[str(sorted_numbers[index])] #convert the found number back to string as save a df of sw\n",
    "\n",
    "\n"
   ]
  },
  {
   "cell_type": "code",
   "execution_count": 103,
   "id": "94a8c8e4-c212-4227-8d79-b52190eb7270",
   "metadata": {},
   "outputs": [
    {
     "data": {
      "text/plain": [
       "99     19.1\\n2.6\\n1.00\n",
       "105    22.0\\n2.6\\n1.00\n",
       "Name: 7.5, dtype: object"
      ]
     },
     "execution_count": 103,
     "metadata": {},
     "output_type": "execute_result"
    }
   ],
   "source": [
    "sw_canam"
   ]
  },
  {
   "cell_type": "code",
   "execution_count": 94,
   "id": "f9d2ea5f-9ac9-479c-a0c0-f078be44d6e8",
   "metadata": {},
   "outputs": [
    {
     "data": {
      "text/plain": [
       "258    18.4\n",
       "274    20.7\n",
       "Name: 6.3, dtype: float64"
      ]
     },
     "execution_count": 94,
     "metadata": {},
     "output_type": "execute_result"
    }
   ],
   "source": [
    "sw_vulcraft"
   ]
  },
  {
   "cell_type": "code",
   "execution_count": 90,
   "id": "ba1a9ea4-aeee-4611-a4ba-3fd56cb95ac5",
   "metadata": {},
   "outputs": [
    {
     "data": {
      "text/plain": [
       "[('H/G', 19.31),\n",
       " ('H/H', 19.89),\n",
       " ('K/H', 20.33),\n",
       " ('K/H', 20.46),\n",
       " ('K/K', 20.77),\n",
       " ('K/K', 21.15),\n",
       " ('K/K', 21.26),\n",
       " ('L/K', 21.48),\n",
       " ('L/K', 21.67),\n",
       " ('L/K', 21.97)]"
      ]
     },
     "execution_count": 90,
     "metadata": {},
     "output_type": "execute_result"
    }
   ],
   "source": [
    "chords"
   ]
  },
  {
   "cell_type": "code",
   "execution_count": 96,
   "id": "c644f482-e2a4-4048-a472-1ccd8762cbdd",
   "metadata": {},
   "outputs": [
    {
     "data": {
      "text/html": [
       "<div>\n",
       "<style scoped>\n",
       "    .dataframe tbody tr th:only-of-type {\n",
       "        vertical-align: middle;\n",
       "    }\n",
       "\n",
       "    .dataframe tbody tr th {\n",
       "        vertical-align: top;\n",
       "    }\n",
       "\n",
       "    .dataframe thead th {\n",
       "        text-align: right;\n",
       "    }\n",
       "</style>\n",
       "<table border=\"1\" class=\"dataframe\">\n",
       "  <thead>\n",
       "    <tr style=\"text-align: right;\">\n",
       "      <th></th>\n",
       "      <th>span</th>\n",
       "      <th>depth</th>\n",
       "      <th>4.5</th>\n",
       "      <th>6.0</th>\n",
       "      <th>7.5</th>\n",
       "      <th>9.0</th>\n",
       "      <th>10.5</th>\n",
       "      <th>12.0</th>\n",
       "      <th>13.5</th>\n",
       "      <th>15.0</th>\n",
       "      <th>16.5</th>\n",
       "      <th>18.0</th>\n",
       "      <th>19.5</th>\n",
       "      <th>21.0</th>\n",
       "      <th>22.5</th>\n",
       "    </tr>\n",
       "  </thead>\n",
       "  <tbody>\n",
       "    <tr>\n",
       "      <th>0</th>\n",
       "      <td>3000</td>\n",
       "      <td>200</td>\n",
       "      <td>9.0\\n6.0\\n1.03</td>\n",
       "      <td>9.0\\n7.7\\n1.03</td>\n",
       "      <td>9.0\\n7.7\\n1.03</td>\n",
       "      <td>9.0\\n7.7\\n1.01</td>\n",
       "      <td>9.3\\n9.6\\n1.01</td>\n",
       "      <td>9.3\\n9.6\\n1.01</td>\n",
       "      <td>9.7\\n10.1\\n1.02</td>\n",
       "      <td>9.7\\n10.1\\n1.02</td>\n",
       "      <td>9.7\\n10.1\\n1.01</td>\n",
       "      <td>9.8\\n10.3\\n1.03</td>\n",
       "      <td>10.1\\n10.5\\n1.03</td>\n",
       "      <td>10.4\\n10.9\\n1.05</td>\n",
       "      <td>12.0\\n12.9\\n1.09</td>\n",
       "    </tr>\n",
       "    <tr>\n",
       "      <th>1</th>\n",
       "      <td>3000</td>\n",
       "      <td>250</td>\n",
       "      <td>9.1\\n6.0\\n1.03</td>\n",
       "      <td>9.1\\n8.0\\n1.03</td>\n",
       "      <td>9.1\\n10.0\\n1.03</td>\n",
       "      <td>9.1\\n11.5\\n1.01</td>\n",
       "      <td>9.5\\n14.0\\n1.02</td>\n",
       "      <td>9.5\\n14.1\\n1.02</td>\n",
       "      <td>9.9\\n15.0\\n1.02</td>\n",
       "      <td>9.9\\n15.0\\n1.02</td>\n",
       "      <td>9.9\\n15.0\\n1.01</td>\n",
       "      <td>9.9\\n15.0\\n1.01</td>\n",
       "      <td>10.3\\n15.7\\n1.02</td>\n",
       "      <td>10.3\\n15.7\\n1.02</td>\n",
       "      <td>10.3\\n15.7\\n1.03</td>\n",
       "    </tr>\n",
       "    <tr>\n",
       "      <th>2</th>\n",
       "      <td>3000</td>\n",
       "      <td>300</td>\n",
       "      <td>9.0\\n6.0\\n1.00</td>\n",
       "      <td>9.0\\n8.0\\n1.00</td>\n",
       "      <td>9.0\\n10.0\\n1.00</td>\n",
       "      <td>9.6\\n12.0\\n1.00</td>\n",
       "      <td>9.6\\n14.0\\n1.00</td>\n",
       "      <td>9.6\\n16.0\\n1.00</td>\n",
       "      <td>9.8\\n18.0\\n1.00</td>\n",
       "      <td>9.8\\n19.9\\n1.00</td>\n",
       "      <td>10.1\\n20.2\\n1.00</td>\n",
       "      <td>10.1\\n20.3\\n1.00</td>\n",
       "      <td>10.2\\n21.3\\n1.00</td>\n",
       "      <td>10.2\\n21.3\\n1.00</td>\n",
       "      <td>10.2\\n21.3\\n1.00</td>\n",
       "    </tr>\n",
       "    <tr>\n",
       "      <th>3</th>\n",
       "      <td>3000</td>\n",
       "      <td>350</td>\n",
       "      <td>9.1\\n6.0\\n1.00</td>\n",
       "      <td>9.1\\n8.0\\n1.00</td>\n",
       "      <td>9.1\\n10.0\\n1.00</td>\n",
       "      <td>9.8\\n12.0\\n1.03</td>\n",
       "      <td>10.0\\n14.0\\n1.01</td>\n",
       "      <td>10.0\\n16.0\\n1.01</td>\n",
       "      <td>10.0\\n18.0\\n1.00</td>\n",
       "      <td>10.0\\n20.0\\n1.00</td>\n",
       "      <td>10.5\\n22.0\\n1.01</td>\n",
       "      <td>10.5\\n24.0\\n1.01</td>\n",
       "      <td>10.5\\n26.0\\n1.00</td>\n",
       "      <td>10.5\\n27.3 1.00</td>\n",
       "      <td>11.0\\n28.9\\n1.01</td>\n",
       "    </tr>\n",
       "    <tr>\n",
       "      <th>4</th>\n",
       "      <td>3000</td>\n",
       "      <td>400</td>\n",
       "      <td>12.7\\n6.0\\n1.25</td>\n",
       "      <td>12.7\\n8.0\\n1.25</td>\n",
       "      <td>12.7\\n10.0\\n1.25</td>\n",
       "      <td>12.7\\n12.0\\n1.22</td>\n",
       "      <td>12.7\\n14.0\\n1.19</td>\n",
       "      <td>12.7\\n16.0\\n1.19</td>\n",
       "      <td>12.7\\n18.0\\n1.19</td>\n",
       "      <td>12.7\\n20.0\\n1.19</td>\n",
       "      <td>12.7\\n22.0\\n1.17</td>\n",
       "      <td>12.7\\n24.0\\n1.17</td>\n",
       "      <td>12.7\\n26.0\\n1.16</td>\n",
       "      <td>12.7\\n28.0\\n1.17</td>\n",
       "      <td>12.7\\n30.0\\n1.16</td>\n",
       "    </tr>\n",
       "    <tr>\n",
       "      <th>5</th>\n",
       "      <td>3000</td>\n",
       "      <td>450</td>\n",
       "      <td>12.9\\n6.0\\n1.26</td>\n",
       "      <td>12.9\\n8.0\\n1.26</td>\n",
       "      <td>12.9\\n10.0\\n1.26</td>\n",
       "      <td>12.9\\n12.0\\n1.23</td>\n",
       "      <td>12.9\\n14.0\\n1.20</td>\n",
       "      <td>12.9\\n16.0\\n1.20</td>\n",
       "      <td>12.9\\n18.0\\n1.19</td>\n",
       "      <td>12.9\\n20.0\\n1.19</td>\n",
       "      <td>12.9\\n22.0\\n1.18</td>\n",
       "      <td>12.9\\n24.0\\n1.18</td>\n",
       "      <td>12.9\\n26.0\\n1.17</td>\n",
       "      <td>12.9\\n28.0\\n1.17</td>\n",
       "      <td>12.9\\n30.0\\n1.16</td>\n",
       "    </tr>\n",
       "    <tr>\n",
       "      <th>6</th>\n",
       "      <td>3000</td>\n",
       "      <td>500</td>\n",
       "      <td>13.1\\n6.0\\n1.26</td>\n",
       "      <td>13.1\\n8.0\\n1.26</td>\n",
       "      <td>13.1\\n10.0\\n1.26</td>\n",
       "      <td>13.1\\n12.0\\n1.23</td>\n",
       "      <td>13.1\\n14.0\\n1.20</td>\n",
       "      <td>13.1\\n16.0\\n1.20</td>\n",
       "      <td>13.1\\n18.0\\n1.20</td>\n",
       "      <td>13.1\\n20.0\\n1.20</td>\n",
       "      <td>13.1\\n22.0\\n1.18</td>\n",
       "      <td>13.1\\n24.0\\n1.18</td>\n",
       "      <td>13.1\\n26.0\\n1.17</td>\n",
       "      <td>13.1\\n28.0\\n1.17</td>\n",
       "      <td>13.1\\n30.0\\n1.16</td>\n",
       "    </tr>\n",
       "    <tr>\n",
       "      <th>7</th>\n",
       "      <td>4000</td>\n",
       "      <td>200</td>\n",
       "      <td>8.8\\n4.0\\n1.03</td>\n",
       "      <td>8.8\\n4.0\\n1.01</td>\n",
       "      <td>8.9\\n4.2\\n1.01</td>\n",
       "      <td>9.4\\n4.6\\n1.02</td>\n",
       "      <td>9.4\\n4.6\\n1.02</td>\n",
       "      <td>11.5\\n5.4\\n1.06</td>\n",
       "      <td>12.2\\n5.8\\n1.05</td>\n",
       "      <td>12.1\\n6.2\\n1.09</td>\n",
       "      <td>13.4\\n6.9\\n1.12</td>\n",
       "      <td>14.3\\n7.5\\n1.12</td>\n",
       "      <td>15.2\\n8.1\\n1.08</td>\n",
       "      <td>17.0\\n9.1\\n1.13</td>\n",
       "      <td>17.8\\n9.5\\n1.16</td>\n",
       "    </tr>\n",
       "    <tr>\n",
       "      <th>8</th>\n",
       "      <td>4000</td>\n",
       "      <td>250</td>\n",
       "      <td>8.9\\n6.0\\n1.03</td>\n",
       "      <td>8.9\\n6.1\\n1.01</td>\n",
       "      <td>8.9\\n6.0\\n1.01</td>\n",
       "      <td>9.6\\n7.0\\n1.02</td>\n",
       "      <td>9.6\\n7.0\\n1.01</td>\n",
       "      <td>10.0\\n7.2\\n1.01</td>\n",
       "      <td>10.0\\n7.2\\n1.01</td>\n",
       "      <td>11.4\\n8.3\\n1.05</td>\n",
       "      <td>12.9\\n9.0\\n1.04</td>\n",
       "      <td>12.5\\n9.3\\n1.04</td>\n",
       "      <td>12.9\\n9.7\\n1.01</td>\n",
       "      <td>13.7\\n10.5\\n1.01</td>\n",
       "      <td>14.9\\n11.3\\n1.01</td>\n",
       "    </tr>\n",
       "    <tr>\n",
       "      <th>9</th>\n",
       "      <td>4000</td>\n",
       "      <td>300</td>\n",
       "      <td>8.9\\n6.0\\n1.00</td>\n",
       "      <td>9.1\\n8.0\\n1.00</td>\n",
       "      <td>9.1\\n8.0\\n1.00</td>\n",
       "      <td>10.2\\n8.7\\n1.00</td>\n",
       "      <td>10.4\\n9.3\\n1.00</td>\n",
       "      <td>10.6\\n9.4\\n1.00</td>\n",
       "      <td>11.2\\n10.1\\n1.00</td>\n",
       "      <td>11.7\\n10.3\\n1.01</td>\n",
       "      <td>12.6\\n11.0\\n1.01</td>\n",
       "      <td>13.3\\n11.8\\n1.03</td>\n",
       "      <td>14.7\\n13.3\\n1.03</td>\n",
       "      <td>15.0\\n13.8\\n1.00</td>\n",
       "      <td>16.1\\n14.7\\n1.03</td>\n",
       "    </tr>\n",
       "  </tbody>\n",
       "</table>\n",
       "</div>"
      ],
      "text/plain": [
       "   span  depth              4.5              6.0               7.5  \\\n",
       "0  3000    200   9.0\\n6.0\\n1.03   9.0\\n7.7\\n1.03    9.0\\n7.7\\n1.03   \n",
       "1  3000    250   9.1\\n6.0\\n1.03   9.1\\n8.0\\n1.03   9.1\\n10.0\\n1.03   \n",
       "2  3000    300   9.0\\n6.0\\n1.00   9.0\\n8.0\\n1.00   9.0\\n10.0\\n1.00   \n",
       "3  3000    350   9.1\\n6.0\\n1.00   9.1\\n8.0\\n1.00   9.1\\n10.0\\n1.00   \n",
       "4  3000    400  12.7\\n6.0\\n1.25  12.7\\n8.0\\n1.25  12.7\\n10.0\\n1.25   \n",
       "5  3000    450  12.9\\n6.0\\n1.26  12.9\\n8.0\\n1.26  12.9\\n10.0\\n1.26   \n",
       "6  3000    500  13.1\\n6.0\\n1.26  13.1\\n8.0\\n1.26  13.1\\n10.0\\n1.26   \n",
       "7  4000    200   8.8\\n4.0\\n1.03   8.8\\n4.0\\n1.01    8.9\\n4.2\\n1.01   \n",
       "8  4000    250   8.9\\n6.0\\n1.03   8.9\\n6.1\\n1.01    8.9\\n6.0\\n1.01   \n",
       "9  4000    300   8.9\\n6.0\\n1.00   9.1\\n8.0\\n1.00    9.1\\n8.0\\n1.00   \n",
       "\n",
       "                9.0              10.5              12.0              13.5  \\\n",
       "0    9.0\\n7.7\\n1.01    9.3\\n9.6\\n1.01    9.3\\n9.6\\n1.01   9.7\\n10.1\\n1.02   \n",
       "1   9.1\\n11.5\\n1.01   9.5\\n14.0\\n1.02   9.5\\n14.1\\n1.02   9.9\\n15.0\\n1.02   \n",
       "2   9.6\\n12.0\\n1.00   9.6\\n14.0\\n1.00   9.6\\n16.0\\n1.00   9.8\\n18.0\\n1.00   \n",
       "3   9.8\\n12.0\\n1.03  10.0\\n14.0\\n1.01  10.0\\n16.0\\n1.01  10.0\\n18.0\\n1.00   \n",
       "4  12.7\\n12.0\\n1.22  12.7\\n14.0\\n1.19  12.7\\n16.0\\n1.19  12.7\\n18.0\\n1.19   \n",
       "5  12.9\\n12.0\\n1.23  12.9\\n14.0\\n1.20  12.9\\n16.0\\n1.20  12.9\\n18.0\\n1.19   \n",
       "6  13.1\\n12.0\\n1.23  13.1\\n14.0\\n1.20  13.1\\n16.0\\n1.20  13.1\\n18.0\\n1.20   \n",
       "7    9.4\\n4.6\\n1.02    9.4\\n4.6\\n1.02   11.5\\n5.4\\n1.06   12.2\\n5.8\\n1.05   \n",
       "8    9.6\\n7.0\\n1.02    9.6\\n7.0\\n1.01   10.0\\n7.2\\n1.01   10.0\\n7.2\\n1.01   \n",
       "9   10.2\\n8.7\\n1.00   10.4\\n9.3\\n1.00   10.6\\n9.4\\n1.00  11.2\\n10.1\\n1.00   \n",
       "\n",
       "               15.0              16.5              18.0              19.5  \\\n",
       "0   9.7\\n10.1\\n1.02   9.7\\n10.1\\n1.01   9.8\\n10.3\\n1.03  10.1\\n10.5\\n1.03   \n",
       "1   9.9\\n15.0\\n1.02   9.9\\n15.0\\n1.01   9.9\\n15.0\\n1.01  10.3\\n15.7\\n1.02   \n",
       "2   9.8\\n19.9\\n1.00  10.1\\n20.2\\n1.00  10.1\\n20.3\\n1.00  10.2\\n21.3\\n1.00   \n",
       "3  10.0\\n20.0\\n1.00  10.5\\n22.0\\n1.01  10.5\\n24.0\\n1.01  10.5\\n26.0\\n1.00   \n",
       "4  12.7\\n20.0\\n1.19  12.7\\n22.0\\n1.17  12.7\\n24.0\\n1.17  12.7\\n26.0\\n1.16   \n",
       "5  12.9\\n20.0\\n1.19  12.9\\n22.0\\n1.18  12.9\\n24.0\\n1.18  12.9\\n26.0\\n1.17   \n",
       "6  13.1\\n20.0\\n1.20  13.1\\n22.0\\n1.18  13.1\\n24.0\\n1.18  13.1\\n26.0\\n1.17   \n",
       "7   12.1\\n6.2\\n1.09   13.4\\n6.9\\n1.12   14.3\\n7.5\\n1.12   15.2\\n8.1\\n1.08   \n",
       "8   11.4\\n8.3\\n1.05   12.9\\n9.0\\n1.04   12.5\\n9.3\\n1.04   12.9\\n9.7\\n1.01   \n",
       "9  11.7\\n10.3\\n1.01  12.6\\n11.0\\n1.01  13.3\\n11.8\\n1.03  14.7\\n13.3\\n1.03   \n",
       "\n",
       "               21.0              22.5  \n",
       "0  10.4\\n10.9\\n1.05  12.0\\n12.9\\n1.09  \n",
       "1  10.3\\n15.7\\n1.02  10.3\\n15.7\\n1.03  \n",
       "2  10.2\\n21.3\\n1.00  10.2\\n21.3\\n1.00  \n",
       "3   10.5\\n27.3 1.00  11.0\\n28.9\\n1.01  \n",
       "4  12.7\\n28.0\\n1.17  12.7\\n30.0\\n1.16  \n",
       "5  12.9\\n28.0\\n1.17  12.9\\n30.0\\n1.16  \n",
       "6  13.1\\n28.0\\n1.17  13.1\\n30.0\\n1.16  \n",
       "7   17.0\\n9.1\\n1.13   17.8\\n9.5\\n1.16  \n",
       "8  13.7\\n10.5\\n1.01  14.9\\n11.3\\n1.01  \n",
       "9  15.0\\n13.8\\n1.00  16.1\\n14.7\\n1.03  "
      ]
     },
     "execution_count": 96,
     "metadata": {},
     "output_type": "execute_result"
    }
   ],
   "source": [
    "canam_df.head(10)"
   ]
  },
  {
   "cell_type": "code",
   "execution_count": 24,
   "id": "43a5c3ab-0708-4056-8951-687e275da1ab",
   "metadata": {},
   "outputs": [],
   "source": [
    "span_mask = (canam_df['span'] < 1.05*span) & (canam_df['span'] > 0.95*span) \n",
    "depth_mask = (canam_df['depth'] < 1.05*depth) & (canam_df['depth'] > 0.95*depth) \n",
    "load_mask = (canam_df['depth'] < 1.05*depth) & (canam_df['depth'] > 0.95*depth) "
   ]
  },
  {
   "cell_type": "code",
   "execution_count": 25,
   "id": "1565f21e-f41d-44ff-bc29-42241e989066",
   "metadata": {},
   "outputs": [
    {
     "data": {
      "text/html": [
       "<div>\n",
       "<style scoped>\n",
       "    .dataframe tbody tr th:only-of-type {\n",
       "        vertical-align: middle;\n",
       "    }\n",
       "\n",
       "    .dataframe tbody tr th {\n",
       "        vertical-align: top;\n",
       "    }\n",
       "\n",
       "    .dataframe thead th {\n",
       "        text-align: right;\n",
       "    }\n",
       "</style>\n",
       "<table border=\"1\" class=\"dataframe\">\n",
       "  <thead>\n",
       "    <tr style=\"text-align: right;\">\n",
       "      <th></th>\n",
       "      <th>span</th>\n",
       "      <th>depth</th>\n",
       "      <th>4.5</th>\n",
       "      <th>6.0</th>\n",
       "      <th>7.5</th>\n",
       "      <th>9.0</th>\n",
       "      <th>10.5</th>\n",
       "      <th>12.0</th>\n",
       "      <th>13.5</th>\n",
       "      <th>15.0</th>\n",
       "      <th>16.5</th>\n",
       "      <th>18.0</th>\n",
       "      <th>19.5</th>\n",
       "      <th>21.0</th>\n",
       "      <th>22.5</th>\n",
       "    </tr>\n",
       "  </thead>\n",
       "  <tbody>\n",
       "    <tr>\n",
       "      <th>99</th>\n",
       "      <td>17000</td>\n",
       "      <td>900</td>\n",
       "      <td>15.1\\n1.9\\n1.00</td>\n",
       "      <td>17.4\\n2.3\\n1.00</td>\n",
       "      <td>19.1\\n2.6\\n1.00</td>\n",
       "      <td>21.6\\n3.0\\n1.00</td>\n",
       "      <td>24.4\\n3.3\\n1.00</td>\n",
       "      <td>26.5\\n3.7\\n1.00</td>\n",
       "      <td>29.4\\n4.1\\n1.00</td>\n",
       "      <td>31.5\\n4.4\\n1.00</td>\n",
       "      <td>34.3\\n4.8\\n1.00</td>\n",
       "      <td>36.2\\n5.1\\n1.13</td>\n",
       "      <td>38.3\\n5.4\\n1.15</td>\n",
       "      <td>41.7\\n5.9\\n1.14</td>\n",
       "      <td>46.0\\n6.7\\n1.18</td>\n",
       "    </tr>\n",
       "    <tr>\n",
       "      <th>105</th>\n",
       "      <td>18000</td>\n",
       "      <td>900</td>\n",
       "      <td>16.3\\n1.8\\n1.00</td>\n",
       "      <td>19.3\\n2.2\\n1.00</td>\n",
       "      <td>22.0\\n2.6\\n1.00</td>\n",
       "      <td>24.8\\n2.9\\n1.00</td>\n",
       "      <td>28.0\\n3.3\\n1.00</td>\n",
       "      <td>30.5\\n3.6\\n1.00</td>\n",
       "      <td>33.4\\n4.0\\n1.00</td>\n",
       "      <td>37.5\\n4.5\\n1.03</td>\n",
       "      <td>38.8\\n4.8\\n1.17</td>\n",
       "      <td>44.9\\n5.5\\n1.21</td>\n",
       "      <td>45.7\\n5.7\\n1.17</td>\n",
       "      <td>49.5\\n6.1\\n1.24</td>\n",
       "      <td>52.9\\n6.6\\n1.26</td>\n",
       "    </tr>\n",
       "  </tbody>\n",
       "</table>\n",
       "</div>"
      ],
      "text/plain": [
       "      span  depth              4.5              6.0              7.5  \\\n",
       "99   17000    900  15.1\\n1.9\\n1.00  17.4\\n2.3\\n1.00  19.1\\n2.6\\n1.00   \n",
       "105  18000    900  16.3\\n1.8\\n1.00  19.3\\n2.2\\n1.00  22.0\\n2.6\\n1.00   \n",
       "\n",
       "                 9.0             10.5             12.0             13.5  \\\n",
       "99   21.6\\n3.0\\n1.00  24.4\\n3.3\\n1.00  26.5\\n3.7\\n1.00  29.4\\n4.1\\n1.00   \n",
       "105  24.8\\n2.9\\n1.00  28.0\\n3.3\\n1.00  30.5\\n3.6\\n1.00  33.4\\n4.0\\n1.00   \n",
       "\n",
       "                15.0             16.5             18.0             19.5  \\\n",
       "99   31.5\\n4.4\\n1.00  34.3\\n4.8\\n1.00  36.2\\n5.1\\n1.13  38.3\\n5.4\\n1.15   \n",
       "105  37.5\\n4.5\\n1.03  38.8\\n4.8\\n1.17  44.9\\n5.5\\n1.21  45.7\\n5.7\\n1.17   \n",
       "\n",
       "                21.0             22.5  \n",
       "99   41.7\\n5.9\\n1.14  46.0\\n6.7\\n1.18  \n",
       "105  49.5\\n6.1\\n1.24  52.9\\n6.6\\n1.26  "
      ]
     },
     "execution_count": 25,
     "metadata": {},
     "output_type": "execute_result"
    }
   ],
   "source": [
    "canam_df.loc[span_mask & depth_mask]"
   ]
  },
  {
   "cell_type": "code",
   "execution_count": 81,
   "id": "a535e2d0-140f-43fb-9cf1-f8e4bcad249b",
   "metadata": {},
   "outputs": [
    {
     "data": {
      "text/html": [
       "<pre style=\"white-space:pre;overflow-x:auto;line-height:normal;font-family:Menlo,'DejaVu Sans Mono',consolas,'Courier New',monospace\">D/D\n",
       "</pre>\n"
      ],
      "text/plain": [
       "D/D\n"
      ]
     },
     "metadata": {},
     "output_type": "display_data"
    },
    {
     "data": {
      "text/html": [
       "<pre style=\"white-space:pre;overflow-x:auto;line-height:normal;font-family:Menlo,'DejaVu Sans Mono',consolas,'Courier New',monospace\"><span style=\"color: #008080; text-decoration-color: #008080; font-weight: bold\">8.05</span>\n",
       "</pre>\n"
      ],
      "text/plain": [
       "\u001b[1;36m8.05\u001b[0m\n"
      ]
     },
     "metadata": {},
     "output_type": "display_data"
    },
    {
     "data": {
      "text/html": [
       "<pre style=\"white-space:pre;overflow-x:auto;line-height:normal;font-family:Menlo,'DejaVu Sans Mono',consolas,'Courier New',monospace\">D/D\n",
       "</pre>\n"
      ],
      "text/plain": [
       "D/D\n"
      ]
     },
     "metadata": {},
     "output_type": "display_data"
    },
    {
     "data": {
      "text/html": [
       "<pre style=\"white-space:pre;overflow-x:auto;line-height:normal;font-family:Menlo,'DejaVu Sans Mono',consolas,'Courier New',monospace\"><span style=\"color: #008080; text-decoration-color: #008080; font-weight: bold\">8.0</span>\n",
       "</pre>\n"
      ],
      "text/plain": [
       "\u001b[1;36m8.0\u001b[0m\n"
      ]
     },
     "metadata": {},
     "output_type": "display_data"
    },
    {
     "data": {
      "text/html": [
       "<pre style=\"white-space:pre;overflow-x:auto;line-height:normal;font-family:Menlo,'DejaVu Sans Mono',consolas,'Courier New',monospace\">D/D\n",
       "</pre>\n"
      ],
      "text/plain": [
       "D/D\n"
      ]
     },
     "metadata": {},
     "output_type": "display_data"
    },
    {
     "data": {
      "text/html": [
       "<pre style=\"white-space:pre;overflow-x:auto;line-height:normal;font-family:Menlo,'DejaVu Sans Mono',consolas,'Courier New',monospace\"><span style=\"color: #008080; text-decoration-color: #008080; font-weight: bold\">7.86</span>\n",
       "</pre>\n"
      ],
      "text/plain": [
       "\u001b[1;36m7.86\u001b[0m\n"
      ]
     },
     "metadata": {},
     "output_type": "display_data"
    },
    {
     "data": {
      "text/html": [
       "<pre style=\"white-space:pre;overflow-x:auto;line-height:normal;font-family:Menlo,'DejaVu Sans Mono',consolas,'Courier New',monospace\">D/D\n",
       "</pre>\n"
      ],
      "text/plain": [
       "D/D\n"
      ]
     },
     "metadata": {},
     "output_type": "display_data"
    },
    {
     "data": {
      "text/html": [
       "<pre style=\"white-space:pre;overflow-x:auto;line-height:normal;font-family:Menlo,'DejaVu Sans Mono',consolas,'Courier New',monospace\"><span style=\"color: #008080; text-decoration-color: #008080; font-weight: bold\">7.69</span>\n",
       "</pre>\n"
      ],
      "text/plain": [
       "\u001b[1;36m7.69\u001b[0m\n"
      ]
     },
     "metadata": {},
     "output_type": "display_data"
    },
    {
     "data": {
      "text/html": [
       "<pre style=\"white-space:pre;overflow-x:auto;line-height:normal;font-family:Menlo,'DejaVu Sans Mono',consolas,'Courier New',monospace\">D/D\n",
       "</pre>\n"
      ],
      "text/plain": [
       "D/D\n"
      ]
     },
     "metadata": {},
     "output_type": "display_data"
    },
    {
     "data": {
      "text/html": [
       "<pre style=\"white-space:pre;overflow-x:auto;line-height:normal;font-family:Menlo,'DejaVu Sans Mono',consolas,'Courier New',monospace\"><span style=\"color: #008080; text-decoration-color: #008080; font-weight: bold\">8.31</span>\n",
       "</pre>\n"
      ],
      "text/plain": [
       "\u001b[1;36m8.31\u001b[0m\n"
      ]
     },
     "metadata": {},
     "output_type": "display_data"
    },
    {
     "data": {
      "text/html": [
       "<pre style=\"white-space:pre;overflow-x:auto;line-height:normal;font-family:Menlo,'DejaVu Sans Mono',consolas,'Courier New',monospace\">D/D\n",
       "</pre>\n"
      ],
      "text/plain": [
       "D/D\n"
      ]
     },
     "metadata": {},
     "output_type": "display_data"
    },
    {
     "data": {
      "text/html": [
       "<pre style=\"white-space:pre;overflow-x:auto;line-height:normal;font-family:Menlo,'DejaVu Sans Mono',consolas,'Courier New',monospace\"><span style=\"color: #008080; text-decoration-color: #008080; font-weight: bold\">8.02</span>\n",
       "</pre>\n"
      ],
      "text/plain": [
       "\u001b[1;36m8.02\u001b[0m\n"
      ]
     },
     "metadata": {},
     "output_type": "display_data"
    },
    {
     "data": {
      "text/html": [
       "<pre style=\"white-space:pre;overflow-x:auto;line-height:normal;font-family:Menlo,'DejaVu Sans Mono',consolas,'Courier New',monospace\">D/D\n",
       "</pre>\n"
      ],
      "text/plain": [
       "D/D\n"
      ]
     },
     "metadata": {},
     "output_type": "display_data"
    },
    {
     "data": {
      "text/html": [
       "<pre style=\"white-space:pre;overflow-x:auto;line-height:normal;font-family:Menlo,'DejaVu Sans Mono',consolas,'Courier New',monospace\"><span style=\"color: #008080; text-decoration-color: #008080; font-weight: bold\">7.74</span>\n",
       "</pre>\n"
      ],
      "text/plain": [
       "\u001b[1;36m7.74\u001b[0m\n"
      ]
     },
     "metadata": {},
     "output_type": "display_data"
    },
    {
     "data": {
      "text/html": [
       "<pre style=\"white-space:pre;overflow-x:auto;line-height:normal;font-family:Menlo,'DejaVu Sans Mono',consolas,'Courier New',monospace\">D/D\n",
       "</pre>\n"
      ],
      "text/plain": [
       "D/D\n"
      ]
     },
     "metadata": {},
     "output_type": "display_data"
    },
    {
     "data": {
      "text/html": [
       "<pre style=\"white-space:pre;overflow-x:auto;line-height:normal;font-family:Menlo,'DejaVu Sans Mono',consolas,'Courier New',monospace\"><span style=\"color: #008080; text-decoration-color: #008080; font-weight: bold\">8.32</span>\n",
       "</pre>\n"
      ],
      "text/plain": [
       "\u001b[1;36m8.32\u001b[0m\n"
      ]
     },
     "metadata": {},
     "output_type": "display_data"
    },
    {
     "data": {
      "text/html": [
       "<pre style=\"white-space:pre;overflow-x:auto;line-height:normal;font-family:Menlo,'DejaVu Sans Mono',consolas,'Courier New',monospace\">D/D\n",
       "</pre>\n"
      ],
      "text/plain": [
       "D/D\n"
      ]
     },
     "metadata": {},
     "output_type": "display_data"
    },
    {
     "data": {
      "text/html": [
       "<pre style=\"white-space:pre;overflow-x:auto;line-height:normal;font-family:Menlo,'DejaVu Sans Mono',consolas,'Courier New',monospace\"><span style=\"color: #008080; text-decoration-color: #008080; font-weight: bold\">8.05</span>\n",
       "</pre>\n"
      ],
      "text/plain": [
       "\u001b[1;36m8.05\u001b[0m\n"
      ]
     },
     "metadata": {},
     "output_type": "display_data"
    },
    {
     "data": {
      "text/html": [
       "<pre style=\"white-space:pre;overflow-x:auto;line-height:normal;font-family:Menlo,'DejaVu Sans Mono',consolas,'Courier New',monospace\">D/D\n",
       "</pre>\n"
      ],
      "text/plain": [
       "D/D\n"
      ]
     },
     "metadata": {},
     "output_type": "display_data"
    },
    {
     "data": {
      "text/html": [
       "<pre style=\"white-space:pre;overflow-x:auto;line-height:normal;font-family:Menlo,'DejaVu Sans Mono',consolas,'Courier New',monospace\"><span style=\"color: #008080; text-decoration-color: #008080; font-weight: bold\">7.74</span>\n",
       "</pre>\n"
      ],
      "text/plain": [
       "\u001b[1;36m7.74\u001b[0m\n"
      ]
     },
     "metadata": {},
     "output_type": "display_data"
    },
    {
     "data": {
      "text/html": [
       "<pre style=\"white-space:pre;overflow-x:auto;line-height:normal;font-family:Menlo,'DejaVu Sans Mono',consolas,'Courier New',monospace\">D/D\n",
       "</pre>\n"
      ],
      "text/plain": [
       "D/D\n"
      ]
     },
     "metadata": {},
     "output_type": "display_data"
    },
    {
     "data": {
      "text/html": [
       "<pre style=\"white-space:pre;overflow-x:auto;line-height:normal;font-family:Menlo,'DejaVu Sans Mono',consolas,'Courier New',monospace\"><span style=\"color: #008080; text-decoration-color: #008080; font-weight: bold\">8.21</span>\n",
       "</pre>\n"
      ],
      "text/plain": [
       "\u001b[1;36m8.21\u001b[0m\n"
      ]
     },
     "metadata": {},
     "output_type": "display_data"
    },
    {
     "data": {
      "text/html": [
       "<pre style=\"white-space:pre;overflow-x:auto;line-height:normal;font-family:Menlo,'DejaVu Sans Mono',consolas,'Courier New',monospace\">D/D\n",
       "</pre>\n"
      ],
      "text/plain": [
       "D/D\n"
      ]
     },
     "metadata": {},
     "output_type": "display_data"
    },
    {
     "data": {
      "text/html": [
       "<pre style=\"white-space:pre;overflow-x:auto;line-height:normal;font-family:Menlo,'DejaVu Sans Mono',consolas,'Courier New',monospace\"><span style=\"color: #008080; text-decoration-color: #008080; font-weight: bold\">7.88</span>\n",
       "</pre>\n"
      ],
      "text/plain": [
       "\u001b[1;36m7.88\u001b[0m\n"
      ]
     },
     "metadata": {},
     "output_type": "display_data"
    },
    {
     "data": {
      "text/html": [
       "<pre style=\"white-space:pre;overflow-x:auto;line-height:normal;font-family:Menlo,'DejaVu Sans Mono',consolas,'Courier New',monospace\">D/D\n",
       "</pre>\n"
      ],
      "text/plain": [
       "D/D\n"
      ]
     },
     "metadata": {},
     "output_type": "display_data"
    },
    {
     "data": {
      "text/html": [
       "<pre style=\"white-space:pre;overflow-x:auto;line-height:normal;font-family:Menlo,'DejaVu Sans Mono',consolas,'Courier New',monospace\"><span style=\"color: #008080; text-decoration-color: #008080; font-weight: bold\">8.31</span>\n",
       "</pre>\n"
      ],
      "text/plain": [
       "\u001b[1;36m8.31\u001b[0m\n"
      ]
     },
     "metadata": {},
     "output_type": "display_data"
    },
    {
     "data": {
      "text/html": [
       "<pre style=\"white-space:pre;overflow-x:auto;line-height:normal;font-family:Menlo,'DejaVu Sans Mono',consolas,'Courier New',monospace\">D/D\n",
       "</pre>\n"
      ],
      "text/plain": [
       "D/D\n"
      ]
     },
     "metadata": {},
     "output_type": "display_data"
    },
    {
     "data": {
      "text/html": [
       "<pre style=\"white-space:pre;overflow-x:auto;line-height:normal;font-family:Menlo,'DejaVu Sans Mono',consolas,'Courier New',monospace\"><span style=\"color: #008080; text-decoration-color: #008080; font-weight: bold\">7.96</span>\n",
       "</pre>\n"
      ],
      "text/plain": [
       "\u001b[1;36m7.96\u001b[0m\n"
      ]
     },
     "metadata": {},
     "output_type": "display_data"
    },
    {
     "data": {
      "text/html": [
       "<pre style=\"white-space:pre;overflow-x:auto;line-height:normal;font-family:Menlo,'DejaVu Sans Mono',consolas,'Courier New',monospace\">nan <span style=\"color: #008080; text-decoration-color: #008080; font-weight: bold\">187</span>\n",
       "</pre>\n"
      ],
      "text/plain": [
       "nan \u001b[1;36m187\u001b[0m\n"
      ]
     },
     "metadata": {},
     "output_type": "display_data"
    },
    {
     "data": {
      "text/html": [
       "<pre style=\"white-space:pre;overflow-x:auto;line-height:normal;font-family:Menlo,'DejaVu Sans Mono',consolas,'Courier New',monospace\">nan <span style=\"color: #008080; text-decoration-color: #008080; font-weight: bold\">198</span>\n",
       "</pre>\n"
      ],
      "text/plain": [
       "nan \u001b[1;36m198\u001b[0m\n"
      ]
     },
     "metadata": {},
     "output_type": "display_data"
    },
    {
     "data": {
      "text/html": [
       "<pre style=\"white-space:pre;overflow-x:auto;line-height:normal;font-family:Menlo,'DejaVu Sans Mono',consolas,'Courier New',monospace\">nan <span style=\"color: #008080; text-decoration-color: #008080; font-weight: bold\">199</span>\n",
       "</pre>\n"
      ],
      "text/plain": [
       "nan \u001b[1;36m199\u001b[0m\n"
      ]
     },
     "metadata": {},
     "output_type": "display_data"
    },
    {
     "data": {
      "text/html": [
       "<pre style=\"white-space:pre;overflow-x:auto;line-height:normal;font-family:Menlo,'DejaVu Sans Mono',consolas,'Courier New',monospace\">nan <span style=\"color: #008080; text-decoration-color: #008080; font-weight: bold\">209</span>\n",
       "</pre>\n"
      ],
      "text/plain": [
       "nan \u001b[1;36m209\u001b[0m\n"
      ]
     },
     "metadata": {},
     "output_type": "display_data"
    },
    {
     "data": {
      "text/html": [
       "<pre style=\"white-space:pre;overflow-x:auto;line-height:normal;font-family:Menlo,'DejaVu Sans Mono',consolas,'Courier New',monospace\">nan <span style=\"color: #008080; text-decoration-color: #008080; font-weight: bold\">219</span>\n",
       "</pre>\n"
      ],
      "text/plain": [
       "nan \u001b[1;36m219\u001b[0m\n"
      ]
     },
     "metadata": {},
     "output_type": "display_data"
    },
    {
     "data": {
      "text/html": [
       "<pre style=\"white-space:pre;overflow-x:auto;line-height:normal;font-family:Menlo,'DejaVu Sans Mono',consolas,'Courier New',monospace\">nan <span style=\"color: #008080; text-decoration-color: #008080; font-weight: bold\">220</span>\n",
       "</pre>\n"
      ],
      "text/plain": [
       "nan \u001b[1;36m220\u001b[0m\n"
      ]
     },
     "metadata": {},
     "output_type": "display_data"
    },
    {
     "data": {
      "text/html": [
       "<pre style=\"white-space:pre;overflow-x:auto;line-height:normal;font-family:Menlo,'DejaVu Sans Mono',consolas,'Courier New',monospace\">nan <span style=\"color: #008080; text-decoration-color: #008080; font-weight: bold\">229</span>\n",
       "</pre>\n"
      ],
      "text/plain": [
       "nan \u001b[1;36m229\u001b[0m\n"
      ]
     },
     "metadata": {},
     "output_type": "display_data"
    },
    {
     "data": {
      "text/html": [
       "<pre style=\"white-space:pre;overflow-x:auto;line-height:normal;font-family:Menlo,'DejaVu Sans Mono',consolas,'Courier New',monospace\">nan <span style=\"color: #008080; text-decoration-color: #008080; font-weight: bold\">230</span>\n",
       "</pre>\n"
      ],
      "text/plain": [
       "nan \u001b[1;36m230\u001b[0m\n"
      ]
     },
     "metadata": {},
     "output_type": "display_data"
    },
    {
     "data": {
      "text/html": [
       "<pre style=\"white-space:pre;overflow-x:auto;line-height:normal;font-family:Menlo,'DejaVu Sans Mono',consolas,'Courier New',monospace\">E/D\n",
       "</pre>\n"
      ],
      "text/plain": [
       "E/D\n"
      ]
     },
     "metadata": {},
     "output_type": "display_data"
    },
    {
     "data": {
      "text/html": [
       "<pre style=\"white-space:pre;overflow-x:auto;line-height:normal;font-family:Menlo,'DejaVu Sans Mono',consolas,'Courier New',monospace\"><span style=\"color: #008080; text-decoration-color: #008080; font-weight: bold\">8.23</span>\n",
       "</pre>\n"
      ],
      "text/plain": [
       "\u001b[1;36m8.23\u001b[0m\n"
      ]
     },
     "metadata": {},
     "output_type": "display_data"
    },
    {
     "data": {
      "text/html": [
       "<pre style=\"white-space:pre;overflow-x:auto;line-height:normal;font-family:Menlo,'DejaVu Sans Mono',consolas,'Courier New',monospace\">E/D\n",
       "</pre>\n"
      ],
      "text/plain": [
       "E/D\n"
      ]
     },
     "metadata": {},
     "output_type": "display_data"
    },
    {
     "data": {
      "text/html": [
       "<pre style=\"white-space:pre;overflow-x:auto;line-height:normal;font-family:Menlo,'DejaVu Sans Mono',consolas,'Courier New',monospace\"><span style=\"color: #008080; text-decoration-color: #008080; font-weight: bold\">8.28</span>\n",
       "</pre>\n"
      ],
      "text/plain": [
       "\u001b[1;36m8.28\u001b[0m\n"
      ]
     },
     "metadata": {},
     "output_type": "display_data"
    },
    {
     "data": {
      "text/html": [
       "<pre style=\"white-space:pre;overflow-x:auto;line-height:normal;font-family:Menlo,'DejaVu Sans Mono',consolas,'Courier New',monospace\">E/D\n",
       "</pre>\n"
      ],
      "text/plain": [
       "E/D\n"
      ]
     },
     "metadata": {},
     "output_type": "display_data"
    },
    {
     "data": {
      "text/html": [
       "<pre style=\"white-space:pre;overflow-x:auto;line-height:normal;font-family:Menlo,'DejaVu Sans Mono',consolas,'Courier New',monospace\"><span style=\"color: #008080; text-decoration-color: #008080; font-weight: bold\">8.22</span>\n",
       "</pre>\n"
      ],
      "text/plain": [
       "\u001b[1;36m8.22\u001b[0m\n"
      ]
     },
     "metadata": {},
     "output_type": "display_data"
    },
    {
     "data": {
      "text/html": [
       "<pre style=\"white-space:pre;overflow-x:auto;line-height:normal;font-family:Menlo,'DejaVu Sans Mono',consolas,'Courier New',monospace\">E/D\n",
       "</pre>\n"
      ],
      "text/plain": [
       "E/D\n"
      ]
     },
     "metadata": {},
     "output_type": "display_data"
    },
    {
     "data": {
      "text/html": [
       "<pre style=\"white-space:pre;overflow-x:auto;line-height:normal;font-family:Menlo,'DejaVu Sans Mono',consolas,'Courier New',monospace\"><span style=\"color: #008080; text-decoration-color: #008080; font-weight: bold\">8.11</span>\n",
       "</pre>\n"
      ],
      "text/plain": [
       "\u001b[1;36m8.11\u001b[0m\n"
      ]
     },
     "metadata": {},
     "output_type": "display_data"
    },
    {
     "data": {
      "text/html": [
       "<pre style=\"white-space:pre;overflow-x:auto;line-height:normal;font-family:Menlo,'DejaVu Sans Mono',consolas,'Courier New',monospace\">E/D\n",
       "</pre>\n"
      ],
      "text/plain": [
       "E/D\n"
      ]
     },
     "metadata": {},
     "output_type": "display_data"
    },
    {
     "data": {
      "text/html": [
       "<pre style=\"white-space:pre;overflow-x:auto;line-height:normal;font-family:Menlo,'DejaVu Sans Mono',consolas,'Courier New',monospace\"><span style=\"color: #008080; text-decoration-color: #008080; font-weight: bold\">7.98</span>\n",
       "</pre>\n"
      ],
      "text/plain": [
       "\u001b[1;36m7.98\u001b[0m\n"
      ]
     },
     "metadata": {},
     "output_type": "display_data"
    },
    {
     "data": {
      "text/html": [
       "<pre style=\"white-space:pre;overflow-x:auto;line-height:normal;font-family:Menlo,'DejaVu Sans Mono',consolas,'Courier New',monospace\">E/D\n",
       "</pre>\n"
      ],
      "text/plain": [
       "E/D\n"
      ]
     },
     "metadata": {},
     "output_type": "display_data"
    },
    {
     "data": {
      "text/html": [
       "<pre style=\"white-space:pre;overflow-x:auto;line-height:normal;font-family:Menlo,'DejaVu Sans Mono',consolas,'Courier New',monospace\"><span style=\"color: #008080; text-decoration-color: #008080; font-weight: bold\">7.88</span>\n",
       "</pre>\n"
      ],
      "text/plain": [
       "\u001b[1;36m7.88\u001b[0m\n"
      ]
     },
     "metadata": {},
     "output_type": "display_data"
    },
    {
     "data": {
      "text/html": [
       "<pre style=\"white-space:pre;overflow-x:auto;line-height:normal;font-family:Menlo,'DejaVu Sans Mono',consolas,'Courier New',monospace\">E/D\n",
       "</pre>\n"
      ],
      "text/plain": [
       "E/D\n"
      ]
     },
     "metadata": {},
     "output_type": "display_data"
    },
    {
     "data": {
      "text/html": [
       "<pre style=\"white-space:pre;overflow-x:auto;line-height:normal;font-family:Menlo,'DejaVu Sans Mono',consolas,'Courier New',monospace\"><span style=\"color: #008080; text-decoration-color: #008080; font-weight: bold\">7.71</span>\n",
       "</pre>\n"
      ],
      "text/plain": [
       "\u001b[1;36m7.71\u001b[0m\n"
      ]
     },
     "metadata": {},
     "output_type": "display_data"
    },
    {
     "data": {
      "text/html": [
       "<pre style=\"white-space:pre;overflow-x:auto;line-height:normal;font-family:Menlo,'DejaVu Sans Mono',consolas,'Courier New',monospace\">E/D\n",
       "</pre>\n"
      ],
      "text/plain": [
       "E/D\n"
      ]
     },
     "metadata": {},
     "output_type": "display_data"
    },
    {
     "data": {
      "text/html": [
       "<pre style=\"white-space:pre;overflow-x:auto;line-height:normal;font-family:Menlo,'DejaVu Sans Mono',consolas,'Courier New',monospace\"><span style=\"color: #008080; text-decoration-color: #008080; font-weight: bold\">8.34</span>\n",
       "</pre>\n"
      ],
      "text/plain": [
       "\u001b[1;36m8.34\u001b[0m\n"
      ]
     },
     "metadata": {},
     "output_type": "display_data"
    },
    {
     "data": {
      "text/html": [
       "<pre style=\"white-space:pre;overflow-x:auto;line-height:normal;font-family:Menlo,'DejaVu Sans Mono',consolas,'Courier New',monospace\">E/D\n",
       "</pre>\n"
      ],
      "text/plain": [
       "E/D\n"
      ]
     },
     "metadata": {},
     "output_type": "display_data"
    },
    {
     "data": {
      "text/html": [
       "<pre style=\"white-space:pre;overflow-x:auto;line-height:normal;font-family:Menlo,'DejaVu Sans Mono',consolas,'Courier New',monospace\"><span style=\"color: #008080; text-decoration-color: #008080; font-weight: bold\">8.09</span>\n",
       "</pre>\n"
      ],
      "text/plain": [
       "\u001b[1;36m8.09\u001b[0m\n"
      ]
     },
     "metadata": {},
     "output_type": "display_data"
    },
    {
     "data": {
      "text/html": [
       "<pre style=\"white-space:pre;overflow-x:auto;line-height:normal;font-family:Menlo,'DejaVu Sans Mono',consolas,'Courier New',monospace\">E/D\n",
       "</pre>\n"
      ],
      "text/plain": [
       "E/D\n"
      ]
     },
     "metadata": {},
     "output_type": "display_data"
    },
    {
     "data": {
      "text/html": [
       "<pre style=\"white-space:pre;overflow-x:auto;line-height:normal;font-family:Menlo,'DejaVu Sans Mono',consolas,'Courier New',monospace\"><span style=\"color: #008080; text-decoration-color: #008080; font-weight: bold\">7.91</span>\n",
       "</pre>\n"
      ],
      "text/plain": [
       "\u001b[1;36m7.91\u001b[0m\n"
      ]
     },
     "metadata": {},
     "output_type": "display_data"
    },
    {
     "data": {
      "text/html": [
       "<pre style=\"white-space:pre;overflow-x:auto;line-height:normal;font-family:Menlo,'DejaVu Sans Mono',consolas,'Courier New',monospace\">E/D\n",
       "</pre>\n"
      ],
      "text/plain": [
       "E/D\n"
      ]
     },
     "metadata": {},
     "output_type": "display_data"
    },
    {
     "data": {
      "text/html": [
       "<pre style=\"white-space:pre;overflow-x:auto;line-height:normal;font-family:Menlo,'DejaVu Sans Mono',consolas,'Courier New',monospace\"><span style=\"color: #008080; text-decoration-color: #008080; font-weight: bold\">7.67</span>\n",
       "</pre>\n"
      ],
      "text/plain": [
       "\u001b[1;36m7.67\u001b[0m\n"
      ]
     },
     "metadata": {},
     "output_type": "display_data"
    },
    {
     "data": {
      "text/html": [
       "<pre style=\"white-space:pre;overflow-x:auto;line-height:normal;font-family:Menlo,'DejaVu Sans Mono',consolas,'Courier New',monospace\">E/D\n",
       "</pre>\n"
      ],
      "text/plain": [
       "E/D\n"
      ]
     },
     "metadata": {},
     "output_type": "display_data"
    },
    {
     "data": {
      "text/html": [
       "<pre style=\"white-space:pre;overflow-x:auto;line-height:normal;font-family:Menlo,'DejaVu Sans Mono',consolas,'Courier New',monospace\"><span style=\"color: #008080; text-decoration-color: #008080; font-weight: bold\">8.14</span>\n",
       "</pre>\n"
      ],
      "text/plain": [
       "\u001b[1;36m8.14\u001b[0m\n"
      ]
     },
     "metadata": {},
     "output_type": "display_data"
    },
    {
     "data": {
      "text/html": [
       "<pre style=\"white-space:pre;overflow-x:auto;line-height:normal;font-family:Menlo,'DejaVu Sans Mono',consolas,'Courier New',monospace\">E/D\n",
       "</pre>\n"
      ],
      "text/plain": [
       "E/D\n"
      ]
     },
     "metadata": {},
     "output_type": "display_data"
    },
    {
     "data": {
      "text/html": [
       "<pre style=\"white-space:pre;overflow-x:auto;line-height:normal;font-family:Menlo,'DejaVu Sans Mono',consolas,'Courier New',monospace\"><span style=\"color: #008080; text-decoration-color: #008080; font-weight: bold\">7.88</span>\n",
       "</pre>\n"
      ],
      "text/plain": [
       "\u001b[1;36m7.88\u001b[0m\n"
      ]
     },
     "metadata": {},
     "output_type": "display_data"
    },
    {
     "data": {
      "text/html": [
       "<pre style=\"white-space:pre;overflow-x:auto;line-height:normal;font-family:Menlo,'DejaVu Sans Mono',consolas,'Courier New',monospace\">E/D\n",
       "</pre>\n"
      ],
      "text/plain": [
       "E/D\n"
      ]
     },
     "metadata": {},
     "output_type": "display_data"
    },
    {
     "data": {
      "text/html": [
       "<pre style=\"white-space:pre;overflow-x:auto;line-height:normal;font-family:Menlo,'DejaVu Sans Mono',consolas,'Courier New',monospace\"><span style=\"color: #008080; text-decoration-color: #008080; font-weight: bold\">8.31</span>\n",
       "</pre>\n"
      ],
      "text/plain": [
       "\u001b[1;36m8.31\u001b[0m\n"
      ]
     },
     "metadata": {},
     "output_type": "display_data"
    },
    {
     "data": {
      "text/html": [
       "<pre style=\"white-space:pre;overflow-x:auto;line-height:normal;font-family:Menlo,'DejaVu Sans Mono',consolas,'Courier New',monospace\">E/D\n",
       "</pre>\n"
      ],
      "text/plain": [
       "E/D\n"
      ]
     },
     "metadata": {},
     "output_type": "display_data"
    },
    {
     "data": {
      "text/html": [
       "<pre style=\"white-space:pre;overflow-x:auto;line-height:normal;font-family:Menlo,'DejaVu Sans Mono',consolas,'Courier New',monospace\"><span style=\"color: #008080; text-decoration-color: #008080; font-weight: bold\">7.63</span>\n",
       "</pre>\n"
      ],
      "text/plain": [
       "\u001b[1;36m7.63\u001b[0m\n"
      ]
     },
     "metadata": {},
     "output_type": "display_data"
    },
    {
     "data": {
      "text/html": [
       "<pre style=\"white-space:pre;overflow-x:auto;line-height:normal;font-family:Menlo,'DejaVu Sans Mono',consolas,'Courier New',monospace\">E/D\n",
       "</pre>\n"
      ],
      "text/plain": [
       "E/D\n"
      ]
     },
     "metadata": {},
     "output_type": "display_data"
    },
    {
     "data": {
      "text/html": [
       "<pre style=\"white-space:pre;overflow-x:auto;line-height:normal;font-family:Menlo,'DejaVu Sans Mono',consolas,'Courier New',monospace\"><span style=\"color: #008080; text-decoration-color: #008080; font-weight: bold\">8.03</span>\n",
       "</pre>\n"
      ],
      "text/plain": [
       "\u001b[1;36m8.03\u001b[0m\n"
      ]
     },
     "metadata": {},
     "output_type": "display_data"
    },
    {
     "data": {
      "text/html": [
       "<pre style=\"white-space:pre;overflow-x:auto;line-height:normal;font-family:Menlo,'DejaVu Sans Mono',consolas,'Courier New',monospace\">E/E\n",
       "</pre>\n"
      ],
      "text/plain": [
       "E/E\n"
      ]
     },
     "metadata": {},
     "output_type": "display_data"
    },
    {
     "data": {
      "text/html": [
       "<pre style=\"white-space:pre;overflow-x:auto;line-height:normal;font-family:Menlo,'DejaVu Sans Mono',consolas,'Courier New',monospace\"><span style=\"color: #008080; text-decoration-color: #008080; font-weight: bold\">8.33</span>\n",
       "</pre>\n"
      ],
      "text/plain": [
       "\u001b[1;36m8.33\u001b[0m\n"
      ]
     },
     "metadata": {},
     "output_type": "display_data"
    },
    {
     "data": {
      "text/html": [
       "<pre style=\"white-space:pre;overflow-x:auto;line-height:normal;font-family:Menlo,'DejaVu Sans Mono',consolas,'Courier New',monospace\">E/E\n",
       "</pre>\n"
      ],
      "text/plain": [
       "E/E\n"
      ]
     },
     "metadata": {},
     "output_type": "display_data"
    },
    {
     "data": {
      "text/html": [
       "<pre style=\"white-space:pre;overflow-x:auto;line-height:normal;font-family:Menlo,'DejaVu Sans Mono',consolas,'Courier New',monospace\"><span style=\"color: #008080; text-decoration-color: #008080; font-weight: bold\">8.38</span>\n",
       "</pre>\n"
      ],
      "text/plain": [
       "\u001b[1;36m8.38\u001b[0m\n"
      ]
     },
     "metadata": {},
     "output_type": "display_data"
    },
    {
     "data": {
      "text/html": [
       "<pre style=\"white-space:pre;overflow-x:auto;line-height:normal;font-family:Menlo,'DejaVu Sans Mono',consolas,'Courier New',monospace\">E/E\n",
       "</pre>\n"
      ],
      "text/plain": [
       "E/E\n"
      ]
     },
     "metadata": {},
     "output_type": "display_data"
    },
    {
     "data": {
      "text/html": [
       "<pre style=\"white-space:pre;overflow-x:auto;line-height:normal;font-family:Menlo,'DejaVu Sans Mono',consolas,'Courier New',monospace\"><span style=\"color: #008080; text-decoration-color: #008080; font-weight: bold\">8.32</span>\n",
       "</pre>\n"
      ],
      "text/plain": [
       "\u001b[1;36m8.32\u001b[0m\n"
      ]
     },
     "metadata": {},
     "output_type": "display_data"
    },
    {
     "data": {
      "text/html": [
       "<pre style=\"white-space:pre;overflow-x:auto;line-height:normal;font-family:Menlo,'DejaVu Sans Mono',consolas,'Courier New',monospace\">E/E\n",
       "</pre>\n"
      ],
      "text/plain": [
       "E/E\n"
      ]
     },
     "metadata": {},
     "output_type": "display_data"
    },
    {
     "data": {
      "text/html": [
       "<pre style=\"white-space:pre;overflow-x:auto;line-height:normal;font-family:Menlo,'DejaVu Sans Mono',consolas,'Courier New',monospace\"><span style=\"color: #008080; text-decoration-color: #008080; font-weight: bold\">8.21</span>\n",
       "</pre>\n"
      ],
      "text/plain": [
       "\u001b[1;36m8.21\u001b[0m\n"
      ]
     },
     "metadata": {},
     "output_type": "display_data"
    },
    {
     "data": {
      "text/html": [
       "<pre style=\"white-space:pre;overflow-x:auto;line-height:normal;font-family:Menlo,'DejaVu Sans Mono',consolas,'Courier New',monospace\">E/E\n",
       "</pre>\n"
      ],
      "text/plain": [
       "E/E\n"
      ]
     },
     "metadata": {},
     "output_type": "display_data"
    },
    {
     "data": {
      "text/html": [
       "<pre style=\"white-space:pre;overflow-x:auto;line-height:normal;font-family:Menlo,'DejaVu Sans Mono',consolas,'Courier New',monospace\"><span style=\"color: #008080; text-decoration-color: #008080; font-weight: bold\">8.07</span>\n",
       "</pre>\n"
      ],
      "text/plain": [
       "\u001b[1;36m8.07\u001b[0m\n"
      ]
     },
     "metadata": {},
     "output_type": "display_data"
    },
    {
     "data": {
      "text/html": [
       "<pre style=\"white-space:pre;overflow-x:auto;line-height:normal;font-family:Menlo,'DejaVu Sans Mono',consolas,'Courier New',monospace\">E/E\n",
       "</pre>\n"
      ],
      "text/plain": [
       "E/E\n"
      ]
     },
     "metadata": {},
     "output_type": "display_data"
    },
    {
     "data": {
      "text/html": [
       "<pre style=\"white-space:pre;overflow-x:auto;line-height:normal;font-family:Menlo,'DejaVu Sans Mono',consolas,'Courier New',monospace\"><span style=\"color: #008080; text-decoration-color: #008080; font-weight: bold\">7.98</span>\n",
       "</pre>\n"
      ],
      "text/plain": [
       "\u001b[1;36m7.98\u001b[0m\n"
      ]
     },
     "metadata": {},
     "output_type": "display_data"
    },
    {
     "data": {
      "text/html": [
       "<pre style=\"white-space:pre;overflow-x:auto;line-height:normal;font-family:Menlo,'DejaVu Sans Mono',consolas,'Courier New',monospace\">E/E\n",
       "</pre>\n"
      ],
      "text/plain": [
       "E/E\n"
      ]
     },
     "metadata": {},
     "output_type": "display_data"
    },
    {
     "data": {
      "text/html": [
       "<pre style=\"white-space:pre;overflow-x:auto;line-height:normal;font-family:Menlo,'DejaVu Sans Mono',consolas,'Courier New',monospace\"><span style=\"color: #008080; text-decoration-color: #008080; font-weight: bold\">7.8</span>\n",
       "</pre>\n"
      ],
      "text/plain": [
       "\u001b[1;36m7.8\u001b[0m\n"
      ]
     },
     "metadata": {},
     "output_type": "display_data"
    },
    {
     "data": {
      "text/html": [
       "<pre style=\"white-space:pre;overflow-x:auto;line-height:normal;font-family:Menlo,'DejaVu Sans Mono',consolas,'Courier New',monospace\">E/E\n",
       "</pre>\n"
      ],
      "text/plain": [
       "E/E\n"
      ]
     },
     "metadata": {},
     "output_type": "display_data"
    },
    {
     "data": {
      "text/html": [
       "<pre style=\"white-space:pre;overflow-x:auto;line-height:normal;font-family:Menlo,'DejaVu Sans Mono',consolas,'Courier New',monospace\"><span style=\"color: #008080; text-decoration-color: #008080; font-weight: bold\">7.62</span>\n",
       "</pre>\n"
      ],
      "text/plain": [
       "\u001b[1;36m7.62\u001b[0m\n"
      ]
     },
     "metadata": {},
     "output_type": "display_data"
    },
    {
     "data": {
      "text/html": [
       "<pre style=\"white-space:pre;overflow-x:auto;line-height:normal;font-family:Menlo,'DejaVu Sans Mono',consolas,'Courier New',monospace\">E/E\n",
       "</pre>\n"
      ],
      "text/plain": [
       "E/E\n"
      ]
     },
     "metadata": {},
     "output_type": "display_data"
    },
    {
     "data": {
      "text/html": [
       "<pre style=\"white-space:pre;overflow-x:auto;line-height:normal;font-family:Menlo,'DejaVu Sans Mono',consolas,'Courier New',monospace\"><span style=\"color: #008080; text-decoration-color: #008080; font-weight: bold\">8.19</span>\n",
       "</pre>\n"
      ],
      "text/plain": [
       "\u001b[1;36m8.19\u001b[0m\n"
      ]
     },
     "metadata": {},
     "output_type": "display_data"
    },
    {
     "data": {
      "text/html": [
       "<pre style=\"white-space:pre;overflow-x:auto;line-height:normal;font-family:Menlo,'DejaVu Sans Mono',consolas,'Courier New',monospace\">E/E\n",
       "</pre>\n"
      ],
      "text/plain": [
       "E/E\n"
      ]
     },
     "metadata": {},
     "output_type": "display_data"
    },
    {
     "data": {
      "text/html": [
       "<pre style=\"white-space:pre;overflow-x:auto;line-height:normal;font-family:Menlo,'DejaVu Sans Mono',consolas,'Courier New',monospace\"><span style=\"color: #008080; text-decoration-color: #008080; font-weight: bold\">8.0</span>\n",
       "</pre>\n"
      ],
      "text/plain": [
       "\u001b[1;36m8.0\u001b[0m\n"
      ]
     },
     "metadata": {},
     "output_type": "display_data"
    },
    {
     "data": {
      "text/html": [
       "<pre style=\"white-space:pre;overflow-x:auto;line-height:normal;font-family:Menlo,'DejaVu Sans Mono',consolas,'Courier New',monospace\">E/E\n",
       "</pre>\n"
      ],
      "text/plain": [
       "E/E\n"
      ]
     },
     "metadata": {},
     "output_type": "display_data"
    },
    {
     "data": {
      "text/html": [
       "<pre style=\"white-space:pre;overflow-x:auto;line-height:normal;font-family:Menlo,'DejaVu Sans Mono',consolas,'Courier New',monospace\"><span style=\"color: #008080; text-decoration-color: #008080; font-weight: bold\">7.77</span>\n",
       "</pre>\n"
      ],
      "text/plain": [
       "\u001b[1;36m7.77\u001b[0m\n"
      ]
     },
     "metadata": {},
     "output_type": "display_data"
    },
    {
     "data": {
      "text/html": [
       "<pre style=\"white-space:pre;overflow-x:auto;line-height:normal;font-family:Menlo,'DejaVu Sans Mono',consolas,'Courier New',monospace\">E/E\n",
       "</pre>\n"
      ],
      "text/plain": [
       "E/E\n"
      ]
     },
     "metadata": {},
     "output_type": "display_data"
    },
    {
     "data": {
      "text/html": [
       "<pre style=\"white-space:pre;overflow-x:auto;line-height:normal;font-family:Menlo,'DejaVu Sans Mono',consolas,'Courier New',monospace\"><span style=\"color: #008080; text-decoration-color: #008080; font-weight: bold\">8.24</span>\n",
       "</pre>\n"
      ],
      "text/plain": [
       "\u001b[1;36m8.24\u001b[0m\n"
      ]
     },
     "metadata": {},
     "output_type": "display_data"
    },
    {
     "data": {
      "text/html": [
       "<pre style=\"white-space:pre;overflow-x:auto;line-height:normal;font-family:Menlo,'DejaVu Sans Mono',consolas,'Courier New',monospace\">E/E\n",
       "</pre>\n"
      ],
      "text/plain": [
       "E/E\n"
      ]
     },
     "metadata": {},
     "output_type": "display_data"
    },
    {
     "data": {
      "text/html": [
       "<pre style=\"white-space:pre;overflow-x:auto;line-height:normal;font-family:Menlo,'DejaVu Sans Mono',consolas,'Courier New',monospace\"><span style=\"color: #008080; text-decoration-color: #008080; font-weight: bold\">7.98</span>\n",
       "</pre>\n"
      ],
      "text/plain": [
       "\u001b[1;36m7.98\u001b[0m\n"
      ]
     },
     "metadata": {},
     "output_type": "display_data"
    },
    {
     "data": {
      "text/html": [
       "<pre style=\"white-space:pre;overflow-x:auto;line-height:normal;font-family:Menlo,'DejaVu Sans Mono',consolas,'Courier New',monospace\">E/E\n",
       "</pre>\n"
      ],
      "text/plain": [
       "E/E\n"
      ]
     },
     "metadata": {},
     "output_type": "display_data"
    },
    {
     "data": {
      "text/html": [
       "<pre style=\"white-space:pre;overflow-x:auto;line-height:normal;font-family:Menlo,'DejaVu Sans Mono',consolas,'Courier New',monospace\"><span style=\"color: #008080; text-decoration-color: #008080; font-weight: bold\">7.73</span>\n",
       "</pre>\n"
      ],
      "text/plain": [
       "\u001b[1;36m7.73\u001b[0m\n"
      ]
     },
     "metadata": {},
     "output_type": "display_data"
    },
    {
     "data": {
      "text/html": [
       "<pre style=\"white-space:pre;overflow-x:auto;line-height:normal;font-family:Menlo,'DejaVu Sans Mono',consolas,'Courier New',monospace\">E/E\n",
       "</pre>\n"
      ],
      "text/plain": [
       "E/E\n"
      ]
     },
     "metadata": {},
     "output_type": "display_data"
    },
    {
     "data": {
      "text/html": [
       "<pre style=\"white-space:pre;overflow-x:auto;line-height:normal;font-family:Menlo,'DejaVu Sans Mono',consolas,'Courier New',monospace\"><span style=\"color: #008080; text-decoration-color: #008080; font-weight: bold\">8.13</span>\n",
       "</pre>\n"
      ],
      "text/plain": [
       "\u001b[1;36m8.13\u001b[0m\n"
      ]
     },
     "metadata": {},
     "output_type": "display_data"
    },
    {
     "data": {
      "text/html": [
       "<pre style=\"white-space:pre;overflow-x:auto;line-height:normal;font-family:Menlo,'DejaVu Sans Mono',consolas,'Courier New',monospace\">F/E\n",
       "</pre>\n"
      ],
      "text/plain": [
       "F/E\n"
      ]
     },
     "metadata": {},
     "output_type": "display_data"
    },
    {
     "data": {
      "text/html": [
       "<pre style=\"white-space:pre;overflow-x:auto;line-height:normal;font-family:Menlo,'DejaVu Sans Mono',consolas,'Courier New',monospace\"><span style=\"color: #008080; text-decoration-color: #008080; font-weight: bold\">8.09</span>\n",
       "</pre>\n"
      ],
      "text/plain": [
       "\u001b[1;36m8.09\u001b[0m\n"
      ]
     },
     "metadata": {},
     "output_type": "display_data"
    },
    {
     "data": {
      "text/html": [
       "<pre style=\"white-space:pre;overflow-x:auto;line-height:normal;font-family:Menlo,'DejaVu Sans Mono',consolas,'Courier New',monospace\">F/E\n",
       "</pre>\n"
      ],
      "text/plain": [
       "F/E\n"
      ]
     },
     "metadata": {},
     "output_type": "display_data"
    },
    {
     "data": {
      "text/html": [
       "<pre style=\"white-space:pre;overflow-x:auto;line-height:normal;font-family:Menlo,'DejaVu Sans Mono',consolas,'Courier New',monospace\"><span style=\"color: #008080; text-decoration-color: #008080; font-weight: bold\">8.21</span>\n",
       "</pre>\n"
      ],
      "text/plain": [
       "\u001b[1;36m8.21\u001b[0m\n"
      ]
     },
     "metadata": {},
     "output_type": "display_data"
    },
    {
     "data": {
      "text/html": [
       "<pre style=\"white-space:pre;overflow-x:auto;line-height:normal;font-family:Menlo,'DejaVu Sans Mono',consolas,'Courier New',monospace\">F/E\n",
       "</pre>\n"
      ],
      "text/plain": [
       "F/E\n"
      ]
     },
     "metadata": {},
     "output_type": "display_data"
    },
    {
     "data": {
      "text/html": [
       "<pre style=\"white-space:pre;overflow-x:auto;line-height:normal;font-family:Menlo,'DejaVu Sans Mono',consolas,'Courier New',monospace\"><span style=\"color: #008080; text-decoration-color: #008080; font-weight: bold\">8.23</span>\n",
       "</pre>\n"
      ],
      "text/plain": [
       "\u001b[1;36m8.23\u001b[0m\n"
      ]
     },
     "metadata": {},
     "output_type": "display_data"
    },
    {
     "data": {
      "text/html": [
       "<pre style=\"white-space:pre;overflow-x:auto;line-height:normal;font-family:Menlo,'DejaVu Sans Mono',consolas,'Courier New',monospace\">F/E\n",
       "</pre>\n"
      ],
      "text/plain": [
       "F/E\n"
      ]
     },
     "metadata": {},
     "output_type": "display_data"
    },
    {
     "data": {
      "text/html": [
       "<pre style=\"white-space:pre;overflow-x:auto;line-height:normal;font-family:Menlo,'DejaVu Sans Mono',consolas,'Courier New',monospace\"><span style=\"color: #008080; text-decoration-color: #008080; font-weight: bold\">8.19</span>\n",
       "</pre>\n"
      ],
      "text/plain": [
       "\u001b[1;36m8.19\u001b[0m\n"
      ]
     },
     "metadata": {},
     "output_type": "display_data"
    },
    {
     "data": {
      "text/html": [
       "<pre style=\"white-space:pre;overflow-x:auto;line-height:normal;font-family:Menlo,'DejaVu Sans Mono',consolas,'Courier New',monospace\">F/E\n",
       "</pre>\n"
      ],
      "text/plain": [
       "F/E\n"
      ]
     },
     "metadata": {},
     "output_type": "display_data"
    },
    {
     "data": {
      "text/html": [
       "<pre style=\"white-space:pre;overflow-x:auto;line-height:normal;font-family:Menlo,'DejaVu Sans Mono',consolas,'Courier New',monospace\"><span style=\"color: #008080; text-decoration-color: #008080; font-weight: bold\">8.11</span>\n",
       "</pre>\n"
      ],
      "text/plain": [
       "\u001b[1;36m8.11\u001b[0m\n"
      ]
     },
     "metadata": {},
     "output_type": "display_data"
    },
    {
     "data": {
      "text/html": [
       "<pre style=\"white-space:pre;overflow-x:auto;line-height:normal;font-family:Menlo,'DejaVu Sans Mono',consolas,'Courier New',monospace\">F/E\n",
       "</pre>\n"
      ],
      "text/plain": [
       "F/E\n"
      ]
     },
     "metadata": {},
     "output_type": "display_data"
    },
    {
     "data": {
      "text/html": [
       "<pre style=\"white-space:pre;overflow-x:auto;line-height:normal;font-family:Menlo,'DejaVu Sans Mono',consolas,'Courier New',monospace\"><span style=\"color: #008080; text-decoration-color: #008080; font-weight: bold\">8.06</span>\n",
       "</pre>\n"
      ],
      "text/plain": [
       "\u001b[1;36m8.06\u001b[0m\n"
      ]
     },
     "metadata": {},
     "output_type": "display_data"
    },
    {
     "data": {
      "text/html": [
       "<pre style=\"white-space:pre;overflow-x:auto;line-height:normal;font-family:Menlo,'DejaVu Sans Mono',consolas,'Courier New',monospace\">F/E\n",
       "</pre>\n"
      ],
      "text/plain": [
       "F/E\n"
      ]
     },
     "metadata": {},
     "output_type": "display_data"
    },
    {
     "data": {
      "text/html": [
       "<pre style=\"white-space:pre;overflow-x:auto;line-height:normal;font-family:Menlo,'DejaVu Sans Mono',consolas,'Courier New',monospace\"><span style=\"color: #008080; text-decoration-color: #008080; font-weight: bold\">7.92</span>\n",
       "</pre>\n"
      ],
      "text/plain": [
       "\u001b[1;36m7.92\u001b[0m\n"
      ]
     },
     "metadata": {},
     "output_type": "display_data"
    },
    {
     "data": {
      "text/html": [
       "<pre style=\"white-space:pre;overflow-x:auto;line-height:normal;font-family:Menlo,'DejaVu Sans Mono',consolas,'Courier New',monospace\">F/E\n",
       "</pre>\n"
      ],
      "text/plain": [
       "F/E\n"
      ]
     },
     "metadata": {},
     "output_type": "display_data"
    },
    {
     "data": {
      "text/html": [
       "<pre style=\"white-space:pre;overflow-x:auto;line-height:normal;font-family:Menlo,'DejaVu Sans Mono',consolas,'Courier New',monospace\"><span style=\"color: #008080; text-decoration-color: #008080; font-weight: bold\">7.78</span>\n",
       "</pre>\n"
      ],
      "text/plain": [
       "\u001b[1;36m7.78\u001b[0m\n"
      ]
     },
     "metadata": {},
     "output_type": "display_data"
    },
    {
     "data": {
      "text/html": [
       "<pre style=\"white-space:pre;overflow-x:auto;line-height:normal;font-family:Menlo,'DejaVu Sans Mono',consolas,'Courier New',monospace\">F/E\n",
       "</pre>\n"
      ],
      "text/plain": [
       "F/E\n"
      ]
     },
     "metadata": {},
     "output_type": "display_data"
    },
    {
     "data": {
      "text/html": [
       "<pre style=\"white-space:pre;overflow-x:auto;line-height:normal;font-family:Menlo,'DejaVu Sans Mono',consolas,'Courier New',monospace\"><span style=\"color: #008080; text-decoration-color: #008080; font-weight: bold\">8.36</span>\n",
       "</pre>\n"
      ],
      "text/plain": [
       "\u001b[1;36m8.36\u001b[0m\n"
      ]
     },
     "metadata": {},
     "output_type": "display_data"
    },
    {
     "data": {
      "text/html": [
       "<pre style=\"white-space:pre;overflow-x:auto;line-height:normal;font-family:Menlo,'DejaVu Sans Mono',consolas,'Courier New',monospace\">F/E\n",
       "</pre>\n"
      ],
      "text/plain": [
       "F/E\n"
      ]
     },
     "metadata": {},
     "output_type": "display_data"
    },
    {
     "data": {
      "text/html": [
       "<pre style=\"white-space:pre;overflow-x:auto;line-height:normal;font-family:Menlo,'DejaVu Sans Mono',consolas,'Courier New',monospace\"><span style=\"color: #008080; text-decoration-color: #008080; font-weight: bold\">7.62</span>\n",
       "</pre>\n"
      ],
      "text/plain": [
       "\u001b[1;36m7.62\u001b[0m\n"
      ]
     },
     "metadata": {},
     "output_type": "display_data"
    },
    {
     "data": {
      "text/html": [
       "<pre style=\"white-space:pre;overflow-x:auto;line-height:normal;font-family:Menlo,'DejaVu Sans Mono',consolas,'Courier New',monospace\">F/E\n",
       "</pre>\n"
      ],
      "text/plain": [
       "F/E\n"
      ]
     },
     "metadata": {},
     "output_type": "display_data"
    },
    {
     "data": {
      "text/html": [
       "<pre style=\"white-space:pre;overflow-x:auto;line-height:normal;font-family:Menlo,'DejaVu Sans Mono',consolas,'Courier New',monospace\"><span style=\"color: #008080; text-decoration-color: #008080; font-weight: bold\">8.21</span>\n",
       "</pre>\n"
      ],
      "text/plain": [
       "\u001b[1;36m8.21\u001b[0m\n"
      ]
     },
     "metadata": {},
     "output_type": "display_data"
    },
    {
     "data": {
      "text/html": [
       "<pre style=\"white-space:pre;overflow-x:auto;line-height:normal;font-family:Menlo,'DejaVu Sans Mono',consolas,'Courier New',monospace\">F/E\n",
       "</pre>\n"
      ],
      "text/plain": [
       "F/E\n"
      ]
     },
     "metadata": {},
     "output_type": "display_data"
    },
    {
     "data": {
      "text/html": [
       "<pre style=\"white-space:pre;overflow-x:auto;line-height:normal;font-family:Menlo,'DejaVu Sans Mono',consolas,'Courier New',monospace\"><span style=\"color: #008080; text-decoration-color: #008080; font-weight: bold\">8.0</span>\n",
       "</pre>\n"
      ],
      "text/plain": [
       "\u001b[1;36m8.0\u001b[0m\n"
      ]
     },
     "metadata": {},
     "output_type": "display_data"
    },
    {
     "data": {
      "text/html": [
       "<pre style=\"white-space:pre;overflow-x:auto;line-height:normal;font-family:Menlo,'DejaVu Sans Mono',consolas,'Courier New',monospace\">F/E\n",
       "</pre>\n"
      ],
      "text/plain": [
       "F/E\n"
      ]
     },
     "metadata": {},
     "output_type": "display_data"
    },
    {
     "data": {
      "text/html": [
       "<pre style=\"white-space:pre;overflow-x:auto;line-height:normal;font-family:Menlo,'DejaVu Sans Mono',consolas,'Courier New',monospace\"><span style=\"color: #008080; text-decoration-color: #008080; font-weight: bold\">7.8</span>\n",
       "</pre>\n"
      ],
      "text/plain": [
       "\u001b[1;36m7.8\u001b[0m\n"
      ]
     },
     "metadata": {},
     "output_type": "display_data"
    },
    {
     "data": {
      "text/html": [
       "<pre style=\"white-space:pre;overflow-x:auto;line-height:normal;font-family:Menlo,'DejaVu Sans Mono',consolas,'Courier New',monospace\">F/E\n",
       "</pre>\n"
      ],
      "text/plain": [
       "F/E\n"
      ]
     },
     "metadata": {},
     "output_type": "display_data"
    },
    {
     "data": {
      "text/html": [
       "<pre style=\"white-space:pre;overflow-x:auto;line-height:normal;font-family:Menlo,'DejaVu Sans Mono',consolas,'Courier New',monospace\"><span style=\"color: #008080; text-decoration-color: #008080; font-weight: bold\">8.25</span>\n",
       "</pre>\n"
      ],
      "text/plain": [
       "\u001b[1;36m8.25\u001b[0m\n"
      ]
     },
     "metadata": {},
     "output_type": "display_data"
    },
    {
     "data": {
      "text/html": [
       "<pre style=\"white-space:pre;overflow-x:auto;line-height:normal;font-family:Menlo,'DejaVu Sans Mono',consolas,'Courier New',monospace\">F/E\n",
       "</pre>\n"
      ],
      "text/plain": [
       "F/E\n"
      ]
     },
     "metadata": {},
     "output_type": "display_data"
    },
    {
     "data": {
      "text/html": [
       "<pre style=\"white-space:pre;overflow-x:auto;line-height:normal;font-family:Menlo,'DejaVu Sans Mono',consolas,'Courier New',monospace\"><span style=\"color: #008080; text-decoration-color: #008080; font-weight: bold\">8.02</span>\n",
       "</pre>\n"
      ],
      "text/plain": [
       "\u001b[1;36m8.02\u001b[0m\n"
      ]
     },
     "metadata": {},
     "output_type": "display_data"
    },
    {
     "data": {
      "text/html": [
       "<pre style=\"white-space:pre;overflow-x:auto;line-height:normal;font-family:Menlo,'DejaVu Sans Mono',consolas,'Courier New',monospace\">F/E\n",
       "</pre>\n"
      ],
      "text/plain": [
       "F/E\n"
      ]
     },
     "metadata": {},
     "output_type": "display_data"
    },
    {
     "data": {
      "text/html": [
       "<pre style=\"white-space:pre;overflow-x:auto;line-height:normal;font-family:Menlo,'DejaVu Sans Mono',consolas,'Courier New',monospace\"><span style=\"color: #008080; text-decoration-color: #008080; font-weight: bold\">7.79</span>\n",
       "</pre>\n"
      ],
      "text/plain": [
       "\u001b[1;36m7.79\u001b[0m\n"
      ]
     },
     "metadata": {},
     "output_type": "display_data"
    },
    {
     "data": {
      "text/html": [
       "<pre style=\"white-space:pre;overflow-x:auto;line-height:normal;font-family:Menlo,'DejaVu Sans Mono',consolas,'Courier New',monospace\">F/F\n",
       "</pre>\n"
      ],
      "text/plain": [
       "F/F\n"
      ]
     },
     "metadata": {},
     "output_type": "display_data"
    },
    {
     "data": {
      "text/html": [
       "<pre style=\"white-space:pre;overflow-x:auto;line-height:normal;font-family:Menlo,'DejaVu Sans Mono',consolas,'Courier New',monospace\"><span style=\"color: #008080; text-decoration-color: #008080; font-weight: bold\">7.63</span>\n",
       "</pre>\n"
      ],
      "text/plain": [
       "\u001b[1;36m7.63\u001b[0m\n"
      ]
     },
     "metadata": {},
     "output_type": "display_data"
    },
    {
     "data": {
      "text/html": [
       "<pre style=\"white-space:pre;overflow-x:auto;line-height:normal;font-family:Menlo,'DejaVu Sans Mono',consolas,'Courier New',monospace\">F/F\n",
       "</pre>\n"
      ],
      "text/plain": [
       "F/F\n"
      ]
     },
     "metadata": {},
     "output_type": "display_data"
    },
    {
     "data": {
      "text/html": [
       "<pre style=\"white-space:pre;overflow-x:auto;line-height:normal;font-family:Menlo,'DejaVu Sans Mono',consolas,'Courier New',monospace\"><span style=\"color: #008080; text-decoration-color: #008080; font-weight: bold\">7.71</span>\n",
       "</pre>\n"
      ],
      "text/plain": [
       "\u001b[1;36m7.71\u001b[0m\n"
      ]
     },
     "metadata": {},
     "output_type": "display_data"
    },
    {
     "data": {
      "text/html": [
       "<pre style=\"white-space:pre;overflow-x:auto;line-height:normal;font-family:Menlo,'DejaVu Sans Mono',consolas,'Courier New',monospace\">F/F\n",
       "</pre>\n"
      ],
      "text/plain": [
       "F/F\n"
      ]
     },
     "metadata": {},
     "output_type": "display_data"
    },
    {
     "data": {
      "text/html": [
       "<pre style=\"white-space:pre;overflow-x:auto;line-height:normal;font-family:Menlo,'DejaVu Sans Mono',consolas,'Courier New',monospace\"><span style=\"color: #008080; text-decoration-color: #008080; font-weight: bold\">7.72</span>\n",
       "</pre>\n"
      ],
      "text/plain": [
       "\u001b[1;36m7.72\u001b[0m\n"
      ]
     },
     "metadata": {},
     "output_type": "display_data"
    },
    {
     "data": {
      "text/html": [
       "<pre style=\"white-space:pre;overflow-x:auto;line-height:normal;font-family:Menlo,'DejaVu Sans Mono',consolas,'Courier New',monospace\">F/F\n",
       "</pre>\n"
      ],
      "text/plain": [
       "F/F\n"
      ]
     },
     "metadata": {},
     "output_type": "display_data"
    },
    {
     "data": {
      "text/html": [
       "<pre style=\"white-space:pre;overflow-x:auto;line-height:normal;font-family:Menlo,'DejaVu Sans Mono',consolas,'Courier New',monospace\"><span style=\"color: #008080; text-decoration-color: #008080; font-weight: bold\">7.69</span>\n",
       "</pre>\n"
      ],
      "text/plain": [
       "\u001b[1;36m7.69\u001b[0m\n"
      ]
     },
     "metadata": {},
     "output_type": "display_data"
    },
    {
     "data": {
      "text/html": [
       "<pre style=\"white-space:pre;overflow-x:auto;line-height:normal;font-family:Menlo,'DejaVu Sans Mono',consolas,'Courier New',monospace\">F/F\n",
       "</pre>\n"
      ],
      "text/plain": [
       "F/F\n"
      ]
     },
     "metadata": {},
     "output_type": "display_data"
    },
    {
     "data": {
      "text/html": [
       "<pre style=\"white-space:pre;overflow-x:auto;line-height:normal;font-family:Menlo,'DejaVu Sans Mono',consolas,'Courier New',monospace\"><span style=\"color: #008080; text-decoration-color: #008080; font-weight: bold\">7.69</span>\n",
       "</pre>\n"
      ],
      "text/plain": [
       "\u001b[1;36m7.69\u001b[0m\n"
      ]
     },
     "metadata": {},
     "output_type": "display_data"
    },
    {
     "data": {
      "text/html": [
       "<pre style=\"white-space:pre;overflow-x:auto;line-height:normal;font-family:Menlo,'DejaVu Sans Mono',consolas,'Courier New',monospace\">F/F\n",
       "</pre>\n"
      ],
      "text/plain": [
       "F/F\n"
      ]
     },
     "metadata": {},
     "output_type": "display_data"
    },
    {
     "data": {
      "text/html": [
       "<pre style=\"white-space:pre;overflow-x:auto;line-height:normal;font-family:Menlo,'DejaVu Sans Mono',consolas,'Courier New',monospace\"><span style=\"color: #008080; text-decoration-color: #008080; font-weight: bold\">8.37</span>\n",
       "</pre>\n"
      ],
      "text/plain": [
       "\u001b[1;36m8.37\u001b[0m\n"
      ]
     },
     "metadata": {},
     "output_type": "display_data"
    },
    {
     "data": {
      "text/html": [
       "<pre style=\"white-space:pre;overflow-x:auto;line-height:normal;font-family:Menlo,'DejaVu Sans Mono',consolas,'Courier New',monospace\">F/F\n",
       "</pre>\n"
      ],
      "text/plain": [
       "F/F\n"
      ]
     },
     "metadata": {},
     "output_type": "display_data"
    },
    {
     "data": {
      "text/html": [
       "<pre style=\"white-space:pre;overflow-x:auto;line-height:normal;font-family:Menlo,'DejaVu Sans Mono',consolas,'Courier New',monospace\"><span style=\"color: #008080; text-decoration-color: #008080; font-weight: bold\">8.22</span>\n",
       "</pre>\n"
      ],
      "text/plain": [
       "\u001b[1;36m8.22\u001b[0m\n"
      ]
     },
     "metadata": {},
     "output_type": "display_data"
    },
    {
     "data": {
      "text/html": [
       "<pre style=\"white-space:pre;overflow-x:auto;line-height:normal;font-family:Menlo,'DejaVu Sans Mono',consolas,'Courier New',monospace\">F/F\n",
       "</pre>\n"
      ],
      "text/plain": [
       "F/F\n"
      ]
     },
     "metadata": {},
     "output_type": "display_data"
    },
    {
     "data": {
      "text/html": [
       "<pre style=\"white-space:pre;overflow-x:auto;line-height:normal;font-family:Menlo,'DejaVu Sans Mono',consolas,'Courier New',monospace\"><span style=\"color: #008080; text-decoration-color: #008080; font-weight: bold\">8.05</span>\n",
       "</pre>\n"
      ],
      "text/plain": [
       "\u001b[1;36m8.05\u001b[0m\n"
      ]
     },
     "metadata": {},
     "output_type": "display_data"
    },
    {
     "data": {
      "text/html": [
       "<pre style=\"white-space:pre;overflow-x:auto;line-height:normal;font-family:Menlo,'DejaVu Sans Mono',consolas,'Courier New',monospace\">F/F\n",
       "</pre>\n"
      ],
      "text/plain": [
       "F/F\n"
      ]
     },
     "metadata": {},
     "output_type": "display_data"
    },
    {
     "data": {
      "text/html": [
       "<pre style=\"white-space:pre;overflow-x:auto;line-height:normal;font-family:Menlo,'DejaVu Sans Mono',consolas,'Courier New',monospace\"><span style=\"color: #008080; text-decoration-color: #008080; font-weight: bold\">7.94</span>\n",
       "</pre>\n"
      ],
      "text/plain": [
       "\u001b[1;36m7.94\u001b[0m\n"
      ]
     },
     "metadata": {},
     "output_type": "display_data"
    },
    {
     "data": {
      "text/html": [
       "<pre style=\"white-space:pre;overflow-x:auto;line-height:normal;font-family:Menlo,'DejaVu Sans Mono',consolas,'Courier New',monospace\">F/F\n",
       "</pre>\n"
      ],
      "text/plain": [
       "F/F\n"
      ]
     },
     "metadata": {},
     "output_type": "display_data"
    },
    {
     "data": {
      "text/html": [
       "<pre style=\"white-space:pre;overflow-x:auto;line-height:normal;font-family:Menlo,'DejaVu Sans Mono',consolas,'Courier New',monospace\"><span style=\"color: #008080; text-decoration-color: #008080; font-weight: bold\">7.76</span>\n",
       "</pre>\n"
      ],
      "text/plain": [
       "\u001b[1;36m7.76\u001b[0m\n"
      ]
     },
     "metadata": {},
     "output_type": "display_data"
    },
    {
     "data": {
      "text/html": [
       "<pre style=\"white-space:pre;overflow-x:auto;line-height:normal;font-family:Menlo,'DejaVu Sans Mono',consolas,'Courier New',monospace\">F/F\n",
       "</pre>\n"
      ],
      "text/plain": [
       "F/F\n"
      ]
     },
     "metadata": {},
     "output_type": "display_data"
    },
    {
     "data": {
      "text/html": [
       "<pre style=\"white-space:pre;overflow-x:auto;line-height:normal;font-family:Menlo,'DejaVu Sans Mono',consolas,'Courier New',monospace\"><span style=\"color: #008080; text-decoration-color: #008080; font-weight: bold\">8.24</span>\n",
       "</pre>\n"
      ],
      "text/plain": [
       "\u001b[1;36m8.24\u001b[0m\n"
      ]
     },
     "metadata": {},
     "output_type": "display_data"
    },
    {
     "data": {
      "text/html": [
       "<pre style=\"white-space:pre;overflow-x:auto;line-height:normal;font-family:Menlo,'DejaVu Sans Mono',consolas,'Courier New',monospace\">F/F\n",
       "</pre>\n"
      ],
      "text/plain": [
       "F/F\n"
      ]
     },
     "metadata": {},
     "output_type": "display_data"
    },
    {
     "data": {
      "text/html": [
       "<pre style=\"white-space:pre;overflow-x:auto;line-height:normal;font-family:Menlo,'DejaVu Sans Mono',consolas,'Courier New',monospace\"><span style=\"color: #008080; text-decoration-color: #008080; font-weight: bold\">8.03</span>\n",
       "</pre>\n"
      ],
      "text/plain": [
       "\u001b[1;36m8.03\u001b[0m\n"
      ]
     },
     "metadata": {},
     "output_type": "display_data"
    },
    {
     "data": {
      "text/html": [
       "<pre style=\"white-space:pre;overflow-x:auto;line-height:normal;font-family:Menlo,'DejaVu Sans Mono',consolas,'Courier New',monospace\">F/F\n",
       "</pre>\n"
      ],
      "text/plain": [
       "F/F\n"
      ]
     },
     "metadata": {},
     "output_type": "display_data"
    },
    {
     "data": {
      "text/html": [
       "<pre style=\"white-space:pre;overflow-x:auto;line-height:normal;font-family:Menlo,'DejaVu Sans Mono',consolas,'Courier New',monospace\"><span style=\"color: #008080; text-decoration-color: #008080; font-weight: bold\">7.83</span>\n",
       "</pre>\n"
      ],
      "text/plain": [
       "\u001b[1;36m7.83\u001b[0m\n"
      ]
     },
     "metadata": {},
     "output_type": "display_data"
    },
    {
     "data": {
      "text/html": [
       "<pre style=\"white-space:pre;overflow-x:auto;line-height:normal;font-family:Menlo,'DejaVu Sans Mono',consolas,'Courier New',monospace\">F/F\n",
       "</pre>\n"
      ],
      "text/plain": [
       "F/F\n"
      ]
     },
     "metadata": {},
     "output_type": "display_data"
    },
    {
     "data": {
      "text/html": [
       "<pre style=\"white-space:pre;overflow-x:auto;line-height:normal;font-family:Menlo,'DejaVu Sans Mono',consolas,'Courier New',monospace\"><span style=\"color: #008080; text-decoration-color: #008080; font-weight: bold\">8.23</span>\n",
       "</pre>\n"
      ],
      "text/plain": [
       "\u001b[1;36m8.23\u001b[0m\n"
      ]
     },
     "metadata": {},
     "output_type": "display_data"
    },
    {
     "data": {
      "text/html": [
       "<pre style=\"white-space:pre;overflow-x:auto;line-height:normal;font-family:Menlo,'DejaVu Sans Mono',consolas,'Courier New',monospace\">F/F\n",
       "</pre>\n"
      ],
      "text/plain": [
       "F/F\n"
      ]
     },
     "metadata": {},
     "output_type": "display_data"
    },
    {
     "data": {
      "text/html": [
       "<pre style=\"white-space:pre;overflow-x:auto;line-height:normal;font-family:Menlo,'DejaVu Sans Mono',consolas,'Courier New',monospace\"><span style=\"color: #008080; text-decoration-color: #008080; font-weight: bold\">7.64</span>\n",
       "</pre>\n"
      ],
      "text/plain": [
       "\u001b[1;36m7.64\u001b[0m\n"
      ]
     },
     "metadata": {},
     "output_type": "display_data"
    },
    {
     "data": {
      "text/html": [
       "<pre style=\"white-space:pre;overflow-x:auto;line-height:normal;font-family:Menlo,'DejaVu Sans Mono',consolas,'Courier New',monospace\">G/F\n",
       "</pre>\n"
      ],
      "text/plain": [
       "G/F\n"
      ]
     },
     "metadata": {},
     "output_type": "display_data"
    },
    {
     "data": {
      "text/html": [
       "<pre style=\"white-space:pre;overflow-x:auto;line-height:normal;font-family:Menlo,'DejaVu Sans Mono',consolas,'Courier New',monospace\"><span style=\"color: #008080; text-decoration-color: #008080; font-weight: bold\">8.06</span>\n",
       "</pre>\n"
      ],
      "text/plain": [
       "\u001b[1;36m8.06\u001b[0m\n"
      ]
     },
     "metadata": {},
     "output_type": "display_data"
    },
    {
     "data": {
      "text/html": [
       "<pre style=\"white-space:pre;overflow-x:auto;line-height:normal;font-family:Menlo,'DejaVu Sans Mono',consolas,'Courier New',monospace\">G/F\n",
       "</pre>\n"
      ],
      "text/plain": [
       "G/F\n"
      ]
     },
     "metadata": {},
     "output_type": "display_data"
    },
    {
     "data": {
      "text/html": [
       "<pre style=\"white-space:pre;overflow-x:auto;line-height:normal;font-family:Menlo,'DejaVu Sans Mono',consolas,'Courier New',monospace\"><span style=\"color: #008080; text-decoration-color: #008080; font-weight: bold\">8.26</span>\n",
       "</pre>\n"
      ],
      "text/plain": [
       "\u001b[1;36m8.26\u001b[0m\n"
      ]
     },
     "metadata": {},
     "output_type": "display_data"
    },
    {
     "data": {
      "text/html": [
       "<pre style=\"white-space:pre;overflow-x:auto;line-height:normal;font-family:Menlo,'DejaVu Sans Mono',consolas,'Courier New',monospace\">G/F\n",
       "</pre>\n"
      ],
      "text/plain": [
       "G/F\n"
      ]
     },
     "metadata": {},
     "output_type": "display_data"
    },
    {
     "data": {
      "text/html": [
       "<pre style=\"white-space:pre;overflow-x:auto;line-height:normal;font-family:Menlo,'DejaVu Sans Mono',consolas,'Courier New',monospace\"><span style=\"color: #008080; text-decoration-color: #008080; font-weight: bold\">8.35</span>\n",
       "</pre>\n"
      ],
      "text/plain": [
       "\u001b[1;36m8.35\u001b[0m\n"
      ]
     },
     "metadata": {},
     "output_type": "display_data"
    },
    {
     "data": {
      "text/html": [
       "<pre style=\"white-space:pre;overflow-x:auto;line-height:normal;font-family:Menlo,'DejaVu Sans Mono',consolas,'Courier New',monospace\">G/F\n",
       "</pre>\n"
      ],
      "text/plain": [
       "G/F\n"
      ]
     },
     "metadata": {},
     "output_type": "display_data"
    },
    {
     "data": {
      "text/html": [
       "<pre style=\"white-space:pre;overflow-x:auto;line-height:normal;font-family:Menlo,'DejaVu Sans Mono',consolas,'Courier New',monospace\"><span style=\"color: #008080; text-decoration-color: #008080; font-weight: bold\">8.36</span>\n",
       "</pre>\n"
      ],
      "text/plain": [
       "\u001b[1;36m8.36\u001b[0m\n"
      ]
     },
     "metadata": {},
     "output_type": "display_data"
    },
    {
     "data": {
      "text/html": [
       "<pre style=\"white-space:pre;overflow-x:auto;line-height:normal;font-family:Menlo,'DejaVu Sans Mono',consolas,'Courier New',monospace\">G/F\n",
       "</pre>\n"
      ],
      "text/plain": [
       "G/F\n"
      ]
     },
     "metadata": {},
     "output_type": "display_data"
    },
    {
     "data": {
      "text/html": [
       "<pre style=\"white-space:pre;overflow-x:auto;line-height:normal;font-family:Menlo,'DejaVu Sans Mono',consolas,'Courier New',monospace\"><span style=\"color: #008080; text-decoration-color: #008080; font-weight: bold\">8.33</span>\n",
       "</pre>\n"
      ],
      "text/plain": [
       "\u001b[1;36m8.33\u001b[0m\n"
      ]
     },
     "metadata": {},
     "output_type": "display_data"
    },
    {
     "data": {
      "text/html": [
       "<pre style=\"white-space:pre;overflow-x:auto;line-height:normal;font-family:Menlo,'DejaVu Sans Mono',consolas,'Courier New',monospace\">G/F\n",
       "</pre>\n"
      ],
      "text/plain": [
       "G/F\n"
      ]
     },
     "metadata": {},
     "output_type": "display_data"
    },
    {
     "data": {
      "text/html": [
       "<pre style=\"white-space:pre;overflow-x:auto;line-height:normal;font-family:Menlo,'DejaVu Sans Mono',consolas,'Courier New',monospace\"><span style=\"color: #008080; text-decoration-color: #008080; font-weight: bold\">8.33</span>\n",
       "</pre>\n"
      ],
      "text/plain": [
       "\u001b[1;36m8.33\u001b[0m\n"
      ]
     },
     "metadata": {},
     "output_type": "display_data"
    },
    {
     "data": {
      "text/html": [
       "<pre style=\"white-space:pre;overflow-x:auto;line-height:normal;font-family:Menlo,'DejaVu Sans Mono',consolas,'Courier New',monospace\">G/F\n",
       "</pre>\n"
      ],
      "text/plain": [
       "G/F\n"
      ]
     },
     "metadata": {},
     "output_type": "display_data"
    },
    {
     "data": {
      "text/html": [
       "<pre style=\"white-space:pre;overflow-x:auto;line-height:normal;font-family:Menlo,'DejaVu Sans Mono',consolas,'Courier New',monospace\"><span style=\"color: #008080; text-decoration-color: #008080; font-weight: bold\">8.23</span>\n",
       "</pre>\n"
      ],
      "text/plain": [
       "\u001b[1;36m8.23\u001b[0m\n"
      ]
     },
     "metadata": {},
     "output_type": "display_data"
    },
    {
     "data": {
      "text/html": [
       "<pre style=\"white-space:pre;overflow-x:auto;line-height:normal;font-family:Menlo,'DejaVu Sans Mono',consolas,'Courier New',monospace\">G/F\n",
       "</pre>\n"
      ],
      "text/plain": [
       "G/F\n"
      ]
     },
     "metadata": {},
     "output_type": "display_data"
    },
    {
     "data": {
      "text/html": [
       "<pre style=\"white-space:pre;overflow-x:auto;line-height:normal;font-family:Menlo,'DejaVu Sans Mono',consolas,'Courier New',monospace\"><span style=\"color: #008080; text-decoration-color: #008080; font-weight: bold\">8.11</span>\n",
       "</pre>\n"
      ],
      "text/plain": [
       "\u001b[1;36m8.11\u001b[0m\n"
      ]
     },
     "metadata": {},
     "output_type": "display_data"
    },
    {
     "data": {
      "text/html": [
       "<pre style=\"white-space:pre;overflow-x:auto;line-height:normal;font-family:Menlo,'DejaVu Sans Mono',consolas,'Courier New',monospace\">G/F\n",
       "</pre>\n"
      ],
      "text/plain": [
       "G/F\n"
      ]
     },
     "metadata": {},
     "output_type": "display_data"
    },
    {
     "data": {
      "text/html": [
       "<pre style=\"white-space:pre;overflow-x:auto;line-height:normal;font-family:Menlo,'DejaVu Sans Mono',consolas,'Courier New',monospace\"><span style=\"color: #008080; text-decoration-color: #008080; font-weight: bold\">7.98</span>\n",
       "</pre>\n"
      ],
      "text/plain": [
       "\u001b[1;36m7.98\u001b[0m\n"
      ]
     },
     "metadata": {},
     "output_type": "display_data"
    },
    {
     "data": {
      "text/html": [
       "<pre style=\"white-space:pre;overflow-x:auto;line-height:normal;font-family:Menlo,'DejaVu Sans Mono',consolas,'Courier New',monospace\">G/F\n",
       "</pre>\n"
      ],
      "text/plain": [
       "G/F\n"
      ]
     },
     "metadata": {},
     "output_type": "display_data"
    },
    {
     "data": {
      "text/html": [
       "<pre style=\"white-space:pre;overflow-x:auto;line-height:normal;font-family:Menlo,'DejaVu Sans Mono',consolas,'Courier New',monospace\"><span style=\"color: #008080; text-decoration-color: #008080; font-weight: bold\">7.9</span>\n",
       "</pre>\n"
      ],
      "text/plain": [
       "\u001b[1;36m7.9\u001b[0m\n"
      ]
     },
     "metadata": {},
     "output_type": "display_data"
    },
    {
     "data": {
      "text/html": [
       "<pre style=\"white-space:pre;overflow-x:auto;line-height:normal;font-family:Menlo,'DejaVu Sans Mono',consolas,'Courier New',monospace\">G/F\n",
       "</pre>\n"
      ],
      "text/plain": [
       "G/F\n"
      ]
     },
     "metadata": {},
     "output_type": "display_data"
    },
    {
     "data": {
      "text/html": [
       "<pre style=\"white-space:pre;overflow-x:auto;line-height:normal;font-family:Menlo,'DejaVu Sans Mono',consolas,'Courier New',monospace\"><span style=\"color: #008080; text-decoration-color: #008080; font-weight: bold\">7.75</span>\n",
       "</pre>\n"
      ],
      "text/plain": [
       "\u001b[1;36m7.75\u001b[0m\n"
      ]
     },
     "metadata": {},
     "output_type": "display_data"
    },
    {
     "data": {
      "text/html": [
       "<pre style=\"white-space:pre;overflow-x:auto;line-height:normal;font-family:Menlo,'DejaVu Sans Mono',consolas,'Courier New',monospace\">G/F\n",
       "</pre>\n"
      ],
      "text/plain": [
       "G/F\n"
      ]
     },
     "metadata": {},
     "output_type": "display_data"
    },
    {
     "data": {
      "text/html": [
       "<pre style=\"white-space:pre;overflow-x:auto;line-height:normal;font-family:Menlo,'DejaVu Sans Mono',consolas,'Courier New',monospace\"><span style=\"color: #008080; text-decoration-color: #008080; font-weight: bold\">8.23</span>\n",
       "</pre>\n"
      ],
      "text/plain": [
       "\u001b[1;36m8.23\u001b[0m\n"
      ]
     },
     "metadata": {},
     "output_type": "display_data"
    },
    {
     "data": {
      "text/html": [
       "<pre style=\"white-space:pre;overflow-x:auto;line-height:normal;font-family:Menlo,'DejaVu Sans Mono',consolas,'Courier New',monospace\">G/F\n",
       "</pre>\n"
      ],
      "text/plain": [
       "G/F\n"
      ]
     },
     "metadata": {},
     "output_type": "display_data"
    },
    {
     "data": {
      "text/html": [
       "<pre style=\"white-space:pre;overflow-x:auto;line-height:normal;font-family:Menlo,'DejaVu Sans Mono',consolas,'Courier New',monospace\"><span style=\"color: #008080; text-decoration-color: #008080; font-weight: bold\">7.61</span>\n",
       "</pre>\n"
      ],
      "text/plain": [
       "\u001b[1;36m7.61\u001b[0m\n"
      ]
     },
     "metadata": {},
     "output_type": "display_data"
    },
    {
     "data": {
      "text/html": [
       "<pre style=\"white-space:pre;overflow-x:auto;line-height:normal;font-family:Menlo,'DejaVu Sans Mono',consolas,'Courier New',monospace\">G/F\n",
       "</pre>\n"
      ],
      "text/plain": [
       "G/F\n"
      ]
     },
     "metadata": {},
     "output_type": "display_data"
    },
    {
     "data": {
      "text/html": [
       "<pre style=\"white-space:pre;overflow-x:auto;line-height:normal;font-family:Menlo,'DejaVu Sans Mono',consolas,'Courier New',monospace\"><span style=\"color: #008080; text-decoration-color: #008080; font-weight: bold\">8.05</span>\n",
       "</pre>\n"
      ],
      "text/plain": [
       "\u001b[1;36m8.05\u001b[0m\n"
      ]
     },
     "metadata": {},
     "output_type": "display_data"
    },
    {
     "data": {
      "text/html": [
       "<pre style=\"white-space:pre;overflow-x:auto;line-height:normal;font-family:Menlo,'DejaVu Sans Mono',consolas,'Courier New',monospace\">G/F\n",
       "</pre>\n"
      ],
      "text/plain": [
       "G/F\n"
      ]
     },
     "metadata": {},
     "output_type": "display_data"
    },
    {
     "data": {
      "text/html": [
       "<pre style=\"white-space:pre;overflow-x:auto;line-height:normal;font-family:Menlo,'DejaVu Sans Mono',consolas,'Courier New',monospace\"><span style=\"color: #008080; text-decoration-color: #008080; font-weight: bold\">7.87</span>\n",
       "</pre>\n"
      ],
      "text/plain": [
       "\u001b[1;36m7.87\u001b[0m\n"
      ]
     },
     "metadata": {},
     "output_type": "display_data"
    },
    {
     "data": {
      "text/html": [
       "<pre style=\"white-space:pre;overflow-x:auto;line-height:normal;font-family:Menlo,'DejaVu Sans Mono',consolas,'Courier New',monospace\">G/F\n",
       "</pre>\n"
      ],
      "text/plain": [
       "G/F\n"
      ]
     },
     "metadata": {},
     "output_type": "display_data"
    },
    {
     "data": {
      "text/html": [
       "<pre style=\"white-space:pre;overflow-x:auto;line-height:normal;font-family:Menlo,'DejaVu Sans Mono',consolas,'Courier New',monospace\"><span style=\"color: #008080; text-decoration-color: #008080; font-weight: bold\">8.27</span>\n",
       "</pre>\n"
      ],
      "text/plain": [
       "\u001b[1;36m8.27\u001b[0m\n"
      ]
     },
     "metadata": {},
     "output_type": "display_data"
    },
    {
     "data": {
      "text/html": [
       "<pre style=\"white-space:pre;overflow-x:auto;line-height:normal;font-family:Menlo,'DejaVu Sans Mono',consolas,'Courier New',monospace\">G/F\n",
       "</pre>\n"
      ],
      "text/plain": [
       "G/F\n"
      ]
     },
     "metadata": {},
     "output_type": "display_data"
    },
    {
     "data": {
      "text/html": [
       "<pre style=\"white-space:pre;overflow-x:auto;line-height:normal;font-family:Menlo,'DejaVu Sans Mono',consolas,'Courier New',monospace\"><span style=\"color: #008080; text-decoration-color: #008080; font-weight: bold\">7.69</span>\n",
       "</pre>\n"
      ],
      "text/plain": [
       "\u001b[1;36m7.69\u001b[0m\n"
      ]
     },
     "metadata": {},
     "output_type": "display_data"
    },
    {
     "data": {
      "text/html": [
       "<pre style=\"white-space:pre;overflow-x:auto;line-height:normal;font-family:Menlo,'DejaVu Sans Mono',consolas,'Courier New',monospace\">G/G\n",
       "</pre>\n"
      ],
      "text/plain": [
       "G/G\n"
      ]
     },
     "metadata": {},
     "output_type": "display_data"
    },
    {
     "data": {
      "text/html": [
       "<pre style=\"white-space:pre;overflow-x:auto;line-height:normal;font-family:Menlo,'DejaVu Sans Mono',consolas,'Courier New',monospace\"><span style=\"color: #008080; text-decoration-color: #008080; font-weight: bold\">7.8</span>\n",
       "</pre>\n"
      ],
      "text/plain": [
       "\u001b[1;36m7.8\u001b[0m\n"
      ]
     },
     "metadata": {},
     "output_type": "display_data"
    },
    {
     "data": {
      "text/html": [
       "<pre style=\"white-space:pre;overflow-x:auto;line-height:normal;font-family:Menlo,'DejaVu Sans Mono',consolas,'Courier New',monospace\">G/G\n",
       "</pre>\n"
      ],
      "text/plain": [
       "G/G\n"
      ]
     },
     "metadata": {},
     "output_type": "display_data"
    },
    {
     "data": {
      "text/html": [
       "<pre style=\"white-space:pre;overflow-x:auto;line-height:normal;font-family:Menlo,'DejaVu Sans Mono',consolas,'Courier New',monospace\"><span style=\"color: #008080; text-decoration-color: #008080; font-weight: bold\">7.94</span>\n",
       "</pre>\n"
      ],
      "text/plain": [
       "\u001b[1;36m7.94\u001b[0m\n"
      ]
     },
     "metadata": {},
     "output_type": "display_data"
    },
    {
     "data": {
      "text/html": [
       "<pre style=\"white-space:pre;overflow-x:auto;line-height:normal;font-family:Menlo,'DejaVu Sans Mono',consolas,'Courier New',monospace\">G/G\n",
       "</pre>\n"
      ],
      "text/plain": [
       "G/G\n"
      ]
     },
     "metadata": {},
     "output_type": "display_data"
    },
    {
     "data": {
      "text/html": [
       "<pre style=\"white-space:pre;overflow-x:auto;line-height:normal;font-family:Menlo,'DejaVu Sans Mono',consolas,'Courier New',monospace\"><span style=\"color: #008080; text-decoration-color: #008080; font-weight: bold\">8.0</span>\n",
       "</pre>\n"
      ],
      "text/plain": [
       "\u001b[1;36m8.0\u001b[0m\n"
      ]
     },
     "metadata": {},
     "output_type": "display_data"
    },
    {
     "data": {
      "text/html": [
       "<pre style=\"white-space:pre;overflow-x:auto;line-height:normal;font-family:Menlo,'DejaVu Sans Mono',consolas,'Courier New',monospace\">G/G\n",
       "</pre>\n"
      ],
      "text/plain": [
       "G/G\n"
      ]
     },
     "metadata": {},
     "output_type": "display_data"
    },
    {
     "data": {
      "text/html": [
       "<pre style=\"white-space:pre;overflow-x:auto;line-height:normal;font-family:Menlo,'DejaVu Sans Mono',consolas,'Courier New',monospace\"><span style=\"color: #008080; text-decoration-color: #008080; font-weight: bold\">8.01</span>\n",
       "</pre>\n"
      ],
      "text/plain": [
       "\u001b[1;36m8.01\u001b[0m\n"
      ]
     },
     "metadata": {},
     "output_type": "display_data"
    },
    {
     "data": {
      "text/html": [
       "<pre style=\"white-space:pre;overflow-x:auto;line-height:normal;font-family:Menlo,'DejaVu Sans Mono',consolas,'Courier New',monospace\">G/G\n",
       "</pre>\n"
      ],
      "text/plain": [
       "G/G\n"
      ]
     },
     "metadata": {},
     "output_type": "display_data"
    },
    {
     "data": {
      "text/html": [
       "<pre style=\"white-space:pre;overflow-x:auto;line-height:normal;font-family:Menlo,'DejaVu Sans Mono',consolas,'Courier New',monospace\"><span style=\"color: #008080; text-decoration-color: #008080; font-weight: bold\">8.05</span>\n",
       "</pre>\n"
      ],
      "text/plain": [
       "\u001b[1;36m8.05\u001b[0m\n"
      ]
     },
     "metadata": {},
     "output_type": "display_data"
    },
    {
     "data": {
      "text/html": [
       "<pre style=\"white-space:pre;overflow-x:auto;line-height:normal;font-family:Menlo,'DejaVu Sans Mono',consolas,'Courier New',monospace\">G/G\n",
       "</pre>\n"
      ],
      "text/plain": [
       "G/G\n"
      ]
     },
     "metadata": {},
     "output_type": "display_data"
    },
    {
     "data": {
      "text/html": [
       "<pre style=\"white-space:pre;overflow-x:auto;line-height:normal;font-family:Menlo,'DejaVu Sans Mono',consolas,'Courier New',monospace\"><span style=\"color: #008080; text-decoration-color: #008080; font-weight: bold\">7.99</span>\n",
       "</pre>\n"
      ],
      "text/plain": [
       "\u001b[1;36m7.99\u001b[0m\n"
      ]
     },
     "metadata": {},
     "output_type": "display_data"
    },
    {
     "data": {
      "text/html": [
       "<pre style=\"white-space:pre;overflow-x:auto;line-height:normal;font-family:Menlo,'DejaVu Sans Mono',consolas,'Courier New',monospace\">G/G\n",
       "</pre>\n"
      ],
      "text/plain": [
       "G/G\n"
      ]
     },
     "metadata": {},
     "output_type": "display_data"
    },
    {
     "data": {
      "text/html": [
       "<pre style=\"white-space:pre;overflow-x:auto;line-height:normal;font-family:Menlo,'DejaVu Sans Mono',consolas,'Courier New',monospace\"><span style=\"color: #008080; text-decoration-color: #008080; font-weight: bold\">7.91</span>\n",
       "</pre>\n"
      ],
      "text/plain": [
       "\u001b[1;36m7.91\u001b[0m\n"
      ]
     },
     "metadata": {},
     "output_type": "display_data"
    },
    {
     "data": {
      "text/html": [
       "<pre style=\"white-space:pre;overflow-x:auto;line-height:normal;font-family:Menlo,'DejaVu Sans Mono',consolas,'Courier New',monospace\">G/G\n",
       "</pre>\n"
      ],
      "text/plain": [
       "G/G\n"
      ]
     },
     "metadata": {},
     "output_type": "display_data"
    },
    {
     "data": {
      "text/html": [
       "<pre style=\"white-space:pre;overflow-x:auto;line-height:normal;font-family:Menlo,'DejaVu Sans Mono',consolas,'Courier New',monospace\"><span style=\"color: #008080; text-decoration-color: #008080; font-weight: bold\">7.81</span>\n",
       "</pre>\n"
      ],
      "text/plain": [
       "\u001b[1;36m7.81\u001b[0m\n"
      ]
     },
     "metadata": {},
     "output_type": "display_data"
    },
    {
     "data": {
      "text/html": [
       "<pre style=\"white-space:pre;overflow-x:auto;line-height:normal;font-family:Menlo,'DejaVu Sans Mono',consolas,'Courier New',monospace\">G/G\n",
       "</pre>\n"
      ],
      "text/plain": [
       "G/G\n"
      ]
     },
     "metadata": {},
     "output_type": "display_data"
    },
    {
     "data": {
      "text/html": [
       "<pre style=\"white-space:pre;overflow-x:auto;line-height:normal;font-family:Menlo,'DejaVu Sans Mono',consolas,'Courier New',monospace\"><span style=\"color: #008080; text-decoration-color: #008080; font-weight: bold\">7.76</span>\n",
       "</pre>\n"
      ],
      "text/plain": [
       "\u001b[1;36m7.76\u001b[0m\n"
      ]
     },
     "metadata": {},
     "output_type": "display_data"
    },
    {
     "data": {
      "text/html": [
       "<pre style=\"white-space:pre;overflow-x:auto;line-height:normal;font-family:Menlo,'DejaVu Sans Mono',consolas,'Courier New',monospace\">G/G\n",
       "</pre>\n"
      ],
      "text/plain": [
       "G/G\n"
      ]
     },
     "metadata": {},
     "output_type": "display_data"
    },
    {
     "data": {
      "text/html": [
       "<pre style=\"white-space:pre;overflow-x:auto;line-height:normal;font-family:Menlo,'DejaVu Sans Mono',consolas,'Courier New',monospace\"><span style=\"color: #008080; text-decoration-color: #008080; font-weight: bold\">8.26</span>\n",
       "</pre>\n"
      ],
      "text/plain": [
       "\u001b[1;36m8.26\u001b[0m\n"
      ]
     },
     "metadata": {},
     "output_type": "display_data"
    },
    {
     "data": {
      "text/html": [
       "<pre style=\"white-space:pre;overflow-x:auto;line-height:normal;font-family:Menlo,'DejaVu Sans Mono',consolas,'Courier New',monospace\">G/G\n",
       "</pre>\n"
      ],
      "text/plain": [
       "G/G\n"
      ]
     },
     "metadata": {},
     "output_type": "display_data"
    },
    {
     "data": {
      "text/html": [
       "<pre style=\"white-space:pre;overflow-x:auto;line-height:normal;font-family:Menlo,'DejaVu Sans Mono',consolas,'Courier New',monospace\"><span style=\"color: #008080; text-decoration-color: #008080; font-weight: bold\">7.64</span>\n",
       "</pre>\n"
      ],
      "text/plain": [
       "\u001b[1;36m7.64\u001b[0m\n"
      ]
     },
     "metadata": {},
     "output_type": "display_data"
    },
    {
     "data": {
      "text/html": [
       "<pre style=\"white-space:pre;overflow-x:auto;line-height:normal;font-family:Menlo,'DejaVu Sans Mono',consolas,'Courier New',monospace\">G/G\n",
       "</pre>\n"
      ],
      "text/plain": [
       "G/G\n"
      ]
     },
     "metadata": {},
     "output_type": "display_data"
    },
    {
     "data": {
      "text/html": [
       "<pre style=\"white-space:pre;overflow-x:auto;line-height:normal;font-family:Menlo,'DejaVu Sans Mono',consolas,'Courier New',monospace\"><span style=\"color: #008080; text-decoration-color: #008080; font-weight: bold\">8.11</span>\n",
       "</pre>\n"
      ],
      "text/plain": [
       "\u001b[1;36m8.11\u001b[0m\n"
      ]
     },
     "metadata": {},
     "output_type": "display_data"
    },
    {
     "data": {
      "text/html": [
       "<pre style=\"white-space:pre;overflow-x:auto;line-height:normal;font-family:Menlo,'DejaVu Sans Mono',consolas,'Courier New',monospace\">G/G\n",
       "</pre>\n"
      ],
      "text/plain": [
       "G/G\n"
      ]
     },
     "metadata": {},
     "output_type": "display_data"
    },
    {
     "data": {
      "text/html": [
       "<pre style=\"white-space:pre;overflow-x:auto;line-height:normal;font-family:Menlo,'DejaVu Sans Mono',consolas,'Courier New',monospace\"><span style=\"color: #008080; text-decoration-color: #008080; font-weight: bold\">7.95</span>\n",
       "</pre>\n"
      ],
      "text/plain": [
       "\u001b[1;36m7.95\u001b[0m\n"
      ]
     },
     "metadata": {},
     "output_type": "display_data"
    },
    {
     "data": {
      "text/html": [
       "<pre style=\"white-space:pre;overflow-x:auto;line-height:normal;font-family:Menlo,'DejaVu Sans Mono',consolas,'Courier New',monospace\">G/G\n",
       "</pre>\n"
      ],
      "text/plain": [
       "G/G\n"
      ]
     },
     "metadata": {},
     "output_type": "display_data"
    },
    {
     "data": {
      "text/html": [
       "<pre style=\"white-space:pre;overflow-x:auto;line-height:normal;font-family:Menlo,'DejaVu Sans Mono',consolas,'Courier New',monospace\"><span style=\"color: #008080; text-decoration-color: #008080; font-weight: bold\">8.38</span>\n",
       "</pre>\n"
      ],
      "text/plain": [
       "\u001b[1;36m8.38\u001b[0m\n"
      ]
     },
     "metadata": {},
     "output_type": "display_data"
    },
    {
     "data": {
      "text/html": [
       "<pre style=\"white-space:pre;overflow-x:auto;line-height:normal;font-family:Menlo,'DejaVu Sans Mono',consolas,'Courier New',monospace\">G/G\n",
       "</pre>\n"
      ],
      "text/plain": [
       "G/G\n"
      ]
     },
     "metadata": {},
     "output_type": "display_data"
    },
    {
     "data": {
      "text/html": [
       "<pre style=\"white-space:pre;overflow-x:auto;line-height:normal;font-family:Menlo,'DejaVu Sans Mono',consolas,'Courier New',monospace\"><span style=\"color: #008080; text-decoration-color: #008080; font-weight: bold\">7.8</span>\n",
       "</pre>\n"
      ],
      "text/plain": [
       "\u001b[1;36m7.8\u001b[0m\n"
      ]
     },
     "metadata": {},
     "output_type": "display_data"
    },
    {
     "data": {
      "text/html": [
       "<pre style=\"white-space:pre;overflow-x:auto;line-height:normal;font-family:Menlo,'DejaVu Sans Mono',consolas,'Courier New',monospace\">G/G\n",
       "</pre>\n"
      ],
      "text/plain": [
       "G/G\n"
      ]
     },
     "metadata": {},
     "output_type": "display_data"
    },
    {
     "data": {
      "text/html": [
       "<pre style=\"white-space:pre;overflow-x:auto;line-height:normal;font-family:Menlo,'DejaVu Sans Mono',consolas,'Courier New',monospace\"><span style=\"color: #008080; text-decoration-color: #008080; font-weight: bold\">8.2</span>\n",
       "</pre>\n"
      ],
      "text/plain": [
       "\u001b[1;36m8.2\u001b[0m\n"
      ]
     },
     "metadata": {},
     "output_type": "display_data"
    },
    {
     "data": {
      "text/html": [
       "<pre style=\"white-space:pre;overflow-x:auto;line-height:normal;font-family:Menlo,'DejaVu Sans Mono',consolas,'Courier New',monospace\">G/G\n",
       "</pre>\n"
      ],
      "text/plain": [
       "G/G\n"
      ]
     },
     "metadata": {},
     "output_type": "display_data"
    },
    {
     "data": {
      "text/html": [
       "<pre style=\"white-space:pre;overflow-x:auto;line-height:normal;font-family:Menlo,'DejaVu Sans Mono',consolas,'Courier New',monospace\"><span style=\"color: #008080; text-decoration-color: #008080; font-weight: bold\">7.64</span>\n",
       "</pre>\n"
      ],
      "text/plain": [
       "\u001b[1;36m7.64\u001b[0m\n"
      ]
     },
     "metadata": {},
     "output_type": "display_data"
    },
    {
     "data": {
      "text/html": [
       "<pre style=\"white-space:pre;overflow-x:auto;line-height:normal;font-family:Menlo,'DejaVu Sans Mono',consolas,'Courier New',monospace\">H/G\n",
       "</pre>\n"
      ],
      "text/plain": [
       "H/G\n"
      ]
     },
     "metadata": {},
     "output_type": "display_data"
    },
    {
     "data": {
      "text/html": [
       "<pre style=\"white-space:pre;overflow-x:auto;line-height:normal;font-family:Menlo,'DejaVu Sans Mono',consolas,'Courier New',monospace\"><span style=\"color: #008080; text-decoration-color: #008080; font-weight: bold\">7.93</span>\n",
       "</pre>\n"
      ],
      "text/plain": [
       "\u001b[1;36m7.93\u001b[0m\n"
      ]
     },
     "metadata": {},
     "output_type": "display_data"
    },
    {
     "data": {
      "text/html": [
       "<pre style=\"white-space:pre;overflow-x:auto;line-height:normal;font-family:Menlo,'DejaVu Sans Mono',consolas,'Courier New',monospace\">H/G\n",
       "</pre>\n"
      ],
      "text/plain": [
       "H/G\n"
      ]
     },
     "metadata": {},
     "output_type": "display_data"
    },
    {
     "data": {
      "text/html": [
       "<pre style=\"white-space:pre;overflow-x:auto;line-height:normal;font-family:Menlo,'DejaVu Sans Mono',consolas,'Courier New',monospace\"><span style=\"color: #008080; text-decoration-color: #008080; font-weight: bold\">8.19</span>\n",
       "</pre>\n"
      ],
      "text/plain": [
       "\u001b[1;36m8.19\u001b[0m\n"
      ]
     },
     "metadata": {},
     "output_type": "display_data"
    },
    {
     "data": {
      "text/html": [
       "<pre style=\"white-space:pre;overflow-x:auto;line-height:normal;font-family:Menlo,'DejaVu Sans Mono',consolas,'Courier New',monospace\">H/G\n",
       "</pre>\n"
      ],
      "text/plain": [
       "H/G\n"
      ]
     },
     "metadata": {},
     "output_type": "display_data"
    },
    {
     "data": {
      "text/html": [
       "<pre style=\"white-space:pre;overflow-x:auto;line-height:normal;font-family:Menlo,'DejaVu Sans Mono',consolas,'Courier New',monospace\"><span style=\"color: #008080; text-decoration-color: #008080; font-weight: bold\">8.33</span>\n",
       "</pre>\n"
      ],
      "text/plain": [
       "\u001b[1;36m8.33\u001b[0m\n"
      ]
     },
     "metadata": {},
     "output_type": "display_data"
    },
    {
     "data": {
      "text/html": [
       "<pre style=\"white-space:pre;overflow-x:auto;line-height:normal;font-family:Menlo,'DejaVu Sans Mono',consolas,'Courier New',monospace\">H/G\n",
       "</pre>\n"
      ],
      "text/plain": [
       "H/G\n"
      ]
     },
     "metadata": {},
     "output_type": "display_data"
    },
    {
     "data": {
      "text/html": [
       "<pre style=\"white-space:pre;overflow-x:auto;line-height:normal;font-family:Menlo,'DejaVu Sans Mono',consolas,'Courier New',monospace\"><span style=\"color: #008080; text-decoration-color: #008080; font-weight: bold\">7.63</span>\n",
       "</pre>\n"
      ],
      "text/plain": [
       "\u001b[1;36m7.63\u001b[0m\n"
      ]
     },
     "metadata": {},
     "output_type": "display_data"
    },
    {
     "data": {
      "text/html": [
       "<pre style=\"white-space:pre;overflow-x:auto;line-height:normal;font-family:Menlo,'DejaVu Sans Mono',consolas,'Courier New',monospace\">H/G\n",
       "</pre>\n"
      ],
      "text/plain": [
       "H/G\n"
      ]
     },
     "metadata": {},
     "output_type": "display_data"
    },
    {
     "data": {
      "text/html": [
       "<pre style=\"white-space:pre;overflow-x:auto;line-height:normal;font-family:Menlo,'DejaVu Sans Mono',consolas,'Courier New',monospace\"><span style=\"color: #008080; text-decoration-color: #008080; font-weight: bold\">7.7</span>\n",
       "</pre>\n"
      ],
      "text/plain": [
       "\u001b[1;36m7.7\u001b[0m\n"
      ]
     },
     "metadata": {},
     "output_type": "display_data"
    },
    {
     "data": {
      "text/html": [
       "<pre style=\"white-space:pre;overflow-x:auto;line-height:normal;font-family:Menlo,'DejaVu Sans Mono',consolas,'Courier New',monospace\">H/G\n",
       "</pre>\n"
      ],
      "text/plain": [
       "H/G\n"
      ]
     },
     "metadata": {},
     "output_type": "display_data"
    },
    {
     "data": {
      "text/html": [
       "<pre style=\"white-space:pre;overflow-x:auto;line-height:normal;font-family:Menlo,'DejaVu Sans Mono',consolas,'Courier New',monospace\"><span style=\"color: #008080; text-decoration-color: #008080; font-weight: bold\">8.39</span>\n",
       "</pre>\n"
      ],
      "text/plain": [
       "\u001b[1;36m8.39\u001b[0m\n"
      ]
     },
     "metadata": {},
     "output_type": "display_data"
    },
    {
     "data": {
      "text/html": [
       "<pre style=\"white-space:pre;overflow-x:auto;line-height:normal;font-family:Menlo,'DejaVu Sans Mono',consolas,'Courier New',monospace\">H/G\n",
       "</pre>\n"
      ],
      "text/plain": [
       "H/G\n"
      ]
     },
     "metadata": {},
     "output_type": "display_data"
    },
    {
     "data": {
      "text/html": [
       "<pre style=\"white-space:pre;overflow-x:auto;line-height:normal;font-family:Menlo,'DejaVu Sans Mono',consolas,'Courier New',monospace\"><span style=\"color: #008080; text-decoration-color: #008080; font-weight: bold\">7.68</span>\n",
       "</pre>\n"
      ],
      "text/plain": [
       "\u001b[1;36m7.68\u001b[0m\n"
      ]
     },
     "metadata": {},
     "output_type": "display_data"
    },
    {
     "data": {
      "text/html": [
       "<pre style=\"white-space:pre;overflow-x:auto;line-height:normal;font-family:Menlo,'DejaVu Sans Mono',consolas,'Courier New',monospace\">H/G\n",
       "</pre>\n"
      ],
      "text/plain": [
       "H/G\n"
      ]
     },
     "metadata": {},
     "output_type": "display_data"
    },
    {
     "data": {
      "text/html": [
       "<pre style=\"white-space:pre;overflow-x:auto;line-height:normal;font-family:Menlo,'DejaVu Sans Mono',consolas,'Courier New',monospace\"><span style=\"color: #008080; text-decoration-color: #008080; font-weight: bold\">8.3</span>\n",
       "</pre>\n"
      ],
      "text/plain": [
       "\u001b[1;36m8.3\u001b[0m\n"
      ]
     },
     "metadata": {},
     "output_type": "display_data"
    },
    {
     "data": {
      "text/html": [
       "<pre style=\"white-space:pre;overflow-x:auto;line-height:normal;font-family:Menlo,'DejaVu Sans Mono',consolas,'Courier New',monospace\">H/G\n",
       "</pre>\n"
      ],
      "text/plain": [
       "H/G\n"
      ]
     },
     "metadata": {},
     "output_type": "display_data"
    },
    {
     "data": {
      "text/html": [
       "<pre style=\"white-space:pre;overflow-x:auto;line-height:normal;font-family:Menlo,'DejaVu Sans Mono',consolas,'Courier New',monospace\"><span style=\"color: #008080; text-decoration-color: #008080; font-weight: bold\">7.63</span>\n",
       "</pre>\n"
      ],
      "text/plain": [
       "\u001b[1;36m7.63\u001b[0m\n"
      ]
     },
     "metadata": {},
     "output_type": "display_data"
    },
    {
     "data": {
      "text/html": [
       "<pre style=\"white-space:pre;overflow-x:auto;line-height:normal;font-family:Menlo,'DejaVu Sans Mono',consolas,'Courier New',monospace\">H/G\n",
       "</pre>\n"
      ],
      "text/plain": [
       "H/G\n"
      ]
     },
     "metadata": {},
     "output_type": "display_data"
    },
    {
     "data": {
      "text/html": [
       "<pre style=\"white-space:pre;overflow-x:auto;line-height:normal;font-family:Menlo,'DejaVu Sans Mono',consolas,'Courier New',monospace\"><span style=\"color: #008080; text-decoration-color: #008080; font-weight: bold\">8.2</span>\n",
       "</pre>\n"
      ],
      "text/plain": [
       "\u001b[1;36m8.2\u001b[0m\n"
      ]
     },
     "metadata": {},
     "output_type": "display_data"
    },
    {
     "data": {
      "text/html": [
       "<pre style=\"white-space:pre;overflow-x:auto;line-height:normal;font-family:Menlo,'DejaVu Sans Mono',consolas,'Courier New',monospace\">H/G\n",
       "</pre>\n"
      ],
      "text/plain": [
       "H/G\n"
      ]
     },
     "metadata": {},
     "output_type": "display_data"
    },
    {
     "data": {
      "text/html": [
       "<pre style=\"white-space:pre;overflow-x:auto;line-height:normal;font-family:Menlo,'DejaVu Sans Mono',consolas,'Courier New',monospace\"><span style=\"color: #008080; text-decoration-color: #008080; font-weight: bold\">8.14</span>\n",
       "</pre>\n"
      ],
      "text/plain": [
       "\u001b[1;36m8.14\u001b[0m\n"
      ]
     },
     "metadata": {},
     "output_type": "display_data"
    },
    {
     "data": {
      "text/html": [
       "<pre style=\"white-space:pre;overflow-x:auto;line-height:normal;font-family:Menlo,'DejaVu Sans Mono',consolas,'Courier New',monospace\">H/G\n",
       "</pre>\n"
      ],
      "text/plain": [
       "H/G\n"
      ]
     },
     "metadata": {},
     "output_type": "display_data"
    },
    {
     "data": {
      "text/html": [
       "<pre style=\"white-space:pre;overflow-x:auto;line-height:normal;font-family:Menlo,'DejaVu Sans Mono',consolas,'Courier New',monospace\"><span style=\"color: #008080; text-decoration-color: #008080; font-weight: bold\">8.02</span>\n",
       "</pre>\n"
      ],
      "text/plain": [
       "\u001b[1;36m8.02\u001b[0m\n"
      ]
     },
     "metadata": {},
     "output_type": "display_data"
    },
    {
     "data": {
      "text/html": [
       "<pre style=\"white-space:pre;overflow-x:auto;line-height:normal;font-family:Menlo,'DejaVu Sans Mono',consolas,'Courier New',monospace\">H/G\n",
       "</pre>\n"
      ],
      "text/plain": [
       "H/G\n"
      ]
     },
     "metadata": {},
     "output_type": "display_data"
    },
    {
     "data": {
      "text/html": [
       "<pre style=\"white-space:pre;overflow-x:auto;line-height:normal;font-family:Menlo,'DejaVu Sans Mono',consolas,'Courier New',monospace\"><span style=\"color: #008080; text-decoration-color: #008080; font-weight: bold\">7.89</span>\n",
       "</pre>\n"
      ],
      "text/plain": [
       "\u001b[1;36m7.89\u001b[0m\n"
      ]
     },
     "metadata": {},
     "output_type": "display_data"
    },
    {
     "data": {
      "text/html": [
       "<pre style=\"white-space:pre;overflow-x:auto;line-height:normal;font-family:Menlo,'DejaVu Sans Mono',consolas,'Courier New',monospace\">H/G\n",
       "</pre>\n"
      ],
      "text/plain": [
       "H/G\n"
      ]
     },
     "metadata": {},
     "output_type": "display_data"
    },
    {
     "data": {
      "text/html": [
       "<pre style=\"white-space:pre;overflow-x:auto;line-height:normal;font-family:Menlo,'DejaVu Sans Mono',consolas,'Courier New',monospace\"><span style=\"color: #008080; text-decoration-color: #008080; font-weight: bold\">8.35</span>\n",
       "</pre>\n"
      ],
      "text/plain": [
       "\u001b[1;36m8.35\u001b[0m\n"
      ]
     },
     "metadata": {},
     "output_type": "display_data"
    },
    {
     "data": {
      "text/html": [
       "<pre style=\"white-space:pre;overflow-x:auto;line-height:normal;font-family:Menlo,'DejaVu Sans Mono',consolas,'Courier New',monospace\">H/G\n",
       "</pre>\n"
      ],
      "text/plain": [
       "H/G\n"
      ]
     },
     "metadata": {},
     "output_type": "display_data"
    },
    {
     "data": {
      "text/html": [
       "<pre style=\"white-space:pre;overflow-x:auto;line-height:normal;font-family:Menlo,'DejaVu Sans Mono',consolas,'Courier New',monospace\"><span style=\"color: #008080; text-decoration-color: #008080; font-weight: bold\">7.76</span>\n",
       "</pre>\n"
      ],
      "text/plain": [
       "\u001b[1;36m7.76\u001b[0m\n"
      ]
     },
     "metadata": {},
     "output_type": "display_data"
    },
    {
     "data": {
      "text/html": [
       "<pre style=\"white-space:pre;overflow-x:auto;line-height:normal;font-family:Menlo,'DejaVu Sans Mono',consolas,'Courier New',monospace\">H/G\n",
       "</pre>\n"
      ],
      "text/plain": [
       "H/G\n"
      ]
     },
     "metadata": {},
     "output_type": "display_data"
    },
    {
     "data": {
      "text/html": [
       "<pre style=\"white-space:pre;overflow-x:auto;line-height:normal;font-family:Menlo,'DejaVu Sans Mono',consolas,'Courier New',monospace\"><span style=\"color: #008080; text-decoration-color: #008080; font-weight: bold\">8.19</span>\n",
       "</pre>\n"
      ],
      "text/plain": [
       "\u001b[1;36m8.19\u001b[0m\n"
      ]
     },
     "metadata": {},
     "output_type": "display_data"
    },
    {
     "data": {
      "text/html": [
       "<pre style=\"white-space:pre;overflow-x:auto;line-height:normal;font-family:Menlo,'DejaVu Sans Mono',consolas,'Courier New',monospace\">H/G\n",
       "</pre>\n"
      ],
      "text/plain": [
       "H/G\n"
      ]
     },
     "metadata": {},
     "output_type": "display_data"
    },
    {
     "data": {
      "text/html": [
       "<pre style=\"white-space:pre;overflow-x:auto;line-height:normal;font-family:Menlo,'DejaVu Sans Mono',consolas,'Courier New',monospace\"><span style=\"color: #008080; text-decoration-color: #008080; font-weight: bold\">7.63</span>\n",
       "</pre>\n"
      ],
      "text/plain": [
       "\u001b[1;36m7.63\u001b[0m\n"
      ]
     },
     "metadata": {},
     "output_type": "display_data"
    },
    {
     "data": {
      "text/html": [
       "<pre style=\"white-space:pre;overflow-x:auto;line-height:normal;font-family:Menlo,'DejaVu Sans Mono',consolas,'Courier New',monospace\">H/G\n",
       "</pre>\n"
      ],
      "text/plain": [
       "H/G\n"
      ]
     },
     "metadata": {},
     "output_type": "display_data"
    },
    {
     "data": {
      "text/html": [
       "<pre style=\"white-space:pre;overflow-x:auto;line-height:normal;font-family:Menlo,'DejaVu Sans Mono',consolas,'Courier New',monospace\"><span style=\"color: #008080; text-decoration-color: #008080; font-weight: bold\">8.02</span>\n",
       "</pre>\n"
      ],
      "text/plain": [
       "\u001b[1;36m8.02\u001b[0m\n"
      ]
     },
     "metadata": {},
     "output_type": "display_data"
    },
    {
     "data": {
      "text/html": [
       "<pre style=\"white-space:pre;overflow-x:auto;line-height:normal;font-family:Menlo,'DejaVu Sans Mono',consolas,'Courier New',monospace\">H/H\n",
       "</pre>\n"
      ],
      "text/plain": [
       "H/H\n"
      ]
     },
     "metadata": {},
     "output_type": "display_data"
    },
    {
     "data": {
      "text/html": [
       "<pre style=\"white-space:pre;overflow-x:auto;line-height:normal;font-family:Menlo,'DejaVu Sans Mono',consolas,'Courier New',monospace\"><span style=\"color: #008080; text-decoration-color: #008080; font-weight: bold\">8.18</span>\n",
       "</pre>\n"
      ],
      "text/plain": [
       "\u001b[1;36m8.18\u001b[0m\n"
      ]
     },
     "metadata": {},
     "output_type": "display_data"
    },
    {
     "data": {
      "text/html": [
       "<pre style=\"white-space:pre;overflow-x:auto;line-height:normal;font-family:Menlo,'DejaVu Sans Mono',consolas,'Courier New',monospace\">H/H\n",
       "</pre>\n"
      ],
      "text/plain": [
       "H/H\n"
      ]
     },
     "metadata": {},
     "output_type": "display_data"
    },
    {
     "data": {
      "text/html": [
       "<pre style=\"white-space:pre;overflow-x:auto;line-height:normal;font-family:Menlo,'DejaVu Sans Mono',consolas,'Courier New',monospace\"><span style=\"color: #008080; text-decoration-color: #008080; font-weight: bold\">7.72</span>\n",
       "</pre>\n"
      ],
      "text/plain": [
       "\u001b[1;36m7.72\u001b[0m\n"
      ]
     },
     "metadata": {},
     "output_type": "display_data"
    },
    {
     "data": {
      "text/html": [
       "<pre style=\"white-space:pre;overflow-x:auto;line-height:normal;font-family:Menlo,'DejaVu Sans Mono',consolas,'Courier New',monospace\">H/H\n",
       "</pre>\n"
      ],
      "text/plain": [
       "H/H\n"
      ]
     },
     "metadata": {},
     "output_type": "display_data"
    },
    {
     "data": {
      "text/html": [
       "<pre style=\"white-space:pre;overflow-x:auto;line-height:normal;font-family:Menlo,'DejaVu Sans Mono',consolas,'Courier New',monospace\"><span style=\"color: #008080; text-decoration-color: #008080; font-weight: bold\">7.82</span>\n",
       "</pre>\n"
      ],
      "text/plain": [
       "\u001b[1;36m7.82\u001b[0m\n"
      ]
     },
     "metadata": {},
     "output_type": "display_data"
    },
    {
     "data": {
      "text/html": [
       "<pre style=\"white-space:pre;overflow-x:auto;line-height:normal;font-family:Menlo,'DejaVu Sans Mono',consolas,'Courier New',monospace\">H/H\n",
       "</pre>\n"
      ],
      "text/plain": [
       "H/H\n"
      ]
     },
     "metadata": {},
     "output_type": "display_data"
    },
    {
     "data": {
      "text/html": [
       "<pre style=\"white-space:pre;overflow-x:auto;line-height:normal;font-family:Menlo,'DejaVu Sans Mono',consolas,'Courier New',monospace\"><span style=\"color: #008080; text-decoration-color: #008080; font-weight: bold\">7.87</span>\n",
       "</pre>\n"
      ],
      "text/plain": [
       "\u001b[1;36m7.87\u001b[0m\n"
      ]
     },
     "metadata": {},
     "output_type": "display_data"
    },
    {
     "data": {
      "text/html": [
       "<pre style=\"white-space:pre;overflow-x:auto;line-height:normal;font-family:Menlo,'DejaVu Sans Mono',consolas,'Courier New',monospace\">H/H\n",
       "</pre>\n"
      ],
      "text/plain": [
       "H/H\n"
      ]
     },
     "metadata": {},
     "output_type": "display_data"
    },
    {
     "data": {
      "text/html": [
       "<pre style=\"white-space:pre;overflow-x:auto;line-height:normal;font-family:Menlo,'DejaVu Sans Mono',consolas,'Courier New',monospace\"><span style=\"color: #008080; text-decoration-color: #008080; font-weight: bold\">7.95</span>\n",
       "</pre>\n"
      ],
      "text/plain": [
       "\u001b[1;36m7.95\u001b[0m\n"
      ]
     },
     "metadata": {},
     "output_type": "display_data"
    },
    {
     "data": {
      "text/html": [
       "<pre style=\"white-space:pre;overflow-x:auto;line-height:normal;font-family:Menlo,'DejaVu Sans Mono',consolas,'Courier New',monospace\">H/H\n",
       "</pre>\n"
      ],
      "text/plain": [
       "H/H\n"
      ]
     },
     "metadata": {},
     "output_type": "display_data"
    },
    {
     "data": {
      "text/html": [
       "<pre style=\"white-space:pre;overflow-x:auto;line-height:normal;font-family:Menlo,'DejaVu Sans Mono',consolas,'Courier New',monospace\"><span style=\"color: #008080; text-decoration-color: #008080; font-weight: bold\">7.92</span>\n",
       "</pre>\n"
      ],
      "text/plain": [
       "\u001b[1;36m7.92\u001b[0m\n"
      ]
     },
     "metadata": {},
     "output_type": "display_data"
    },
    {
     "data": {
      "text/html": [
       "<pre style=\"white-space:pre;overflow-x:auto;line-height:normal;font-family:Menlo,'DejaVu Sans Mono',consolas,'Courier New',monospace\">H/H\n",
       "</pre>\n"
      ],
      "text/plain": [
       "H/H\n"
      ]
     },
     "metadata": {},
     "output_type": "display_data"
    },
    {
     "data": {
      "text/html": [
       "<pre style=\"white-space:pre;overflow-x:auto;line-height:normal;font-family:Menlo,'DejaVu Sans Mono',consolas,'Courier New',monospace\"><span style=\"color: #008080; text-decoration-color: #008080; font-weight: bold\">7.87</span>\n",
       "</pre>\n"
      ],
      "text/plain": [
       "\u001b[1;36m7.87\u001b[0m\n"
      ]
     },
     "metadata": {},
     "output_type": "display_data"
    },
    {
     "data": {
      "text/html": [
       "<pre style=\"white-space:pre;overflow-x:auto;line-height:normal;font-family:Menlo,'DejaVu Sans Mono',consolas,'Courier New',monospace\">H/H\n",
       "</pre>\n"
      ],
      "text/plain": [
       "H/H\n"
      ]
     },
     "metadata": {},
     "output_type": "display_data"
    },
    {
     "data": {
      "text/html": [
       "<pre style=\"white-space:pre;overflow-x:auto;line-height:normal;font-family:Menlo,'DejaVu Sans Mono',consolas,'Courier New',monospace\"><span style=\"color: #008080; text-decoration-color: #008080; font-weight: bold\">7.8</span>\n",
       "</pre>\n"
      ],
      "text/plain": [
       "\u001b[1;36m7.8\u001b[0m\n"
      ]
     },
     "metadata": {},
     "output_type": "display_data"
    },
    {
     "data": {
      "text/html": [
       "<pre style=\"white-space:pre;overflow-x:auto;line-height:normal;font-family:Menlo,'DejaVu Sans Mono',consolas,'Courier New',monospace\">H/H\n",
       "</pre>\n"
      ],
      "text/plain": [
       "H/H\n"
      ]
     },
     "metadata": {},
     "output_type": "display_data"
    },
    {
     "data": {
      "text/html": [
       "<pre style=\"white-space:pre;overflow-x:auto;line-height:normal;font-family:Menlo,'DejaVu Sans Mono',consolas,'Courier New',monospace\"><span style=\"color: #008080; text-decoration-color: #008080; font-weight: bold\">7.77</span>\n",
       "</pre>\n"
      ],
      "text/plain": [
       "\u001b[1;36m7.77\u001b[0m\n"
      ]
     },
     "metadata": {},
     "output_type": "display_data"
    },
    {
     "data": {
      "text/html": [
       "<pre style=\"white-space:pre;overflow-x:auto;line-height:normal;font-family:Menlo,'DejaVu Sans Mono',consolas,'Courier New',monospace\">H/H\n",
       "</pre>\n"
      ],
      "text/plain": [
       "H/H\n"
      ]
     },
     "metadata": {},
     "output_type": "display_data"
    },
    {
     "data": {
      "text/html": [
       "<pre style=\"white-space:pre;overflow-x:auto;line-height:normal;font-family:Menlo,'DejaVu Sans Mono',consolas,'Courier New',monospace\"><span style=\"color: #008080; text-decoration-color: #008080; font-weight: bold\">8.27</span>\n",
       "</pre>\n"
      ],
      "text/plain": [
       "\u001b[1;36m8.27\u001b[0m\n"
      ]
     },
     "metadata": {},
     "output_type": "display_data"
    },
    {
     "data": {
      "text/html": [
       "<pre style=\"white-space:pre;overflow-x:auto;line-height:normal;font-family:Menlo,'DejaVu Sans Mono',consolas,'Courier New',monospace\">H/H\n",
       "</pre>\n"
      ],
      "text/plain": [
       "H/H\n"
      ]
     },
     "metadata": {},
     "output_type": "display_data"
    },
    {
     "data": {
      "text/html": [
       "<pre style=\"white-space:pre;overflow-x:auto;line-height:normal;font-family:Menlo,'DejaVu Sans Mono',consolas,'Courier New',monospace\"><span style=\"color: #008080; text-decoration-color: #008080; font-weight: bold\">7.67</span>\n",
       "</pre>\n"
      ],
      "text/plain": [
       "\u001b[1;36m7.67\u001b[0m\n"
      ]
     },
     "metadata": {},
     "output_type": "display_data"
    },
    {
     "data": {
      "text/html": [
       "<pre style=\"white-space:pre;overflow-x:auto;line-height:normal;font-family:Menlo,'DejaVu Sans Mono',consolas,'Courier New',monospace\">H/H\n",
       "</pre>\n"
      ],
      "text/plain": [
       "H/H\n"
      ]
     },
     "metadata": {},
     "output_type": "display_data"
    },
    {
     "data": {
      "text/html": [
       "<pre style=\"white-space:pre;overflow-x:auto;line-height:normal;font-family:Menlo,'DejaVu Sans Mono',consolas,'Courier New',monospace\"><span style=\"color: #008080; text-decoration-color: #008080; font-weight: bold\">8.14</span>\n",
       "</pre>\n"
      ],
      "text/plain": [
       "\u001b[1;36m8.14\u001b[0m\n"
      ]
     },
     "metadata": {},
     "output_type": "display_data"
    },
    {
     "data": {
      "text/html": [
       "<pre style=\"white-space:pre;overflow-x:auto;line-height:normal;font-family:Menlo,'DejaVu Sans Mono',consolas,'Courier New',monospace\">H/H\n",
       "</pre>\n"
      ],
      "text/plain": [
       "H/H\n"
      ]
     },
     "metadata": {},
     "output_type": "display_data"
    },
    {
     "data": {
      "text/html": [
       "<pre style=\"white-space:pre;overflow-x:auto;line-height:normal;font-family:Menlo,'DejaVu Sans Mono',consolas,'Courier New',monospace\"><span style=\"color: #008080; text-decoration-color: #008080; font-weight: bold\">8.01</span>\n",
       "</pre>\n"
      ],
      "text/plain": [
       "\u001b[1;36m8.01\u001b[0m\n"
      ]
     },
     "metadata": {},
     "output_type": "display_data"
    },
    {
     "data": {
      "text/html": [
       "<pre style=\"white-space:pre;overflow-x:auto;line-height:normal;font-family:Menlo,'DejaVu Sans Mono',consolas,'Courier New',monospace\">H/H\n",
       "</pre>\n"
      ],
      "text/plain": [
       "H/H\n"
      ]
     },
     "metadata": {},
     "output_type": "display_data"
    },
    {
     "data": {
      "text/html": [
       "<pre style=\"white-space:pre;overflow-x:auto;line-height:normal;font-family:Menlo,'DejaVu Sans Mono',consolas,'Courier New',monospace\"><span style=\"color: #008080; text-decoration-color: #008080; font-weight: bold\">7.87</span>\n",
       "</pre>\n"
      ],
      "text/plain": [
       "\u001b[1;36m7.87\u001b[0m\n"
      ]
     },
     "metadata": {},
     "output_type": "display_data"
    },
    {
     "data": {
      "text/html": [
       "<pre style=\"white-space:pre;overflow-x:auto;line-height:normal;font-family:Menlo,'DejaVu Sans Mono',consolas,'Courier New',monospace\">H/H\n",
       "</pre>\n"
      ],
      "text/plain": [
       "H/H\n"
      ]
     },
     "metadata": {},
     "output_type": "display_data"
    },
    {
     "data": {
      "text/html": [
       "<pre style=\"white-space:pre;overflow-x:auto;line-height:normal;font-family:Menlo,'DejaVu Sans Mono',consolas,'Courier New',monospace\"><span style=\"color: #008080; text-decoration-color: #008080; font-weight: bold\">8.28</span>\n",
       "</pre>\n"
      ],
      "text/plain": [
       "\u001b[1;36m8.28\u001b[0m\n"
      ]
     },
     "metadata": {},
     "output_type": "display_data"
    },
    {
     "data": {
      "text/html": [
       "<pre style=\"white-space:pre;overflow-x:auto;line-height:normal;font-family:Menlo,'DejaVu Sans Mono',consolas,'Courier New',monospace\">H/H\n",
       "</pre>\n"
      ],
      "text/plain": [
       "H/H\n"
      ]
     },
     "metadata": {},
     "output_type": "display_data"
    },
    {
     "data": {
      "text/html": [
       "<pre style=\"white-space:pre;overflow-x:auto;line-height:normal;font-family:Menlo,'DejaVu Sans Mono',consolas,'Courier New',monospace\"><span style=\"color: #008080; text-decoration-color: #008080; font-weight: bold\">7.74</span>\n",
       "</pre>\n"
      ],
      "text/plain": [
       "\u001b[1;36m7.74\u001b[0m\n"
      ]
     },
     "metadata": {},
     "output_type": "display_data"
    },
    {
     "data": {
      "text/html": [
       "<pre style=\"white-space:pre;overflow-x:auto;line-height:normal;font-family:Menlo,'DejaVu Sans Mono',consolas,'Courier New',monospace\">K/H\n",
       "</pre>\n"
      ],
      "text/plain": [
       "K/H\n"
      ]
     },
     "metadata": {},
     "output_type": "display_data"
    },
    {
     "data": {
      "text/html": [
       "<pre style=\"white-space:pre;overflow-x:auto;line-height:normal;font-family:Menlo,'DejaVu Sans Mono',consolas,'Courier New',monospace\"><span style=\"color: #008080; text-decoration-color: #008080; font-weight: bold\">7.61</span>\n",
       "</pre>\n"
      ],
      "text/plain": [
       "\u001b[1;36m7.61\u001b[0m\n"
      ]
     },
     "metadata": {},
     "output_type": "display_data"
    },
    {
     "data": {
      "text/html": [
       "<pre style=\"white-space:pre;overflow-x:auto;line-height:normal;font-family:Menlo,'DejaVu Sans Mono',consolas,'Courier New',monospace\">K/H\n",
       "</pre>\n"
      ],
      "text/plain": [
       "K/H\n"
      ]
     },
     "metadata": {},
     "output_type": "display_data"
    },
    {
     "data": {
      "text/html": [
       "<pre style=\"white-space:pre;overflow-x:auto;line-height:normal;font-family:Menlo,'DejaVu Sans Mono',consolas,'Courier New',monospace\"><span style=\"color: #008080; text-decoration-color: #008080; font-weight: bold\">7.92</span>\n",
       "</pre>\n"
      ],
      "text/plain": [
       "\u001b[1;36m7.92\u001b[0m\n"
      ]
     },
     "metadata": {},
     "output_type": "display_data"
    },
    {
     "data": {
      "text/html": [
       "<pre style=\"white-space:pre;overflow-x:auto;line-height:normal;font-family:Menlo,'DejaVu Sans Mono',consolas,'Courier New',monospace\">K/H\n",
       "</pre>\n"
      ],
      "text/plain": [
       "K/H\n"
      ]
     },
     "metadata": {},
     "output_type": "display_data"
    },
    {
     "data": {
      "text/html": [
       "<pre style=\"white-space:pre;overflow-x:auto;line-height:normal;font-family:Menlo,'DejaVu Sans Mono',consolas,'Courier New',monospace\"><span style=\"color: #008080; text-decoration-color: #008080; font-weight: bold\">8.1</span>\n",
       "</pre>\n"
      ],
      "text/plain": [
       "\u001b[1;36m8.1\u001b[0m\n"
      ]
     },
     "metadata": {},
     "output_type": "display_data"
    },
    {
     "data": {
      "text/html": [
       "<pre style=\"white-space:pre;overflow-x:auto;line-height:normal;font-family:Menlo,'DejaVu Sans Mono',consolas,'Courier New',monospace\">K/H\n",
       "</pre>\n"
      ],
      "text/plain": [
       "K/H\n"
      ]
     },
     "metadata": {},
     "output_type": "display_data"
    },
    {
     "data": {
      "text/html": [
       "<pre style=\"white-space:pre;overflow-x:auto;line-height:normal;font-family:Menlo,'DejaVu Sans Mono',consolas,'Courier New',monospace\"><span style=\"color: #008080; text-decoration-color: #008080; font-weight: bold\">8.21</span>\n",
       "</pre>\n"
      ],
      "text/plain": [
       "\u001b[1;36m8.21\u001b[0m\n"
      ]
     },
     "metadata": {},
     "output_type": "display_data"
    },
    {
     "data": {
      "text/html": [
       "<pre style=\"white-space:pre;overflow-x:auto;line-height:normal;font-family:Menlo,'DejaVu Sans Mono',consolas,'Courier New',monospace\">K/H\n",
       "</pre>\n"
      ],
      "text/plain": [
       "K/H\n"
      ]
     },
     "metadata": {},
     "output_type": "display_data"
    },
    {
     "data": {
      "text/html": [
       "<pre style=\"white-space:pre;overflow-x:auto;line-height:normal;font-family:Menlo,'DejaVu Sans Mono',consolas,'Courier New',monospace\"><span style=\"color: #008080; text-decoration-color: #008080; font-weight: bold\">8.27</span>\n",
       "</pre>\n"
      ],
      "text/plain": [
       "\u001b[1;36m8.27\u001b[0m\n"
      ]
     },
     "metadata": {},
     "output_type": "display_data"
    },
    {
     "data": {
      "text/html": [
       "<pre style=\"white-space:pre;overflow-x:auto;line-height:normal;font-family:Menlo,'DejaVu Sans Mono',consolas,'Courier New',monospace\">K/H\n",
       "</pre>\n"
      ],
      "text/plain": [
       "K/H\n"
      ]
     },
     "metadata": {},
     "output_type": "display_data"
    },
    {
     "data": {
      "text/html": [
       "<pre style=\"white-space:pre;overflow-x:auto;line-height:normal;font-family:Menlo,'DejaVu Sans Mono',consolas,'Courier New',monospace\"><span style=\"color: #008080; text-decoration-color: #008080; font-weight: bold\">8.35</span>\n",
       "</pre>\n"
      ],
      "text/plain": [
       "\u001b[1;36m8.35\u001b[0m\n"
      ]
     },
     "metadata": {},
     "output_type": "display_data"
    },
    {
     "data": {
      "text/html": [
       "<pre style=\"white-space:pre;overflow-x:auto;line-height:normal;font-family:Menlo,'DejaVu Sans Mono',consolas,'Courier New',monospace\">K/H\n",
       "</pre>\n"
      ],
      "text/plain": [
       "K/H\n"
      ]
     },
     "metadata": {},
     "output_type": "display_data"
    },
    {
     "data": {
      "text/html": [
       "<pre style=\"white-space:pre;overflow-x:auto;line-height:normal;font-family:Menlo,'DejaVu Sans Mono',consolas,'Courier New',monospace\"><span style=\"color: #008080; text-decoration-color: #008080; font-weight: bold\">7.64</span>\n",
       "</pre>\n"
      ],
      "text/plain": [
       "\u001b[1;36m7.64\u001b[0m\n"
      ]
     },
     "metadata": {},
     "output_type": "display_data"
    },
    {
     "data": {
      "text/html": [
       "<pre style=\"white-space:pre;overflow-x:auto;line-height:normal;font-family:Menlo,'DejaVu Sans Mono',consolas,'Courier New',monospace\">K/H\n",
       "</pre>\n"
      ],
      "text/plain": [
       "K/H\n"
      ]
     },
     "metadata": {},
     "output_type": "display_data"
    },
    {
     "data": {
      "text/html": [
       "<pre style=\"white-space:pre;overflow-x:auto;line-height:normal;font-family:Menlo,'DejaVu Sans Mono',consolas,'Courier New',monospace\"><span style=\"color: #008080; text-decoration-color: #008080; font-weight: bold\">8.32</span>\n",
       "</pre>\n"
      ],
      "text/plain": [
       "\u001b[1;36m8.32\u001b[0m\n"
      ]
     },
     "metadata": {},
     "output_type": "display_data"
    },
    {
     "data": {
      "text/html": [
       "<pre style=\"white-space:pre;overflow-x:auto;line-height:normal;font-family:Menlo,'DejaVu Sans Mono',consolas,'Courier New',monospace\">K/H\n",
       "</pre>\n"
      ],
      "text/plain": [
       "K/H\n"
      ]
     },
     "metadata": {},
     "output_type": "display_data"
    },
    {
     "data": {
      "text/html": [
       "<pre style=\"white-space:pre;overflow-x:auto;line-height:normal;font-family:Menlo,'DejaVu Sans Mono',consolas,'Courier New',monospace\"><span style=\"color: #008080; text-decoration-color: #008080; font-weight: bold\">7.64</span>\n",
       "</pre>\n"
      ],
      "text/plain": [
       "\u001b[1;36m7.64\u001b[0m\n"
      ]
     },
     "metadata": {},
     "output_type": "display_data"
    },
    {
     "data": {
      "text/html": [
       "<pre style=\"white-space:pre;overflow-x:auto;line-height:normal;font-family:Menlo,'DejaVu Sans Mono',consolas,'Courier New',monospace\">K/H\n",
       "</pre>\n"
      ],
      "text/plain": [
       "K/H\n"
      ]
     },
     "metadata": {},
     "output_type": "display_data"
    },
    {
     "data": {
      "text/html": [
       "<pre style=\"white-space:pre;overflow-x:auto;line-height:normal;font-family:Menlo,'DejaVu Sans Mono',consolas,'Courier New',monospace\"><span style=\"color: #008080; text-decoration-color: #008080; font-weight: bold\">8.26</span>\n",
       "</pre>\n"
      ],
      "text/plain": [
       "\u001b[1;36m8.26\u001b[0m\n"
      ]
     },
     "metadata": {},
     "output_type": "display_data"
    },
    {
     "data": {
      "text/html": [
       "<pre style=\"white-space:pre;overflow-x:auto;line-height:normal;font-family:Menlo,'DejaVu Sans Mono',consolas,'Courier New',monospace\">K/H\n",
       "</pre>\n"
      ],
      "text/plain": [
       "K/H\n"
      ]
     },
     "metadata": {},
     "output_type": "display_data"
    },
    {
     "data": {
      "text/html": [
       "<pre style=\"white-space:pre;overflow-x:auto;line-height:normal;font-family:Menlo,'DejaVu Sans Mono',consolas,'Courier New',monospace\"><span style=\"color: #008080; text-decoration-color: #008080; font-weight: bold\">7.62</span>\n",
       "</pre>\n"
      ],
      "text/plain": [
       "\u001b[1;36m7.62\u001b[0m\n"
      ]
     },
     "metadata": {},
     "output_type": "display_data"
    },
    {
     "data": {
      "text/html": [
       "<pre style=\"white-space:pre;overflow-x:auto;line-height:normal;font-family:Menlo,'DejaVu Sans Mono',consolas,'Courier New',monospace\">K/H\n",
       "</pre>\n"
      ],
      "text/plain": [
       "K/H\n"
      ]
     },
     "metadata": {},
     "output_type": "display_data"
    },
    {
     "data": {
      "text/html": [
       "<pre style=\"white-space:pre;overflow-x:auto;line-height:normal;font-family:Menlo,'DejaVu Sans Mono',consolas,'Courier New',monospace\"><span style=\"color: #008080; text-decoration-color: #008080; font-weight: bold\">8.19</span>\n",
       "</pre>\n"
      ],
      "text/plain": [
       "\u001b[1;36m8.19\u001b[0m\n"
      ]
     },
     "metadata": {},
     "output_type": "display_data"
    },
    {
     "data": {
      "text/html": [
       "<pre style=\"white-space:pre;overflow-x:auto;line-height:normal;font-family:Menlo,'DejaVu Sans Mono',consolas,'Courier New',monospace\">K/H\n",
       "</pre>\n"
      ],
      "text/plain": [
       "K/H\n"
      ]
     },
     "metadata": {},
     "output_type": "display_data"
    },
    {
     "data": {
      "text/html": [
       "<pre style=\"white-space:pre;overflow-x:auto;line-height:normal;font-family:Menlo,'DejaVu Sans Mono',consolas,'Courier New',monospace\"><span style=\"color: #008080; text-decoration-color: #008080; font-weight: bold\">8.16</span>\n",
       "</pre>\n"
      ],
      "text/plain": [
       "\u001b[1;36m8.16\u001b[0m\n"
      ]
     },
     "metadata": {},
     "output_type": "display_data"
    },
    {
     "data": {
      "text/html": [
       "<pre style=\"white-space:pre;overflow-x:auto;line-height:normal;font-family:Menlo,'DejaVu Sans Mono',consolas,'Courier New',monospace\">K/H\n",
       "</pre>\n"
      ],
      "text/plain": [
       "K/H\n"
      ]
     },
     "metadata": {},
     "output_type": "display_data"
    },
    {
     "data": {
      "text/html": [
       "<pre style=\"white-space:pre;overflow-x:auto;line-height:normal;font-family:Menlo,'DejaVu Sans Mono',consolas,'Courier New',monospace\"><span style=\"color: #008080; text-decoration-color: #008080; font-weight: bold\">8.06</span>\n",
       "</pre>\n"
      ],
      "text/plain": [
       "\u001b[1;36m8.06\u001b[0m\n"
      ]
     },
     "metadata": {},
     "output_type": "display_data"
    },
    {
     "data": {
      "text/html": [
       "<pre style=\"white-space:pre;overflow-x:auto;line-height:normal;font-family:Menlo,'DejaVu Sans Mono',consolas,'Courier New',monospace\">K/H\n",
       "</pre>\n"
      ],
      "text/plain": [
       "K/H\n"
      ]
     },
     "metadata": {},
     "output_type": "display_data"
    },
    {
     "data": {
      "text/html": [
       "<pre style=\"white-space:pre;overflow-x:auto;line-height:normal;font-family:Menlo,'DejaVu Sans Mono',consolas,'Courier New',monospace\"><span style=\"color: #008080; text-decoration-color: #008080; font-weight: bold\">7.95</span>\n",
       "</pre>\n"
      ],
      "text/plain": [
       "\u001b[1;36m7.95\u001b[0m\n"
      ]
     },
     "metadata": {},
     "output_type": "display_data"
    },
    {
     "data": {
      "text/html": [
       "<pre style=\"white-space:pre;overflow-x:auto;line-height:normal;font-family:Menlo,'DejaVu Sans Mono',consolas,'Courier New',monospace\">K/H\n",
       "</pre>\n"
      ],
      "text/plain": [
       "K/H\n"
      ]
     },
     "metadata": {},
     "output_type": "display_data"
    },
    {
     "data": {
      "text/html": [
       "<pre style=\"white-space:pre;overflow-x:auto;line-height:normal;font-family:Menlo,'DejaVu Sans Mono',consolas,'Courier New',monospace\"><span style=\"color: #008080; text-decoration-color: #008080; font-weight: bold\">7.84</span>\n",
       "</pre>\n"
      ],
      "text/plain": [
       "\u001b[1;36m7.84\u001b[0m\n"
      ]
     },
     "metadata": {},
     "output_type": "display_data"
    },
    {
     "data": {
      "text/html": [
       "<pre style=\"white-space:pre;overflow-x:auto;line-height:normal;font-family:Menlo,'DejaVu Sans Mono',consolas,'Courier New',monospace\">K/H\n",
       "</pre>\n"
      ],
      "text/plain": [
       "K/H\n"
      ]
     },
     "metadata": {},
     "output_type": "display_data"
    },
    {
     "data": {
      "text/html": [
       "<pre style=\"white-space:pre;overflow-x:auto;line-height:normal;font-family:Menlo,'DejaVu Sans Mono',consolas,'Courier New',monospace\"><span style=\"color: #008080; text-decoration-color: #008080; font-weight: bold\">8.27</span>\n",
       "</pre>\n"
      ],
      "text/plain": [
       "\u001b[1;36m8.27\u001b[0m\n"
      ]
     },
     "metadata": {},
     "output_type": "display_data"
    },
    {
     "data": {
      "text/html": [
       "<pre style=\"white-space:pre;overflow-x:auto;line-height:normal;font-family:Menlo,'DejaVu Sans Mono',consolas,'Courier New',monospace\">K/H\n",
       "</pre>\n"
      ],
      "text/plain": [
       "K/H\n"
      ]
     },
     "metadata": {},
     "output_type": "display_data"
    },
    {
     "data": {
      "text/html": [
       "<pre style=\"white-space:pre;overflow-x:auto;line-height:normal;font-family:Menlo,'DejaVu Sans Mono',consolas,'Courier New',monospace\"><span style=\"color: #008080; text-decoration-color: #008080; font-weight: bold\">7.73</span>\n",
       "</pre>\n"
      ],
      "text/plain": [
       "\u001b[1;36m7.73\u001b[0m\n"
      ]
     },
     "metadata": {},
     "output_type": "display_data"
    },
    {
     "data": {
      "text/html": [
       "<pre style=\"white-space:pre;overflow-x:auto;line-height:normal;font-family:Menlo,'DejaVu Sans Mono',consolas,'Courier New',monospace\">K/H\n",
       "</pre>\n"
      ],
      "text/plain": [
       "K/H\n"
      ]
     },
     "metadata": {},
     "output_type": "display_data"
    },
    {
     "data": {
      "text/html": [
       "<pre style=\"white-space:pre;overflow-x:auto;line-height:normal;font-family:Menlo,'DejaVu Sans Mono',consolas,'Courier New',monospace\"><span style=\"color: #008080; text-decoration-color: #008080; font-weight: bold\">8.13</span>\n",
       "</pre>\n"
      ],
      "text/plain": [
       "\u001b[1;36m8.13\u001b[0m\n"
      ]
     },
     "metadata": {},
     "output_type": "display_data"
    },
    {
     "data": {
      "text/html": [
       "<pre style=\"white-space:pre;overflow-x:auto;line-height:normal;font-family:Menlo,'DejaVu Sans Mono',consolas,'Courier New',monospace\">K/K\n",
       "</pre>\n"
      ],
      "text/plain": [
       "K/K\n"
      ]
     },
     "metadata": {},
     "output_type": "display_data"
    },
    {
     "data": {
      "text/html": [
       "<pre style=\"white-space:pre;overflow-x:auto;line-height:normal;font-family:Menlo,'DejaVu Sans Mono',consolas,'Courier New',monospace\"><span style=\"color: #008080; text-decoration-color: #008080; font-weight: bold\">8.13</span>\n",
       "</pre>\n"
      ],
      "text/plain": [
       "\u001b[1;36m8.13\u001b[0m\n"
      ]
     },
     "metadata": {},
     "output_type": "display_data"
    },
    {
     "data": {
      "text/html": [
       "<pre style=\"white-space:pre;overflow-x:auto;line-height:normal;font-family:Menlo,'DejaVu Sans Mono',consolas,'Courier New',monospace\">K/K\n",
       "</pre>\n"
      ],
      "text/plain": [
       "K/K\n"
      ]
     },
     "metadata": {},
     "output_type": "display_data"
    },
    {
     "data": {
      "text/html": [
       "<pre style=\"white-space:pre;overflow-x:auto;line-height:normal;font-family:Menlo,'DejaVu Sans Mono',consolas,'Courier New',monospace\"><span style=\"color: #008080; text-decoration-color: #008080; font-weight: bold\">7.81</span>\n",
       "</pre>\n"
      ],
      "text/plain": [
       "\u001b[1;36m7.81\u001b[0m\n"
      ]
     },
     "metadata": {},
     "output_type": "display_data"
    },
    {
     "data": {
      "text/html": [
       "<pre style=\"white-space:pre;overflow-x:auto;line-height:normal;font-family:Menlo,'DejaVu Sans Mono',consolas,'Courier New',monospace\">K/K\n",
       "</pre>\n"
      ],
      "text/plain": [
       "K/K\n"
      ]
     },
     "metadata": {},
     "output_type": "display_data"
    },
    {
     "data": {
      "text/html": [
       "<pre style=\"white-space:pre;overflow-x:auto;line-height:normal;font-family:Menlo,'DejaVu Sans Mono',consolas,'Courier New',monospace\"><span style=\"color: #008080; text-decoration-color: #008080; font-weight: bold\">7.95</span>\n",
       "</pre>\n"
      ],
      "text/plain": [
       "\u001b[1;36m7.95\u001b[0m\n"
      ]
     },
     "metadata": {},
     "output_type": "display_data"
    },
    {
     "data": {
      "text/html": [
       "<pre style=\"white-space:pre;overflow-x:auto;line-height:normal;font-family:Menlo,'DejaVu Sans Mono',consolas,'Courier New',monospace\">K/K\n",
       "</pre>\n"
      ],
      "text/plain": [
       "K/K\n"
      ]
     },
     "metadata": {},
     "output_type": "display_data"
    },
    {
     "data": {
      "text/html": [
       "<pre style=\"white-space:pre;overflow-x:auto;line-height:normal;font-family:Menlo,'DejaVu Sans Mono',consolas,'Courier New',monospace\"><span style=\"color: #008080; text-decoration-color: #008080; font-weight: bold\">8.04</span>\n",
       "</pre>\n"
      ],
      "text/plain": [
       "\u001b[1;36m8.04\u001b[0m\n"
      ]
     },
     "metadata": {},
     "output_type": "display_data"
    },
    {
     "data": {
      "text/html": [
       "<pre style=\"white-space:pre;overflow-x:auto;line-height:normal;font-family:Menlo,'DejaVu Sans Mono',consolas,'Courier New',monospace\">K/K\n",
       "</pre>\n"
      ],
      "text/plain": [
       "K/K\n"
      ]
     },
     "metadata": {},
     "output_type": "display_data"
    },
    {
     "data": {
      "text/html": [
       "<pre style=\"white-space:pre;overflow-x:auto;line-height:normal;font-family:Menlo,'DejaVu Sans Mono',consolas,'Courier New',monospace\"><span style=\"color: #008080; text-decoration-color: #008080; font-weight: bold\">8.15</span>\n",
       "</pre>\n"
      ],
      "text/plain": [
       "\u001b[1;36m8.15\u001b[0m\n"
      ]
     },
     "metadata": {},
     "output_type": "display_data"
    },
    {
     "data": {
      "text/html": [
       "<pre style=\"white-space:pre;overflow-x:auto;line-height:normal;font-family:Menlo,'DejaVu Sans Mono',consolas,'Courier New',monospace\">K/K\n",
       "</pre>\n"
      ],
      "text/plain": [
       "K/K\n"
      ]
     },
     "metadata": {},
     "output_type": "display_data"
    },
    {
     "data": {
      "text/html": [
       "<pre style=\"white-space:pre;overflow-x:auto;line-height:normal;font-family:Menlo,'DejaVu Sans Mono',consolas,'Courier New',monospace\"><span style=\"color: #008080; text-decoration-color: #008080; font-weight: bold\">8.16</span>\n",
       "</pre>\n"
      ],
      "text/plain": [
       "\u001b[1;36m8.16\u001b[0m\n"
      ]
     },
     "metadata": {},
     "output_type": "display_data"
    },
    {
     "data": {
      "text/html": [
       "<pre style=\"white-space:pre;overflow-x:auto;line-height:normal;font-family:Menlo,'DejaVu Sans Mono',consolas,'Courier New',monospace\">K/K\n",
       "</pre>\n"
      ],
      "text/plain": [
       "K/K\n"
      ]
     },
     "metadata": {},
     "output_type": "display_data"
    },
    {
     "data": {
      "text/html": [
       "<pre style=\"white-space:pre;overflow-x:auto;line-height:normal;font-family:Menlo,'DejaVu Sans Mono',consolas,'Courier New',monospace\"><span style=\"color: #008080; text-decoration-color: #008080; font-weight: bold\">8.13</span>\n",
       "</pre>\n"
      ],
      "text/plain": [
       "\u001b[1;36m8.13\u001b[0m\n"
      ]
     },
     "metadata": {},
     "output_type": "display_data"
    },
    {
     "data": {
      "text/html": [
       "<pre style=\"white-space:pre;overflow-x:auto;line-height:normal;font-family:Menlo,'DejaVu Sans Mono',consolas,'Courier New',monospace\">K/K\n",
       "</pre>\n"
      ],
      "text/plain": [
       "K/K\n"
      ]
     },
     "metadata": {},
     "output_type": "display_data"
    },
    {
     "data": {
      "text/html": [
       "<pre style=\"white-space:pre;overflow-x:auto;line-height:normal;font-family:Menlo,'DejaVu Sans Mono',consolas,'Courier New',monospace\"><span style=\"color: #008080; text-decoration-color: #008080; font-weight: bold\">8.09</span>\n",
       "</pre>\n"
      ],
      "text/plain": [
       "\u001b[1;36m8.09\u001b[0m\n"
      ]
     },
     "metadata": {},
     "output_type": "display_data"
    },
    {
     "data": {
      "text/html": [
       "<pre style=\"white-space:pre;overflow-x:auto;line-height:normal;font-family:Menlo,'DejaVu Sans Mono',consolas,'Courier New',monospace\">K/K\n",
       "</pre>\n"
      ],
      "text/plain": [
       "K/K\n"
      ]
     },
     "metadata": {},
     "output_type": "display_data"
    },
    {
     "data": {
      "text/html": [
       "<pre style=\"white-space:pre;overflow-x:auto;line-height:normal;font-family:Menlo,'DejaVu Sans Mono',consolas,'Courier New',monospace\"><span style=\"color: #008080; text-decoration-color: #008080; font-weight: bold\">8.08</span>\n",
       "</pre>\n"
      ],
      "text/plain": [
       "\u001b[1;36m8.08\u001b[0m\n"
      ]
     },
     "metadata": {},
     "output_type": "display_data"
    },
    {
     "data": {
      "text/html": [
       "<pre style=\"white-space:pre;overflow-x:auto;line-height:normal;font-family:Menlo,'DejaVu Sans Mono',consolas,'Courier New',monospace\">K/K\n",
       "</pre>\n"
      ],
      "text/plain": [
       "K/K\n"
      ]
     },
     "metadata": {},
     "output_type": "display_data"
    },
    {
     "data": {
      "text/html": [
       "<pre style=\"white-space:pre;overflow-x:auto;line-height:normal;font-family:Menlo,'DejaVu Sans Mono',consolas,'Courier New',monospace\"><span style=\"color: #008080; text-decoration-color: #008080; font-weight: bold\">8.0</span>\n",
       "</pre>\n"
      ],
      "text/plain": [
       "\u001b[1;36m8.0\u001b[0m\n"
      ]
     },
     "metadata": {},
     "output_type": "display_data"
    },
    {
     "data": {
      "text/html": [
       "<pre style=\"white-space:pre;overflow-x:auto;line-height:normal;font-family:Menlo,'DejaVu Sans Mono',consolas,'Courier New',monospace\">K/K\n",
       "</pre>\n"
      ],
      "text/plain": [
       "K/K\n"
      ]
     },
     "metadata": {},
     "output_type": "display_data"
    },
    {
     "data": {
      "text/html": [
       "<pre style=\"white-space:pre;overflow-x:auto;line-height:normal;font-family:Menlo,'DejaVu Sans Mono',consolas,'Courier New',monospace\"><span style=\"color: #008080; text-decoration-color: #008080; font-weight: bold\">7.92</span>\n",
       "</pre>\n"
      ],
      "text/plain": [
       "\u001b[1;36m7.92\u001b[0m\n"
      ]
     },
     "metadata": {},
     "output_type": "display_data"
    },
    {
     "data": {
      "text/html": [
       "<pre style=\"white-space:pre;overflow-x:auto;line-height:normal;font-family:Menlo,'DejaVu Sans Mono',consolas,'Courier New',monospace\">K/K\n",
       "</pre>\n"
      ],
      "text/plain": [
       "K/K\n"
      ]
     },
     "metadata": {},
     "output_type": "display_data"
    },
    {
     "data": {
      "text/html": [
       "<pre style=\"white-space:pre;overflow-x:auto;line-height:normal;font-family:Menlo,'DejaVu Sans Mono',consolas,'Courier New',monospace\"><span style=\"color: #008080; text-decoration-color: #008080; font-weight: bold\">8.37</span>\n",
       "</pre>\n"
      ],
      "text/plain": [
       "\u001b[1;36m8.37\u001b[0m\n"
      ]
     },
     "metadata": {},
     "output_type": "display_data"
    },
    {
     "data": {
      "text/html": [
       "<pre style=\"white-space:pre;overflow-x:auto;line-height:normal;font-family:Menlo,'DejaVu Sans Mono',consolas,'Courier New',monospace\">K/K\n",
       "</pre>\n"
      ],
      "text/plain": [
       "K/K\n"
      ]
     },
     "metadata": {},
     "output_type": "display_data"
    },
    {
     "data": {
      "text/html": [
       "<pre style=\"white-space:pre;overflow-x:auto;line-height:normal;font-family:Menlo,'DejaVu Sans Mono',consolas,'Courier New',monospace\"><span style=\"color: #008080; text-decoration-color: #008080; font-weight: bold\">7.82</span>\n",
       "</pre>\n"
      ],
      "text/plain": [
       "\u001b[1;36m7.82\u001b[0m\n"
      ]
     },
     "metadata": {},
     "output_type": "display_data"
    },
    {
     "data": {
      "text/html": [
       "<pre style=\"white-space:pre;overflow-x:auto;line-height:normal;font-family:Menlo,'DejaVu Sans Mono',consolas,'Courier New',monospace\">K/K\n",
       "</pre>\n"
      ],
      "text/plain": [
       "K/K\n"
      ]
     },
     "metadata": {},
     "output_type": "display_data"
    },
    {
     "data": {
      "text/html": [
       "<pre style=\"white-space:pre;overflow-x:auto;line-height:normal;font-family:Menlo,'DejaVu Sans Mono',consolas,'Courier New',monospace\"><span style=\"color: #008080; text-decoration-color: #008080; font-weight: bold\">8.25</span>\n",
       "</pre>\n"
      ],
      "text/plain": [
       "\u001b[1;36m8.25\u001b[0m\n"
      ]
     },
     "metadata": {},
     "output_type": "display_data"
    },
    {
     "data": {
      "text/html": [
       "<pre style=\"white-space:pre;overflow-x:auto;line-height:normal;font-family:Menlo,'DejaVu Sans Mono',consolas,'Courier New',monospace\">L/K\n",
       "</pre>\n"
      ],
      "text/plain": [
       "L/K\n"
      ]
     },
     "metadata": {},
     "output_type": "display_data"
    },
    {
     "data": {
      "text/html": [
       "<pre style=\"white-space:pre;overflow-x:auto;line-height:normal;font-family:Menlo,'DejaVu Sans Mono',consolas,'Courier New',monospace\"><span style=\"color: #008080; text-decoration-color: #008080; font-weight: bold\">7.97</span>\n",
       "</pre>\n"
      ],
      "text/plain": [
       "\u001b[1;36m7.97\u001b[0m\n"
      ]
     },
     "metadata": {},
     "output_type": "display_data"
    },
    {
     "data": {
      "text/html": [
       "<pre style=\"white-space:pre;overflow-x:auto;line-height:normal;font-family:Menlo,'DejaVu Sans Mono',consolas,'Courier New',monospace\">L/K\n",
       "</pre>\n"
      ],
      "text/plain": [
       "L/K\n"
      ]
     },
     "metadata": {},
     "output_type": "display_data"
    },
    {
     "data": {
      "text/html": [
       "<pre style=\"white-space:pre;overflow-x:auto;line-height:normal;font-family:Menlo,'DejaVu Sans Mono',consolas,'Courier New',monospace\"><span style=\"color: #008080; text-decoration-color: #008080; font-weight: bold\">8.21</span>\n",
       "</pre>\n"
      ],
      "text/plain": [
       "\u001b[1;36m8.21\u001b[0m\n"
      ]
     },
     "metadata": {},
     "output_type": "display_data"
    },
    {
     "data": {
      "text/html": [
       "<pre style=\"white-space:pre;overflow-x:auto;line-height:normal;font-family:Menlo,'DejaVu Sans Mono',consolas,'Courier New',monospace\">L/K\n",
       "</pre>\n"
      ],
      "text/plain": [
       "L/K\n"
      ]
     },
     "metadata": {},
     "output_type": "display_data"
    },
    {
     "data": {
      "text/html": [
       "<pre style=\"white-space:pre;overflow-x:auto;line-height:normal;font-family:Menlo,'DejaVu Sans Mono',consolas,'Courier New',monospace\"><span style=\"color: #008080; text-decoration-color: #008080; font-weight: bold\">8.36</span>\n",
       "</pre>\n"
      ],
      "text/plain": [
       "\u001b[1;36m8.36\u001b[0m\n"
      ]
     },
     "metadata": {},
     "output_type": "display_data"
    },
    {
     "data": {
      "text/html": [
       "<pre style=\"white-space:pre;overflow-x:auto;line-height:normal;font-family:Menlo,'DejaVu Sans Mono',consolas,'Courier New',monospace\">L/K\n",
       "</pre>\n"
      ],
      "text/plain": [
       "L/K\n"
      ]
     },
     "metadata": {},
     "output_type": "display_data"
    },
    {
     "data": {
      "text/html": [
       "<pre style=\"white-space:pre;overflow-x:auto;line-height:normal;font-family:Menlo,'DejaVu Sans Mono',consolas,'Courier New',monospace\"><span style=\"color: #008080; text-decoration-color: #008080; font-weight: bold\">7.62</span>\n",
       "</pre>\n"
      ],
      "text/plain": [
       "\u001b[1;36m7.62\u001b[0m\n"
      ]
     },
     "metadata": {},
     "output_type": "display_data"
    },
    {
     "data": {
      "text/html": [
       "<pre style=\"white-space:pre;overflow-x:auto;line-height:normal;font-family:Menlo,'DejaVu Sans Mono',consolas,'Courier New',monospace\">L/K\n",
       "</pre>\n"
      ],
      "text/plain": [
       "L/K\n"
      ]
     },
     "metadata": {},
     "output_type": "display_data"
    },
    {
     "data": {
      "text/html": [
       "<pre style=\"white-space:pre;overflow-x:auto;line-height:normal;font-family:Menlo,'DejaVu Sans Mono',consolas,'Courier New',monospace\"><span style=\"color: #008080; text-decoration-color: #008080; font-weight: bold\">7.73</span>\n",
       "</pre>\n"
      ],
      "text/plain": [
       "\u001b[1;36m7.73\u001b[0m\n"
      ]
     },
     "metadata": {},
     "output_type": "display_data"
    },
    {
     "data": {
      "text/html": [
       "<pre style=\"white-space:pre;overflow-x:auto;line-height:normal;font-family:Menlo,'DejaVu Sans Mono',consolas,'Courier New',monospace\">L/K\n",
       "</pre>\n"
      ],
      "text/plain": [
       "L/K\n"
      ]
     },
     "metadata": {},
     "output_type": "display_data"
    },
    {
     "data": {
      "text/html": [
       "<pre style=\"white-space:pre;overflow-x:auto;line-height:normal;font-family:Menlo,'DejaVu Sans Mono',consolas,'Courier New',monospace\"><span style=\"color: #008080; text-decoration-color: #008080; font-weight: bold\">7.87</span>\n",
       "</pre>\n"
      ],
      "text/plain": [
       "\u001b[1;36m7.87\u001b[0m\n"
      ]
     },
     "metadata": {},
     "output_type": "display_data"
    },
    {
     "data": {
      "text/html": [
       "<pre style=\"white-space:pre;overflow-x:auto;line-height:normal;font-family:Menlo,'DejaVu Sans Mono',consolas,'Courier New',monospace\">L/K\n",
       "</pre>\n"
      ],
      "text/plain": [
       "L/K\n"
      ]
     },
     "metadata": {},
     "output_type": "display_data"
    },
    {
     "data": {
      "text/html": [
       "<pre style=\"white-space:pre;overflow-x:auto;line-height:normal;font-family:Menlo,'DejaVu Sans Mono',consolas,'Courier New',monospace\"><span style=\"color: #008080; text-decoration-color: #008080; font-weight: bold\">7.9</span>\n",
       "</pre>\n"
      ],
      "text/plain": [
       "\u001b[1;36m7.9\u001b[0m\n"
      ]
     },
     "metadata": {},
     "output_type": "display_data"
    },
    {
     "data": {
      "text/html": [
       "<pre style=\"white-space:pre;overflow-x:auto;line-height:normal;font-family:Menlo,'DejaVu Sans Mono',consolas,'Courier New',monospace\">L/K\n",
       "</pre>\n"
      ],
      "text/plain": [
       "L/K\n"
      ]
     },
     "metadata": {},
     "output_type": "display_data"
    },
    {
     "data": {
      "text/html": [
       "<pre style=\"white-space:pre;overflow-x:auto;line-height:normal;font-family:Menlo,'DejaVu Sans Mono',consolas,'Courier New',monospace\"><span style=\"color: #008080; text-decoration-color: #008080; font-weight: bold\">7.9</span>\n",
       "</pre>\n"
      ],
      "text/plain": [
       "\u001b[1;36m7.9\u001b[0m\n"
      ]
     },
     "metadata": {},
     "output_type": "display_data"
    },
    {
     "data": {
      "text/html": [
       "<pre style=\"white-space:pre;overflow-x:auto;line-height:normal;font-family:Menlo,'DejaVu Sans Mono',consolas,'Courier New',monospace\">L/K\n",
       "</pre>\n"
      ],
      "text/plain": [
       "L/K\n"
      ]
     },
     "metadata": {},
     "output_type": "display_data"
    },
    {
     "data": {
      "text/html": [
       "<pre style=\"white-space:pre;overflow-x:auto;line-height:normal;font-family:Menlo,'DejaVu Sans Mono',consolas,'Courier New',monospace\"><span style=\"color: #008080; text-decoration-color: #008080; font-weight: bold\">7.88</span>\n",
       "</pre>\n"
      ],
      "text/plain": [
       "\u001b[1;36m7.88\u001b[0m\n"
      ]
     },
     "metadata": {},
     "output_type": "display_data"
    },
    {
     "data": {
      "text/html": [
       "<pre style=\"white-space:pre;overflow-x:auto;line-height:normal;font-family:Menlo,'DejaVu Sans Mono',consolas,'Courier New',monospace\">L/K\n",
       "</pre>\n"
      ],
      "text/plain": [
       "L/K\n"
      ]
     },
     "metadata": {},
     "output_type": "display_data"
    },
    {
     "data": {
      "text/html": [
       "<pre style=\"white-space:pre;overflow-x:auto;line-height:normal;font-family:Menlo,'DejaVu Sans Mono',consolas,'Courier New',monospace\"><span style=\"color: #008080; text-decoration-color: #008080; font-weight: bold\">7.89</span>\n",
       "</pre>\n"
      ],
      "text/plain": [
       "\u001b[1;36m7.89\u001b[0m\n"
      ]
     },
     "metadata": {},
     "output_type": "display_data"
    },
    {
     "data": {
      "text/html": [
       "<pre style=\"white-space:pre;overflow-x:auto;line-height:normal;font-family:Menlo,'DejaVu Sans Mono',consolas,'Courier New',monospace\">L/K\n",
       "</pre>\n"
      ],
      "text/plain": [
       "L/K\n"
      ]
     },
     "metadata": {},
     "output_type": "display_data"
    },
    {
     "data": {
      "text/html": [
       "<pre style=\"white-space:pre;overflow-x:auto;line-height:normal;font-family:Menlo,'DejaVu Sans Mono',consolas,'Courier New',monospace\"><span style=\"color: #008080; text-decoration-color: #008080; font-weight: bold\">7.84</span>\n",
       "</pre>\n"
      ],
      "text/plain": [
       "\u001b[1;36m7.84\u001b[0m\n"
      ]
     },
     "metadata": {},
     "output_type": "display_data"
    },
    {
     "data": {
      "text/html": [
       "<pre style=\"white-space:pre;overflow-x:auto;line-height:normal;font-family:Menlo,'DejaVu Sans Mono',consolas,'Courier New',monospace\">L/K\n",
       "</pre>\n"
      ],
      "text/plain": [
       "L/K\n"
      ]
     },
     "metadata": {},
     "output_type": "display_data"
    },
    {
     "data": {
      "text/html": [
       "<pre style=\"white-space:pre;overflow-x:auto;line-height:normal;font-family:Menlo,'DejaVu Sans Mono',consolas,'Courier New',monospace\"><span style=\"color: #008080; text-decoration-color: #008080; font-weight: bold\">8.32</span>\n",
       "</pre>\n"
      ],
      "text/plain": [
       "\u001b[1;36m8.32\u001b[0m\n"
      ]
     },
     "metadata": {},
     "output_type": "display_data"
    },
    {
     "data": {
      "text/html": [
       "<pre style=\"white-space:pre;overflow-x:auto;line-height:normal;font-family:Menlo,'DejaVu Sans Mono',consolas,'Courier New',monospace\">L/K\n",
       "</pre>\n"
      ],
      "text/plain": [
       "L/K\n"
      ]
     },
     "metadata": {},
     "output_type": "display_data"
    },
    {
     "data": {
      "text/html": [
       "<pre style=\"white-space:pre;overflow-x:auto;line-height:normal;font-family:Menlo,'DejaVu Sans Mono',consolas,'Courier New',monospace\"><span style=\"color: #008080; text-decoration-color: #008080; font-weight: bold\">7.77</span>\n",
       "</pre>\n"
      ],
      "text/plain": [
       "\u001b[1;36m7.77\u001b[0m\n"
      ]
     },
     "metadata": {},
     "output_type": "display_data"
    },
    {
     "data": {
      "text/html": [
       "<pre style=\"white-space:pre;overflow-x:auto;line-height:normal;font-family:Menlo,'DejaVu Sans Mono',consolas,'Courier New',monospace\">L/K\n",
       "</pre>\n"
      ],
      "text/plain": [
       "L/K\n"
      ]
     },
     "metadata": {},
     "output_type": "display_data"
    },
    {
     "data": {
      "text/html": [
       "<pre style=\"white-space:pre;overflow-x:auto;line-height:normal;font-family:Menlo,'DejaVu Sans Mono',consolas,'Courier New',monospace\"><span style=\"color: #008080; text-decoration-color: #008080; font-weight: bold\">8.22</span>\n",
       "</pre>\n"
      ],
      "text/plain": [
       "\u001b[1;36m8.22\u001b[0m\n"
      ]
     },
     "metadata": {},
     "output_type": "display_data"
    },
    {
     "data": {
      "text/html": [
       "<pre style=\"white-space:pre;overflow-x:auto;line-height:normal;font-family:Menlo,'DejaVu Sans Mono',consolas,'Courier New',monospace\">L/L\n",
       "</pre>\n"
      ],
      "text/plain": [
       "L/L\n"
      ]
     },
     "metadata": {},
     "output_type": "display_data"
    },
    {
     "data": {
      "text/html": [
       "<pre style=\"white-space:pre;overflow-x:auto;line-height:normal;font-family:Menlo,'DejaVu Sans Mono',consolas,'Courier New',monospace\"><span style=\"color: #008080; text-decoration-color: #008080; font-weight: bold\">8.17</span>\n",
       "</pre>\n"
      ],
      "text/plain": [
       "\u001b[1;36m8.17\u001b[0m\n"
      ]
     },
     "metadata": {},
     "output_type": "display_data"
    },
    {
     "data": {
      "text/html": [
       "<pre style=\"white-space:pre;overflow-x:auto;line-height:normal;font-family:Menlo,'DejaVu Sans Mono',consolas,'Courier New',monospace\">L/L\n",
       "</pre>\n"
      ],
      "text/plain": [
       "L/L\n"
      ]
     },
     "metadata": {},
     "output_type": "display_data"
    },
    {
     "data": {
      "text/html": [
       "<pre style=\"white-space:pre;overflow-x:auto;line-height:normal;font-family:Menlo,'DejaVu Sans Mono',consolas,'Courier New',monospace\"><span style=\"color: #008080; text-decoration-color: #008080; font-weight: bold\">8.36</span>\n",
       "</pre>\n"
      ],
      "text/plain": [
       "\u001b[1;36m8.36\u001b[0m\n"
      ]
     },
     "metadata": {},
     "output_type": "display_data"
    },
    {
     "data": {
      "text/html": [
       "<pre style=\"white-space:pre;overflow-x:auto;line-height:normal;font-family:Menlo,'DejaVu Sans Mono',consolas,'Courier New',monospace\">L/L\n",
       "</pre>\n"
      ],
      "text/plain": [
       "L/L\n"
      ]
     },
     "metadata": {},
     "output_type": "display_data"
    },
    {
     "data": {
      "text/html": [
       "<pre style=\"white-space:pre;overflow-x:auto;line-height:normal;font-family:Menlo,'DejaVu Sans Mono',consolas,'Courier New',monospace\"><span style=\"color: #008080; text-decoration-color: #008080; font-weight: bold\">7.65</span>\n",
       "</pre>\n"
      ],
      "text/plain": [
       "\u001b[1;36m7.65\u001b[0m\n"
      ]
     },
     "metadata": {},
     "output_type": "display_data"
    },
    {
     "data": {
      "text/html": [
       "<pre style=\"white-space:pre;overflow-x:auto;line-height:normal;font-family:Menlo,'DejaVu Sans Mono',consolas,'Courier New',monospace\">L/L\n",
       "</pre>\n"
      ],
      "text/plain": [
       "L/L\n"
      ]
     },
     "metadata": {},
     "output_type": "display_data"
    },
    {
     "data": {
      "text/html": [
       "<pre style=\"white-space:pre;overflow-x:auto;line-height:normal;font-family:Menlo,'DejaVu Sans Mono',consolas,'Courier New',monospace\"><span style=\"color: #008080; text-decoration-color: #008080; font-weight: bold\">7.79</span>\n",
       "</pre>\n"
      ],
      "text/plain": [
       "\u001b[1;36m7.79\u001b[0m\n"
      ]
     },
     "metadata": {},
     "output_type": "display_data"
    },
    {
     "data": {
      "text/html": [
       "<pre style=\"white-space:pre;overflow-x:auto;line-height:normal;font-family:Menlo,'DejaVu Sans Mono',consolas,'Courier New',monospace\">L/L\n",
       "</pre>\n"
      ],
      "text/plain": [
       "L/L\n"
      ]
     },
     "metadata": {},
     "output_type": "display_data"
    },
    {
     "data": {
      "text/html": [
       "<pre style=\"white-space:pre;overflow-x:auto;line-height:normal;font-family:Menlo,'DejaVu Sans Mono',consolas,'Courier New',monospace\"><span style=\"color: #008080; text-decoration-color: #008080; font-weight: bold\">7.96</span>\n",
       "</pre>\n"
      ],
      "text/plain": [
       "\u001b[1;36m7.96\u001b[0m\n"
      ]
     },
     "metadata": {},
     "output_type": "display_data"
    },
    {
     "data": {
      "text/html": [
       "<pre style=\"white-space:pre;overflow-x:auto;line-height:normal;font-family:Menlo,'DejaVu Sans Mono',consolas,'Courier New',monospace\">L/L\n",
       "</pre>\n"
      ],
      "text/plain": [
       "L/L\n"
      ]
     },
     "metadata": {},
     "output_type": "display_data"
    },
    {
     "data": {
      "text/html": [
       "<pre style=\"white-space:pre;overflow-x:auto;line-height:normal;font-family:Menlo,'DejaVu Sans Mono',consolas,'Courier New',monospace\"><span style=\"color: #008080; text-decoration-color: #008080; font-weight: bold\">8.02</span>\n",
       "</pre>\n"
      ],
      "text/plain": [
       "\u001b[1;36m8.02\u001b[0m\n"
      ]
     },
     "metadata": {},
     "output_type": "display_data"
    },
    {
     "data": {
      "text/html": [
       "<pre style=\"white-space:pre;overflow-x:auto;line-height:normal;font-family:Menlo,'DejaVu Sans Mono',consolas,'Courier New',monospace\">L/L\n",
       "</pre>\n"
      ],
      "text/plain": [
       "L/L\n"
      ]
     },
     "metadata": {},
     "output_type": "display_data"
    },
    {
     "data": {
      "text/html": [
       "<pre style=\"white-space:pre;overflow-x:auto;line-height:normal;font-family:Menlo,'DejaVu Sans Mono',consolas,'Courier New',monospace\"><span style=\"color: #008080; text-decoration-color: #008080; font-weight: bold\">8.04</span>\n",
       "</pre>\n"
      ],
      "text/plain": [
       "\u001b[1;36m8.04\u001b[0m\n"
      ]
     },
     "metadata": {},
     "output_type": "display_data"
    },
    {
     "data": {
      "text/html": [
       "<pre style=\"white-space:pre;overflow-x:auto;line-height:normal;font-family:Menlo,'DejaVu Sans Mono',consolas,'Courier New',monospace\">L/L\n",
       "</pre>\n"
      ],
      "text/plain": [
       "L/L\n"
      ]
     },
     "metadata": {},
     "output_type": "display_data"
    },
    {
     "data": {
      "text/html": [
       "<pre style=\"white-space:pre;overflow-x:auto;line-height:normal;font-family:Menlo,'DejaVu Sans Mono',consolas,'Courier New',monospace\"><span style=\"color: #008080; text-decoration-color: #008080; font-weight: bold\">8.04</span>\n",
       "</pre>\n"
      ],
      "text/plain": [
       "\u001b[1;36m8.04\u001b[0m\n"
      ]
     },
     "metadata": {},
     "output_type": "display_data"
    },
    {
     "data": {
      "text/html": [
       "<pre style=\"white-space:pre;overflow-x:auto;line-height:normal;font-family:Menlo,'DejaVu Sans Mono',consolas,'Courier New',monospace\">L/L\n",
       "</pre>\n"
      ],
      "text/plain": [
       "L/L\n"
      ]
     },
     "metadata": {},
     "output_type": "display_data"
    },
    {
     "data": {
      "text/html": [
       "<pre style=\"white-space:pre;overflow-x:auto;line-height:normal;font-family:Menlo,'DejaVu Sans Mono',consolas,'Courier New',monospace\"><span style=\"color: #008080; text-decoration-color: #008080; font-weight: bold\">8.07</span>\n",
       "</pre>\n"
      ],
      "text/plain": [
       "\u001b[1;36m8.07\u001b[0m\n"
      ]
     },
     "metadata": {},
     "output_type": "display_data"
    },
    {
     "data": {
      "text/html": [
       "<pre style=\"white-space:pre;overflow-x:auto;line-height:normal;font-family:Menlo,'DejaVu Sans Mono',consolas,'Courier New',monospace\">L/L\n",
       "</pre>\n"
      ],
      "text/plain": [
       "L/L\n"
      ]
     },
     "metadata": {},
     "output_type": "display_data"
    },
    {
     "data": {
      "text/html": [
       "<pre style=\"white-space:pre;overflow-x:auto;line-height:normal;font-family:Menlo,'DejaVu Sans Mono',consolas,'Courier New',monospace\"><span style=\"color: #008080; text-decoration-color: #008080; font-weight: bold\">8.04</span>\n",
       "</pre>\n"
      ],
      "text/plain": [
       "\u001b[1;36m8.04\u001b[0m\n"
      ]
     },
     "metadata": {},
     "output_type": "display_data"
    }
   ],
   "source": [
    "# span_mask = (omega_df['span'] < 1.05*span) & (omega_df['span'] > 0.95*span) \n",
    "# depth_mask = (omega_df['depth'] < 1.05*depth) & (omega_df['depth'] > 0.95*depth) \n",
    "# masked_df = omega_df.loc[span_mask & depth_mask]\n",
    "cols = [col for col in omega_df.columns if '/' in col]\n",
    "df_sliced = omega_df[cols]\n",
    "\n",
    "\n",
    "for column in df_sliced.columns:\n",
    "    # print(column)\n",
    "    for index, cell_value in enumerate(df_sliced[column]):\n",
    "        try:\n",
    "            f = float(cell_value.split(\"\\n\")[0])\n",
    "            if (f > 0.95*f_load) & (f < 1.05*f_load):\n",
    "                print(column)\n",
    "                print(f)\n",
    "        except:\n",
    "            print(cell_value, index)\n",
    "            \n",
    "\n",
    "# for index, row in df_sliced.iterrows():\n",
    "#     print(row[0])\n",
    "    # for value in row:\n",
    "    #     f = float(value.split(\"\\n\")[0])\n",
    "    #     if (f > 0.95*f_load) & (f < 1.05*f_load):\n",
    "    #         print(row)\n",
    "    #         print(index)\n",
    "    #         print(f)\n",
    "    #         print(omega_df.columns[index])"
   ]
  },
  {
   "cell_type": "code",
   "execution_count": 32,
   "id": "dbd8fcd6-6325-4013-92e6-a43abd1613e1",
   "metadata": {},
   "outputs": [
    {
     "data": {
      "text/html": [
       "<div>\n",
       "<style scoped>\n",
       "    .dataframe tbody tr th:only-of-type {\n",
       "        vertical-align: middle;\n",
       "    }\n",
       "\n",
       "    .dataframe tbody tr th {\n",
       "        vertical-align: top;\n",
       "    }\n",
       "\n",
       "    .dataframe thead th {\n",
       "        text-align: right;\n",
       "    }\n",
       "</style>\n",
       "<table border=\"1\" class=\"dataframe\">\n",
       "  <thead>\n",
       "    <tr style=\"text-align: right;\">\n",
       "      <th></th>\n",
       "      <th>span</th>\n",
       "      <th>depth</th>\n",
       "      <th>value</th>\n",
       "      <th>4.5</th>\n",
       "      <th>6.3</th>\n",
       "      <th>8.1</th>\n",
       "      <th>9.9</th>\n",
       "      <th>11.7</th>\n",
       "      <th>13.5</th>\n",
       "      <th>15.3</th>\n",
       "      <th>17.1</th>\n",
       "      <th>18.9</th>\n",
       "      <th>20.7</th>\n",
       "      <th>22.5</th>\n",
       "      <th>24.3</th>\n",
       "    </tr>\n",
       "  </thead>\n",
       "  <tbody>\n",
       "    <tr>\n",
       "      <th>258</th>\n",
       "      <td>17000</td>\n",
       "      <td>914</td>\n",
       "      <td>Self Wt (kg/m)</td>\n",
       "      <td>15.9</td>\n",
       "      <td>18.4</td>\n",
       "      <td>21.0</td>\n",
       "      <td>25.7</td>\n",
       "      <td>26.3</td>\n",
       "      <td>29.0</td>\n",
       "      <td>30.8</td>\n",
       "      <td>34.0</td>\n",
       "      <td>37.9</td>\n",
       "      <td>40.0</td>\n",
       "      <td>45.3</td>\n",
       "      <td>46.0</td>\n",
       "    </tr>\n",
       "    <tr>\n",
       "      <th>259</th>\n",
       "      <td>17000</td>\n",
       "      <td>914</td>\n",
       "      <td>WL/360 (kN/m)</td>\n",
       "      <td>2.0</td>\n",
       "      <td>2.0</td>\n",
       "      <td>3.0</td>\n",
       "      <td>4.0</td>\n",
       "      <td>4.0</td>\n",
       "      <td>4.0</td>\n",
       "      <td>5.0</td>\n",
       "      <td>5.0</td>\n",
       "      <td>6.0</td>\n",
       "      <td>6.0</td>\n",
       "      <td>7.0</td>\n",
       "      <td>7.0</td>\n",
       "    </tr>\n",
       "    <tr>\n",
       "      <th>274</th>\n",
       "      <td>18000</td>\n",
       "      <td>914</td>\n",
       "      <td>Self Wt (kg/m)</td>\n",
       "      <td>16.1</td>\n",
       "      <td>20.7</td>\n",
       "      <td>20.9</td>\n",
       "      <td>26.5</td>\n",
       "      <td>28.6</td>\n",
       "      <td>31.0</td>\n",
       "      <td>34.4</td>\n",
       "      <td>38.1</td>\n",
       "      <td>41.7</td>\n",
       "      <td>46.2</td>\n",
       "      <td>51.5</td>\n",
       "      <td>53.2</td>\n",
       "    </tr>\n",
       "    <tr>\n",
       "      <th>275</th>\n",
       "      <td>18000</td>\n",
       "      <td>914</td>\n",
       "      <td>WL/360 (kN/m)</td>\n",
       "      <td>2.0</td>\n",
       "      <td>3.0</td>\n",
       "      <td>3.0</td>\n",
       "      <td>3.0</td>\n",
       "      <td>4.0</td>\n",
       "      <td>4.0</td>\n",
       "      <td>5.0</td>\n",
       "      <td>5.0</td>\n",
       "      <td>6.0</td>\n",
       "      <td>6.0</td>\n",
       "      <td>6.0</td>\n",
       "      <td>7.0</td>\n",
       "    </tr>\n",
       "  </tbody>\n",
       "</table>\n",
       "</div>"
      ],
      "text/plain": [
       "      span  depth           value   4.5   6.3   8.1   9.9  11.7  13.5  15.3  \\\n",
       "258  17000    914  Self Wt (kg/m)  15.9  18.4  21.0  25.7  26.3  29.0  30.8   \n",
       "259  17000    914   WL/360 (kN/m)   2.0   2.0   3.0   4.0   4.0   4.0   5.0   \n",
       "274  18000    914  Self Wt (kg/m)  16.1  20.7  20.9  26.5  28.6  31.0  34.4   \n",
       "275  18000    914   WL/360 (kN/m)   2.0   3.0   3.0   3.0   4.0   4.0   5.0   \n",
       "\n",
       "     17.1  18.9  20.7  22.5  24.3  \n",
       "258  34.0  37.9  40.0  45.3  46.0  \n",
       "259   5.0   6.0   6.0   7.0   7.0  \n",
       "274  38.1  41.7  46.2  51.5  53.2  \n",
       "275   5.0   6.0   6.0   6.0   7.0  "
      ]
     },
     "execution_count": 32,
     "metadata": {},
     "output_type": "execute_result"
    }
   ],
   "source": [
    "span_mask = (vulcraft_df['span'] < 1.05*span) & (vulcraft_df['span'] > 0.95*span) \n",
    "depth_mask = (vulcraft_df['depth'] < 1.05*depth) & (vulcraft_df['depth'] > 0.95*depth) \n",
    "vulcraft_df.loc[span_mask & depth_mask]"
   ]
  }
 ],
 "metadata": {
  "kernelspec": {
   "display_name": "Python 3.10 (pfse)",
   "language": "python",
   "name": "pfse"
  },
  "language_info": {
   "codemirror_mode": {
    "name": "ipython",
    "version": 3
   },
   "file_extension": ".py",
   "mimetype": "text/x-python",
   "name": "python",
   "nbconvert_exporter": "python",
   "pygments_lexer": "ipython3",
   "version": "3.11.7"
  }
 },
 "nbformat": 4,
 "nbformat_minor": 5
}
