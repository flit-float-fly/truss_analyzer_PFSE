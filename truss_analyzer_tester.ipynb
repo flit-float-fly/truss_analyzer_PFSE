{
 "cells": [
  {
   "cell_type": "markdown",
   "id": "1dffca44-91b7-4164-9ca9-dc05d821b460",
   "metadata": {},
   "source": [
    "# Truss Analyer Testing Zone"
   ]
  },
  {
   "cell_type": "code",
   "execution_count": 2,
   "id": "6bad0563-1544-4c23-945e-fdf5bc77eef1",
   "metadata": {},
   "outputs": [],
   "source": [
    "%load_ext autoreload\n",
    "%autoreload 2"
   ]
  },
  {
   "cell_type": "code",
   "execution_count": 3,
   "id": "64d51795-c919-48f7-ad38-c91181ebb894",
   "metadata": {},
   "outputs": [],
   "source": [
    "import numpy as np\n",
    "import pandas as pd\n",
    "import re\n",
    "import math\n",
    "import pandas as pd\n",
    "from PyNite import FEModel3D\n",
    "from PyNite.Visualization import render_model\n",
    "from rich import print\n",
    "import matplotlib.pyplot as plt\n",
    "# import truss_input as ti\n",
    "import truss_model as tm"
   ]
  },
  {
   "cell_type": "code",
   "execution_count": 5,
   "id": "b23deba8-e609-4c62-b4d4-a99868be0412",
   "metadata": {},
   "outputs": [],
   "source": [
    "# top_nodes = []\n",
    "# bot_nodes = []\n",
    "# d_w = L/(n/2)\n",
    "# for i, loc in enumerate(list(np.linspace(0, L, int(n/2+1)))):\n",
    "#     t_node = [loc, d]\n",
    "#     top_nodes.append(t_node)\n",
    "#     if i == 0:\n",
    "#         continue\n",
    "#     else: \n",
    "#         b_node = [loc-d_w/2, 0] \n",
    "#         bot_nodes.append(b_node)"
   ]
  },
  {
   "cell_type": "code",
   "execution_count": 7,
   "id": "41aa437a-4f32-4f1f-86f9-0e9d08688849",
   "metadata": {
    "scrolled": true
   },
   "outputs": [],
   "source": [
    "# Import and clean Canam's tables\n",
    "\n",
    "def remove_comma(cell):\n",
    "    number = float(cell.replace(',', ''))\n",
    "    return number\n",
    "\n",
    "canam_df = pd.read_csv('OWSJ_tables_canam.csv',header=1)\n",
    "canam_df.rename(columns={canam_df.columns[0]: 'span', canam_df.columns[1]: 'depth'}, inplace=True)\n",
    "canam_df['span'].ffill(inplace=True)\n",
    "canam_df['span']= canam_df['span']*1000\n",
    "canam_df['depth'] = canam_df['depth'].apply(remove_comma)\n",
    "canam_df['depth'] = canam_df['depth'].astype(float)\n",
    "canam_df.head(10)\n",
    "\n",
    "# save as json for linux reading\n",
    "# canam_df.to_json('canam_df.json', orient='records')"
   ]
  },
  {
   "cell_type": "code",
   "execution_count": 8,
   "id": "ac66c09a-b234-49ec-bef2-b1d1184f4962",
   "metadata": {},
   "outputs": [],
   "source": [
    "# Import Vulcraft's data\n",
    "vulcraft_df = pd.read_csv('OWSJ_tables_vulcraft.csv', header=1)\n",
    "vulcraft_df.rename(columns={\"Factored Load\": 'value'}, inplace=True)\n",
    "vulcraft_df.columns = [col.lower() for col in vulcraft_df]\n",
    "#drop first row and all bridging rows\n",
    "vulcraft_df.drop(index=0, inplace=True)\n",
    "vulcraft_df = vulcraft_df[~vulcraft_df['value'].str.contains('Bridg.')]\n",
    "#fill depths\n",
    "vulcraft_df['depth'].bfill(inplace=True)\n",
    "#convert all span values to mm\n",
    "vulcraft_df.span = vulcraft_df.span.astype(float)\n",
    "vulcraft_df.span = vulcraft_df.span*1000\n",
    "vulcraft_df.head(30)\n",
    "\n",
    "# save as json for linux reading\n",
    "# vulcraft_df.to_json('vulcraft_df.json', orient='records')"
   ]
  },
  {
   "cell_type": "code",
   "execution_count": 9,
   "id": "cd9b5771-a03d-44b8-bd07-93255439b301",
   "metadata": {},
   "outputs": [],
   "source": [
    "# Import Omega's tables\n",
    "\n",
    "def find_span(cell):\n",
    "    if \"SPAN\" in cell:\n",
    "        match_span = re.search(r'\\b(\\d+)\\b', cell)\n",
    "        return match_span.group(1)\n",
    "    else:\n",
    "        return np.nan\n",
    "\n",
    "omega_df = pd.read_csv('OWSJ_tables_omega.csv', header=None)\n",
    "col_names = [\"depth\", \"D/D\", \"E/D\", \"E/E\", \"F/E\", \"F/F\", \"G/F\", \"G/G\", \"H/G\", \"H/H\", \"K/H\", \"K/K\", \"L/K\", \"L/L\"]\n",
    "omega_df.columns = col_names\n",
    "omega_df['span'] = omega_df['depth'].apply(find_span)\n",
    "omega_df['span'].ffill(inplace=True)\n",
    "columns = ['span'] + [col for col in omega_df if col != 'span']\n",
    "omega_df = omega_df[columns]\n",
    "# Drop rows with useless info; cells with \"DEPTH\" OR \"SPAN\"\n",
    "omega_df = omega_df[~omega_df['depth'].str.contains('DEPTH') & ~omega_df['depth'].str.contains('SPAN')]\n",
    "\n",
    "# save as json for linux reading\n",
    "# omega_df.to_json('omega_df.json', orient='records')"
   ]
  },
  {
   "cell_type": "code",
   "execution_count": 10,
   "id": "1543463c-faed-4d96-8c45-ec79ab4a86d4",
   "metadata": {
    "scrolled": true
   },
   "outputs": [],
   "source": [
    "# import tabula\n",
    "# tables = tabula.read_pdf(\"metric tables from Vulcraft OWSJ.pdf\", pages='all', multiple_tables=True, pandas_options={'header': None})"
   ]
  },
  {
   "cell_type": "code",
   "execution_count": 131,
   "id": "f15201be-8245-47d5-9d4e-42f84b7a7701",
   "metadata": {},
   "outputs": [],
   "source": [
    "# Start working with the saved dataframes for testing\n",
    "canam_df = pd.read_json(\"canam_df.json\")\n",
    "omega_df = pd.read_json(\"omega_df.json\")\n",
    "vulcraft_df = pd.read_json(\"vulcraft_df.json\")\n",
    "canam_df.name = \"canam\"\n",
    "omega_df.name = \"omega\"\n",
    "vulcraft_df.name = \"vulcraft\"\n",
    "\n",
    "OWSJ_dfs = [canam_df, omega_df, vulcraft_df]\n",
    "\n",
    "span = 6000\n",
    "depth = 500\n",
    "f_load = 8"
   ]
  },
  {
   "cell_type": "code",
   "execution_count": 132,
   "id": "8d460710-9d4d-46c0-a801-2f746c640b07",
   "metadata": {},
   "outputs": [
    {
     "data": {
      "text/html": [
       "<pre style=\"white-space:pre;overflow-x:auto;line-height:normal;font-family:Menlo,'DejaVu Sans Mono',consolas,'Courier New',monospace\">canam\n",
       "</pre>\n"
      ],
      "text/plain": [
       "canam\n"
      ]
     },
     "metadata": {},
     "output_type": "display_data"
    },
    {
     "data": {
      "text/html": [
       "<pre style=\"white-space:pre;overflow-x:auto;line-height:normal;font-family:Menlo,'DejaVu Sans Mono',consolas,'Courier New',monospace\">omega\n",
       "</pre>\n"
      ],
      "text/plain": [
       "omega\n"
      ]
     },
     "metadata": {},
     "output_type": "display_data"
    },
    {
     "data": {
      "text/html": [
       "<pre style=\"white-space:pre;overflow-x:auto;line-height:normal;font-family:Menlo,'DejaVu Sans Mono',consolas,'Courier New',monospace\">vulcraft\n",
       "</pre>\n"
      ],
      "text/plain": [
       "vulcraft\n"
      ]
     },
     "metadata": {},
     "output_type": "display_data"
    }
   ],
   "source": [
    "#Run through each dataframe of tables and pull out the expected weight kg/m of joist used\n",
    "def find_adjacent_numbers(numbers, target):\n",
    "    \"\"\"\n",
    "    Find numbers adjacent to target number for the sake of running interpolation\n",
    "    \"\"\"\n",
    "    sorted_numbers = np.sort(numbers) # Sort the list of numbers\n",
    "    index = np.searchsorted(sorted_numbers, target) # Find the index of the target number\n",
    "    # Get the two numbers adjacent to the target number\n",
    "    if index == 0:\n",
    "        return sorted_numbers[0], sorted_numbers[0]\n",
    "    elif index == len(sorted_numbers):\n",
    "        return sorted_numbers[-1], sorted_numbers[-1]\n",
    "    else:\n",
    "        return sorted_numbers[index - 1], sorted_numbers[index]\n",
    "        \n",
    "def isolate_sw(cell):\n",
    "    sw = float(cell.split(\"\\n\")[0])\n",
    "    return sw\n",
    "\n",
    "\n",
    "for df in OWSJ_dfs:\n",
    "    name = df.name\n",
    "    print(name)\n",
    "    span_mask = (df['span'] < 1.05*span) & (df['span'] > 0.95*span) \n",
    "    depth_mask = (df['depth'] < 1.05*depth) & (df['depth'] > 0.95*depth)\n",
    "    df = df.loc[span_mask & depth_mask]\n",
    "    #Omega\n",
    "    if name == \"omega\":\n",
    "        cols = [col for col in df.columns if '/' in col]\n",
    "        df_sliced = df[cols]\n",
    "        chords = []\n",
    "        sws = []\n",
    "        for column in df_sliced.columns:\n",
    "            for index, cell_value in enumerate(df_sliced[column]):\n",
    "                try:\n",
    "                    f = float(cell_value.split(\"\\n\")[0])\n",
    "                    sw = float(cell_value.split(\"\\n\")[2])\n",
    "                    if (f > 0.97*f_load) & (f < 1.03*f_load):\n",
    "                        chords.append((column, sw))\n",
    "                        sws.append(sw)\n",
    "                except:\n",
    "                    continue\n",
    "        if sws == []:\n",
    "            expected_sw_omega = \"no values found in that range\"\n",
    "        else:\n",
    "            expected_sw_omega = np.mean(sws)\n",
    "    #Vulcraft         \n",
    "    elif name == \"vulcraft\":\n",
    "        df = df[df['value'].str.contains('Self')] #drop L/360 row\n",
    "        col_nums = [float(col) for col in df.columns if \".\" in col] #convert factored headers to float\n",
    "        adjacent_f_loads = find_adjacent_numbers(col_nums, f_load) #find interpolated, likely average self weight\n",
    "        df = df[[str(min(adjacent_f_loads)), str(max(adjacent_f_loads))]]\n",
    "        if adjacent_f_loads[1] == adjacent_f_loads[0]:\n",
    "            expected_sw_vulcraft = df[str(adjacent_f_loads[0])].values.mean()\n",
    "        else:\n",
    "            ratio = (f_load - min(adjacent_f_loads))/(abs(adjacent_f_loads[1] - adjacent_f_loads[0]))\n",
    "            df[str(f_load)] = (df[str(max(adjacent_f_loads))] - df[str(min(adjacent_f_loads))])*ratio + df[str(min(adjacent_f_loads))]\n",
    "            expected_sw_vulcraft = df[str(f_load)].values.mean()\n",
    "    #Canam\n",
    "    elif name == \"canam\":\n",
    "        col_nums = [float(col) for col in df.columns if \".\" in col] #convert factored headers to float\n",
    "        adjacent_f_loads = find_adjacent_numbers(col_nums, f_load) #find interpolated, likely average self weight\n",
    "        df = df[[str(min(adjacent_f_loads)), str(max(adjacent_f_loads))]]\n",
    "        df = df.map(isolate_sw)\n",
    "        if adjacent_f_loads[1] == adjacent_f_loads[0]:\n",
    "            expected_sw_canam = df[str(adjacent_f_loads[0])].values.mean()\n",
    "        else:\n",
    "            ratio = (f_load - min(adjacent_f_loads))/(abs(adjacent_f_loads[1] - adjacent_f_loads[0]))\n",
    "            df[str(f_load)] = (df[str(max(adjacent_f_loads))] - df[str(min(adjacent_f_loads))])*ratio + df[str(min(adjacent_f_loads))]\n",
    "            expected_sw_canam = df[str(f_load)].values.mean()"
   ]
  },
  {
   "cell_type": "code",
   "execution_count": 133,
   "id": "1ef70dac-a2c7-4385-b84b-c8521719d8ab",
   "metadata": {},
   "outputs": [
    {
     "data": {
      "text/html": [
       "<pre style=\"white-space:pre;overflow-x:auto;line-height:normal;font-family:Menlo,'DejaVu Sans Mono',consolas,'Courier New',monospace\"><span style=\"color: #808000; text-decoration-color: #808000\">expected_sw_canam</span>=<span style=\"color: #008080; text-decoration-color: #008080; font-weight: bold\">12.866666666666667</span>, <span style=\"color: #808000; text-decoration-color: #808000\">expected_sw_vulcraft</span>=<span style=\"color: #008080; text-decoration-color: #008080; font-weight: bold\">9.2</span>, <span style=\"color: #808000; text-decoration-color: #808000\">expected_sw_omega</span>=<span style=\"color: #008000; text-decoration-color: #008000\">'no values found in that range'</span>\n",
       "</pre>\n"
      ],
      "text/plain": [
       "\u001b[33mexpected_sw_canam\u001b[0m=\u001b[1;36m12\u001b[0m\u001b[1;36m.866666666666667\u001b[0m, \u001b[33mexpected_sw_vulcraft\u001b[0m=\u001b[1;36m9\u001b[0m\u001b[1;36m.2\u001b[0m, \u001b[33mexpected_sw_omega\u001b[0m=\u001b[32m'no values found in that range'\u001b[0m\n"
      ]
     },
     "metadata": {},
     "output_type": "display_data"
    }
   ],
   "source": [
    "print(f'{expected_sw_canam=}, {expected_sw_vulcraft=}, {expected_sw_omega=}')"
   ]
  },
  {
   "cell_type": "code",
   "execution_count": 134,
   "id": "ba1a9ea4-aeee-4611-a4ba-3fd56cb95ac5",
   "metadata": {},
   "outputs": [
    {
     "data": {
      "text/plain": [
       "[]"
      ]
     },
     "execution_count": 134,
     "metadata": {},
     "output_type": "execute_result"
    }
   ],
   "source": [
    "chords"
   ]
  },
  {
   "cell_type": "code",
   "execution_count": 59,
   "id": "43a5c3ab-0708-4056-8951-687e275da1ab",
   "metadata": {},
   "outputs": [
    {
     "data": {
      "text/html": [
       "<div>\n",
       "<style scoped>\n",
       "    .dataframe tbody tr th:only-of-type {\n",
       "        vertical-align: middle;\n",
       "    }\n",
       "\n",
       "    .dataframe tbody tr th {\n",
       "        vertical-align: top;\n",
       "    }\n",
       "\n",
       "    .dataframe thead th {\n",
       "        text-align: right;\n",
       "    }\n",
       "</style>\n",
       "<table border=\"1\" class=\"dataframe\">\n",
       "  <thead>\n",
       "    <tr style=\"text-align: right;\">\n",
       "      <th></th>\n",
       "      <th>span</th>\n",
       "      <th>depth</th>\n",
       "      <th>value</th>\n",
       "      <th>4.5</th>\n",
       "      <th>6.3</th>\n",
       "      <th>8.1</th>\n",
       "      <th>9.9</th>\n",
       "      <th>11.7</th>\n",
       "      <th>13.5</th>\n",
       "      <th>15.3</th>\n",
       "      <th>17.1</th>\n",
       "      <th>18.9</th>\n",
       "      <th>20.7</th>\n",
       "      <th>22.5</th>\n",
       "      <th>24.3</th>\n",
       "    </tr>\n",
       "  </thead>\n",
       "  <tbody>\n",
       "    <tr>\n",
       "      <th>258</th>\n",
       "      <td>17000</td>\n",
       "      <td>914</td>\n",
       "      <td>Self Wt (kg/m)</td>\n",
       "      <td>15.9</td>\n",
       "      <td>18.4</td>\n",
       "      <td>21.0</td>\n",
       "      <td>25.7</td>\n",
       "      <td>26.3</td>\n",
       "      <td>29.0</td>\n",
       "      <td>30.8</td>\n",
       "      <td>34.0</td>\n",
       "      <td>37.9</td>\n",
       "      <td>40.0</td>\n",
       "      <td>45.3</td>\n",
       "      <td>46.0</td>\n",
       "    </tr>\n",
       "    <tr>\n",
       "      <th>274</th>\n",
       "      <td>18000</td>\n",
       "      <td>914</td>\n",
       "      <td>Self Wt (kg/m)</td>\n",
       "      <td>16.1</td>\n",
       "      <td>20.7</td>\n",
       "      <td>20.9</td>\n",
       "      <td>26.5</td>\n",
       "      <td>28.6</td>\n",
       "      <td>31.0</td>\n",
       "      <td>34.4</td>\n",
       "      <td>38.1</td>\n",
       "      <td>41.7</td>\n",
       "      <td>46.2</td>\n",
       "      <td>51.5</td>\n",
       "      <td>53.2</td>\n",
       "    </tr>\n",
       "  </tbody>\n",
       "</table>\n",
       "</div>"
      ],
      "text/plain": [
       "      span  depth           value   4.5   6.3   8.1   9.9  11.7  13.5  15.3  \\\n",
       "258  17000    914  Self Wt (kg/m)  15.9  18.4  21.0  25.7  26.3  29.0  30.8   \n",
       "274  18000    914  Self Wt (kg/m)  16.1  20.7  20.9  26.5  28.6  31.0  34.4   \n",
       "\n",
       "     17.1  18.9  20.7  22.5  24.3  \n",
       "258  34.0  37.9  40.0  45.3  46.0  \n",
       "274  38.1  41.7  46.2  51.5  53.2  "
      ]
     },
     "execution_count": 59,
     "metadata": {},
     "output_type": "execute_result"
    }
   ],
   "source": [
    "span_mask = (vulcraft_df['span'] < 1.05*span) & (vulcraft_df['span'] > 0.95*span) \n",
    "depth_mask = (vulcraft_df['depth'] < 1.05*depth) & (vulcraft_df['depth'] > 0.95*depth) \n",
    "df = vulcraft_df.loc[span_mask & depth_mask]\n",
    "df = df[df['value'].str.contains('Self')] #drop L/360 row\n",
    "df"
   ]
  },
  {
   "cell_type": "code",
   "execution_count": 18,
   "id": "1565f21e-f41d-44ff-bc29-42241e989066",
   "metadata": {},
   "outputs": [
    {
     "data": {
      "text/html": [
       "<div>\n",
       "<style scoped>\n",
       "    .dataframe tbody tr th:only-of-type {\n",
       "        vertical-align: middle;\n",
       "    }\n",
       "\n",
       "    .dataframe tbody tr th {\n",
       "        vertical-align: top;\n",
       "    }\n",
       "\n",
       "    .dataframe thead th {\n",
       "        text-align: right;\n",
       "    }\n",
       "</style>\n",
       "<table border=\"1\" class=\"dataframe\">\n",
       "  <thead>\n",
       "    <tr style=\"text-align: right;\">\n",
       "      <th></th>\n",
       "      <th>span</th>\n",
       "      <th>depth</th>\n",
       "      <th>4.5</th>\n",
       "      <th>6.0</th>\n",
       "      <th>7.5</th>\n",
       "      <th>9.0</th>\n",
       "      <th>10.5</th>\n",
       "      <th>12.0</th>\n",
       "      <th>13.5</th>\n",
       "      <th>15.0</th>\n",
       "      <th>16.5</th>\n",
       "      <th>18.0</th>\n",
       "      <th>19.5</th>\n",
       "      <th>21.0</th>\n",
       "      <th>22.5</th>\n",
       "    </tr>\n",
       "  </thead>\n",
       "  <tbody>\n",
       "    <tr>\n",
       "      <th>99</th>\n",
       "      <td>17000</td>\n",
       "      <td>900</td>\n",
       "      <td>15.1\\n1.9\\n1.00</td>\n",
       "      <td>17.4\\n2.3\\n1.00</td>\n",
       "      <td>19.1\\n2.6\\n1.00</td>\n",
       "      <td>21.6\\n3.0\\n1.00</td>\n",
       "      <td>24.4\\n3.3\\n1.00</td>\n",
       "      <td>26.5\\n3.7\\n1.00</td>\n",
       "      <td>29.4\\n4.1\\n1.00</td>\n",
       "      <td>31.5\\n4.4\\n1.00</td>\n",
       "      <td>34.3\\n4.8\\n1.00</td>\n",
       "      <td>36.2\\n5.1\\n1.13</td>\n",
       "      <td>38.3\\n5.4\\n1.15</td>\n",
       "      <td>41.7\\n5.9\\n1.14</td>\n",
       "      <td>46.0\\n6.7\\n1.18</td>\n",
       "    </tr>\n",
       "    <tr>\n",
       "      <th>105</th>\n",
       "      <td>18000</td>\n",
       "      <td>900</td>\n",
       "      <td>16.3\\n1.8\\n1.00</td>\n",
       "      <td>19.3\\n2.2\\n1.00</td>\n",
       "      <td>22.0\\n2.6\\n1.00</td>\n",
       "      <td>24.8\\n2.9\\n1.00</td>\n",
       "      <td>28.0\\n3.3\\n1.00</td>\n",
       "      <td>30.5\\n3.6\\n1.00</td>\n",
       "      <td>33.4\\n4.0\\n1.00</td>\n",
       "      <td>37.5\\n4.5\\n1.03</td>\n",
       "      <td>38.8\\n4.8\\n1.17</td>\n",
       "      <td>44.9\\n5.5\\n1.21</td>\n",
       "      <td>45.7\\n5.7\\n1.17</td>\n",
       "      <td>49.5\\n6.1\\n1.24</td>\n",
       "      <td>52.9\\n6.6\\n1.26</td>\n",
       "    </tr>\n",
       "  </tbody>\n",
       "</table>\n",
       "</div>"
      ],
      "text/plain": [
       "      span  depth              4.5              6.0              7.5  \\\n",
       "99   17000    900  15.1\\n1.9\\n1.00  17.4\\n2.3\\n1.00  19.1\\n2.6\\n1.00   \n",
       "105  18000    900  16.3\\n1.8\\n1.00  19.3\\n2.2\\n1.00  22.0\\n2.6\\n1.00   \n",
       "\n",
       "                 9.0             10.5             12.0             13.5  \\\n",
       "99   21.6\\n3.0\\n1.00  24.4\\n3.3\\n1.00  26.5\\n3.7\\n1.00  29.4\\n4.1\\n1.00   \n",
       "105  24.8\\n2.9\\n1.00  28.0\\n3.3\\n1.00  30.5\\n3.6\\n1.00  33.4\\n4.0\\n1.00   \n",
       "\n",
       "                15.0             16.5             18.0             19.5  \\\n",
       "99   31.5\\n4.4\\n1.00  34.3\\n4.8\\n1.00  36.2\\n5.1\\n1.13  38.3\\n5.4\\n1.15   \n",
       "105  37.5\\n4.5\\n1.03  38.8\\n4.8\\n1.17  44.9\\n5.5\\n1.21  45.7\\n5.7\\n1.17   \n",
       "\n",
       "                21.0             22.5  \n",
       "99   41.7\\n5.9\\n1.14  46.0\\n6.7\\n1.18  \n",
       "105  49.5\\n6.1\\n1.24  52.9\\n6.6\\n1.26  "
      ]
     },
     "execution_count": 18,
     "metadata": {},
     "output_type": "execute_result"
    }
   ],
   "source": [
    "canam_df.loc[span_mask & depth_mask]"
   ]
  }
 ],
 "metadata": {
  "kernelspec": {
   "display_name": "pfse",
   "language": "python",
   "name": "pfse"
  },
  "language_info": {
   "codemirror_mode": {
    "name": "ipython",
    "version": 3
   },
   "file_extension": ".py",
   "mimetype": "text/x-python",
   "name": "python",
   "nbconvert_exporter": "python",
   "pygments_lexer": "ipython3",
   "version": "3.11.7"
  }
 },
 "nbformat": 4,
 "nbformat_minor": 5
}
