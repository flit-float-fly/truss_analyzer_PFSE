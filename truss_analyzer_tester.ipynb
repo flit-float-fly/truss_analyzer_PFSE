{
 "cells": [
  {
   "cell_type": "markdown",
   "id": "1dffca44-91b7-4164-9ca9-dc05d821b460",
   "metadata": {},
   "source": [
    "# Truss Analyer Testing Zone"
   ]
  },
  {
   "cell_type": "code",
   "execution_count": 1,
   "id": "6bad0563-1544-4c23-945e-fdf5bc77eef1",
   "metadata": {},
   "outputs": [],
   "source": [
    "%load_ext autoreload\n",
    "%autoreload 2"
   ]
  },
  {
   "cell_type": "code",
   "execution_count": 15,
   "id": "64d51795-c919-48f7-ad38-c91181ebb894",
   "metadata": {},
   "outputs": [],
   "source": [
    "import numpy as np\n",
    "import pandas as pd\n",
    "import re\n",
    "import math\n",
    "from PyNite import FEModel3D\n",
    "from PyNite.Visualization import render_model\n",
    "from rich import print\n",
    "import pandas as pd\n",
    "import matplotlib.pyplot as plt\n",
    "# import truss_input as ti\n",
    "import truss_model as tm"
   ]
  },
  {
   "cell_type": "code",
   "execution_count": 97,
   "id": "41aa437a-4f32-4f1f-86f9-0e9d08688849",
   "metadata": {},
   "outputs": [],
   "source": [
    "# Import Canam's tables\n",
    "\n",
    "def remove_comma(cell):\n",
    "    number = float(cell.replace(',', ''))\n",
    "    return number\n",
    "\n",
    "canam_df = pd.read_csv('OWSJ_tables_canam.csv',header=1)\n",
    "canam_df.rename(columns={canam_df.columns[0]: 'span', canam_df.columns[1]: 'depth'}, inplace=True)\n",
    "canam_df['span'].ffill(inplace=True)\n",
    "canam_df['span']= canam_df['span']*1000\n",
    "canam_df['depth'] = canam_df['depth'].apply(remove_comma)\n",
    "canam_df['depth'] = canam_df['depth'].astype(float)\n",
    "canam_df.head(10)\n",
    "\n",
    "# save as json for linux reading\n",
    "canam_df.to_json('canam_df.json', orient='records')"
   ]
  },
  {
   "cell_type": "code",
   "execution_count": 98,
   "id": "ac66c09a-b234-49ec-bef2-b1d1184f4962",
   "metadata": {},
   "outputs": [],
   "source": [
    "# Import Vulcraft's data\n",
    "vulcraft_df = pd.read_csv('OWSJ_tables_vulcraft.csv', header=1)\n",
    "vulcraft_df.rename(columns={\"Factored Load\": 'value'}, inplace=True)\n",
    "vulcraft_df.columns = [col.lower() for col in vulcraft_df]\n",
    "#drop first row and all bridging rows\n",
    "vulcraft_df.drop(index=0, inplace=True)\n",
    "vulcraft_df = vulcraft_df[~vulcraft_df['value'].str.contains('Bridg.')]\n",
    "#fill depths\n",
    "vulcraft_df['depth'].bfill(inplace=True)\n",
    "#convert all span values to mm\n",
    "vulcraft_df.span = vulcraft_df.span.astype(float)\n",
    "vulcraft_df.span = vulcraft_df.span*1000\n",
    "vulcraft_df.head(30)\n",
    "\n",
    "# save as json for linux reading\n",
    "vulcraft_df.to_json('vulcraft_df.json', orient='records')"
   ]
  },
  {
   "cell_type": "code",
   "execution_count": 99,
   "id": "cd9b5771-a03d-44b8-bd07-93255439b301",
   "metadata": {},
   "outputs": [],
   "source": [
    "# Import Omega's tables\n",
    "\n",
    "def find_span(cell):\n",
    "    if \"SPAN\" in cell:\n",
    "        match_span = re.search(r'\\b(\\d+)\\b', cell)\n",
    "        return match_span.group(1)\n",
    "    else:\n",
    "        return np.nan\n",
    "\n",
    "omega_df = pd.read_csv('OWSJ_tables_omega.csv', header=None)\n",
    "col_names = [\"depth\", \"D/D\", \"E/D\", \"E/E\", \"F/E\", \"F/F\", \"G/F\", \"G/G\", \"H/G\", \"H/H\", \"K/H\", \"K/K\", \"L/K\", \"L/L\"]\n",
    "omega_df.columns = col_names\n",
    "omega_df['span'] = omega_df['depth'].apply(find_span)\n",
    "omega_df['span'].ffill(inplace=True)\n",
    "columns = ['span'] + [col for col in omega_df if col != 'span']\n",
    "omega_df = omega_df[columns]\n",
    "# Drop rows with useless info; cells with \"DEPTH\" OR \"SPAN\"\n",
    "omega_df = omega_df[~omega_df['depth'].str.contains('DEPTH') & ~omega_df['depth'].str.contains('SPAN')]\n",
    "\n",
    "# save as json for linux reading\n",
    "omega_df.to_json('omega_df.json', orient='records')"
   ]
  },
  {
   "cell_type": "code",
   "execution_count": 43,
   "id": "1543463c-faed-4d96-8c45-ec79ab4a86d4",
   "metadata": {
    "scrolled": true
   },
   "outputs": [],
   "source": [
    "import tabula\n",
    "tables = tabula.read_pdf(\"metric tables from Vulcraft OWSJ.pdf\", pages='all', multiple_tables=True, pandas_options={'header': None})\n"
   ]
  },
  {
   "cell_type": "code",
   "execution_count": null,
   "id": "b23deba8-e609-4c62-b4d4-a99868be0412",
   "metadata": {},
   "outputs": [],
   "source": [
    "top_nodes = []\n",
    "bot_nodes = []\n",
    "d_w = L/(n/2)\n",
    "for i, loc in enumerate(list(np.linspace(0, L, int(n/2+1)))):\n",
    "    t_node = [loc, d]\n",
    "    top_nodes.append(t_node)\n",
    "    if i == 0:\n",
    "        continue\n",
    "    else: \n",
    "        b_node = [loc-d_w/2, 0] \n",
    "        bot_nodes.append(b_node)"
   ]
  },
  {
   "cell_type": "code",
   "execution_count": 85,
   "id": "1b2d7820-734d-4074-becf-1e3264729d06",
   "metadata": {},
   "outputs": [
    {
     "data": {
      "text/plain": [
       "dtype('O')"
      ]
     },
     "execution_count": 85,
     "metadata": {},
     "output_type": "execute_result"
    }
   ],
   "source": [
    "vulcraft_df.depth.dtype"
   ]
  },
  {
   "cell_type": "code",
   "execution_count": null,
   "id": "eee206b5-f408-41f5-9e1d-d1b83fa2cd19",
   "metadata": {},
   "outputs": [],
   "source": []
  }
 ],
 "metadata": {
  "kernelspec": {
   "display_name": "pfse",
   "language": "python",
   "name": "pfse"
  },
  "language_info": {
   "codemirror_mode": {
    "name": "ipython",
    "version": 3
   },
   "file_extension": ".py",
   "mimetype": "text/x-python",
   "name": "python",
   "nbconvert_exporter": "python",
   "pygments_lexer": "ipython3",
   "version": "3.11.7"
  }
 },
 "nbformat": 4,
 "nbformat_minor": 5
}
